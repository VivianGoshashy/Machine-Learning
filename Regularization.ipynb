{
 "cells": [
  {
   "cell_type": "markdown",
   "metadata": {},
   "source": [
    "# REGULARIZATION"
   ]
  },
  {
   "cell_type": "markdown",
   "metadata": {},
   "source": [
    "In Machine Learning, we train our data and let it learn from it. When fitting our data points, our goal is to find the best fit when it can find all necessary patterns in our data and avoid random data points and unnecessary patterns called Noise. While training a machine learning model, the model can easily be overfitted or under fitted. To avoid this, we use regularization in machine learning to properly fit a model onto our test set."
   ]
  },
  {
   "cell_type": "markdown",
   "metadata": {},
   "source": [
    "Regularization: This is the technique that helps in avoiding overfitting and also it increasese model interpretability. This is a form of regression, that constrains / regularizes or shrinks the coefficient estimates towards zero. In addition, this technique discourages learning a more complex or flexible model, to avoid the risk of overfitting. Further, Regularization refers to techniques that are used to calibrate machine learning models in order to minimize the adjusted loss function and prevent overfitting or underfitting.\n",
    "\n",
    "Overfitted Model: The model is not able to predict the output or target column for the unseen data by introducing noise in the output. When a Machine learning model tries to learn from the details along with the noise in the data and tries to fit each data point on the curve.\n",
    "\n",
    "Underfitting model: When a Machine learning model can neither learn the relationship between variables in the testing data nor predict or classify a new data point.\n",
    "\n",
    "\"Noise\" - this means those data points in the dataset which don't really represent the true properties of your data, but only due to a random chance.\n",
    "\n",
    "Types of Regularization Techniques\n",
    "1. Ridge Regression\n",
    "\n",
    "Ridge Regression is also known as L-2 norm. It is one of the Regularization technique that is used to avoid overfitting or underfitting models by adding the penalty equivalent to the sum of the squares of the magnitude of coefficients. By changing the values of the penalty function, we are controlling the penalty term. The higher the penalty, it reduces the magnitude of coefficients. This technique shrinks the estimated coefficients towards zero. It seeks coefficient estimates that fit the data well, by making the RSS (Residual Sum of Squares) small.\n",
    "\n",
    "2. Lasso Regression\n",
    "\n",
    "Lasso Regression is also known as L-1 norm. It's a technique used to shrink all of the coefficients to exactly zero when the tuning parameter lambda is sufficiently large. Lasso Regression yields sparse models, modles that involve only a subset of the variables."
   ]
  },
  {
   "cell_type": "markdown",
   "metadata": {},
   "source": [
    "# Application on Dataset"
   ]
  },
  {
   "cell_type": "markdown",
   "metadata": {},
   "source": [
    "We will use dataset that describes First year students GPA. The data set contains information about 219 randomly selected first-year students at a midwestern college. This dataset contains variables such as GPA(first year GPA), HSGPA(high school GPA), SATV, SATM, Male(an indicator variable for Male vs Female), HU, SS, White(an indicator variable for white student vs non white), FirstGen(an indicator variable for first-generation students), and CollegeBound.\n",
    "We will be using GPA as our response veariable and other variables as predictors. Our main goals are;\n",
    "\n",
    "1. Standardize independent variables if necessary.\n",
    "\n",
    "2. Pull off some of the data to use as training data and some to use as test data. Set up a grid for λ (but here we will use alpha instead).\n",
    "\n",
    "3.  Fit a ridge regression to the training data, then use cross-validation to choose the optimal value of λ. For this value of λ, calculate the test MSE on our test (validation) set. Record this test MSE, the value of λ, and the coefficients from the fitted ridge regression. Are any of the estimated coefficients 0? Is this what you would expect?\n",
    "\n",
    "4. Repeat the previous bullet point for lasso regression.\n",
    "\n",
    "5. Determine which variables are most important\n",
    "\n",
    "Note: Lower RMSE and higher R-Squared values are indicative of a good model.\n"
   ]
  },
  {
   "cell_type": "code",
   "execution_count": 1,
   "metadata": {},
   "outputs": [],
   "source": [
    "# Checking version for the numpy\n",
    "# print(np.__version__)"
   ]
  },
  {
   "cell_type": "code",
   "execution_count": 2,
   "metadata": {},
   "outputs": [],
   "source": [
    "# Checking version for pandas\n",
    "# print(pd.__version__)"
   ]
  },
  {
   "cell_type": "code",
   "execution_count": 3,
   "metadata": {},
   "outputs": [
    {
     "name": "stdout",
     "output_type": "stream",
     "text": [
      "Requirement already up-to-date: pandas in c:\\users\\vivia\\anaconda3\\lib\\site-packages (1.3.5)\n",
      "Requirement already satisfied, skipping upgrade: numpy>=1.17.3; platform_machine != \"aarch64\" and platform_machine != \"arm64\" and python_version < \"3.10\" in c:\\users\\vivia\\anaconda3\\lib\\site-packages (from pandas) (1.21.5)\n",
      "Requirement already satisfied, skipping upgrade: python-dateutil>=2.7.3 in c:\\users\\vivia\\anaconda3\\lib\\site-packages (from pandas) (2.8.0)\n",
      "Requirement already satisfied, skipping upgrade: pytz>=2017.3 in c:\\users\\vivia\\anaconda3\\lib\\site-packages (from pandas) (2019.3)\n",
      "Requirement already satisfied, skipping upgrade: six>=1.5 in c:\\users\\vivia\\anaconda3\\lib\\site-packages (from python-dateutil>=2.7.3->pandas) (1.12.0)\n"
     ]
    }
   ],
   "source": [
    "# updating pandas and numpy\n",
    "!pip install pandas --upgrade\n",
    "# c"
   ]
  },
  {
   "cell_type": "code",
   "execution_count": 4,
   "metadata": {},
   "outputs": [
    {
     "name": "stderr",
     "output_type": "stream",
     "text": [
      "C:\\Users\\vivia\\Anaconda3\\lib\\site-packages\\statsmodels\\tools\\_testing.py:19: FutureWarning: pandas.util.testing is deprecated. Use the functions in the public API at pandas.testing instead.\n",
      "  import pandas.util.testing as tm\n"
     ]
    }
   ],
   "source": [
    "# importing libraries\n",
    "%matplotlib inline\n",
    "\n",
    "import seaborn as sns\n",
    "import matplotlib.pyplot as plt\n",
    "import pandas as pd\n",
    "import numpy as np\n",
    "import pandas.util.testing as tm\n",
    "\n",
    "from sklearn.model_selection import train_test_split\n",
    "from sklearn.linear_model import Ridge\n",
    "from sklearn.linear_model import Lasso\n",
    "from sklearn.metrics import mean_squared_error\n",
    "from sklearn.metrics import r2_score\n",
    "from sklearn.linear_model import LinearRegression\n",
    "from sklearn import preprocessing \n",
    "from sklearn.preprocessing import StandardScaler\n",
    "from statsmodels.stats.outliers_influence import variance_inflation_factor\n",
    "from sklearn.linear_model import RidgeCV\n",
    "from sklearn.linear_model import LassoCV\n",
    "from sklearn.model_selection import KFold"
   ]
  },
  {
   "cell_type": "code",
   "execution_count": 5,
   "metadata": {},
   "outputs": [],
   "source": [
    "# Loading dataset\n",
    "credit_card = pd.read_csv('Credit.csv')"
   ]
  },
  {
   "cell_type": "code",
   "execution_count": 6,
   "metadata": {},
   "outputs": [
    {
     "data": {
      "text/html": [
       "<div>\n",
       "<style scoped>\n",
       "    .dataframe tbody tr th:only-of-type {\n",
       "        vertical-align: middle;\n",
       "    }\n",
       "\n",
       "    .dataframe tbody tr th {\n",
       "        vertical-align: top;\n",
       "    }\n",
       "\n",
       "    .dataframe thead th {\n",
       "        text-align: right;\n",
       "    }\n",
       "</style>\n",
       "<table border=\"1\" class=\"dataframe\">\n",
       "  <thead>\n",
       "    <tr style=\"text-align: right;\">\n",
       "      <th></th>\n",
       "      <th>Unnamed: 0</th>\n",
       "      <th>Income</th>\n",
       "      <th>Limit</th>\n",
       "      <th>Rating</th>\n",
       "      <th>Cards</th>\n",
       "      <th>Age</th>\n",
       "      <th>Education</th>\n",
       "      <th>Gender</th>\n",
       "      <th>Student</th>\n",
       "      <th>Married</th>\n",
       "      <th>Ethnicity</th>\n",
       "      <th>Balance</th>\n",
       "    </tr>\n",
       "  </thead>\n",
       "  <tbody>\n",
       "    <tr>\n",
       "      <th>0</th>\n",
       "      <td>1</td>\n",
       "      <td>14.891</td>\n",
       "      <td>3606</td>\n",
       "      <td>283</td>\n",
       "      <td>2</td>\n",
       "      <td>34</td>\n",
       "      <td>11</td>\n",
       "      <td>Male</td>\n",
       "      <td>No</td>\n",
       "      <td>Yes</td>\n",
       "      <td>Caucasian</td>\n",
       "      <td>333</td>\n",
       "    </tr>\n",
       "    <tr>\n",
       "      <th>1</th>\n",
       "      <td>2</td>\n",
       "      <td>106.025</td>\n",
       "      <td>6645</td>\n",
       "      <td>483</td>\n",
       "      <td>3</td>\n",
       "      <td>82</td>\n",
       "      <td>15</td>\n",
       "      <td>Female</td>\n",
       "      <td>Yes</td>\n",
       "      <td>Yes</td>\n",
       "      <td>Asian</td>\n",
       "      <td>903</td>\n",
       "    </tr>\n",
       "    <tr>\n",
       "      <th>2</th>\n",
       "      <td>3</td>\n",
       "      <td>104.593</td>\n",
       "      <td>7075</td>\n",
       "      <td>514</td>\n",
       "      <td>4</td>\n",
       "      <td>71</td>\n",
       "      <td>11</td>\n",
       "      <td>Male</td>\n",
       "      <td>No</td>\n",
       "      <td>No</td>\n",
       "      <td>Asian</td>\n",
       "      <td>580</td>\n",
       "    </tr>\n",
       "    <tr>\n",
       "      <th>3</th>\n",
       "      <td>4</td>\n",
       "      <td>148.924</td>\n",
       "      <td>9504</td>\n",
       "      <td>681</td>\n",
       "      <td>3</td>\n",
       "      <td>36</td>\n",
       "      <td>11</td>\n",
       "      <td>Female</td>\n",
       "      <td>No</td>\n",
       "      <td>No</td>\n",
       "      <td>Asian</td>\n",
       "      <td>964</td>\n",
       "    </tr>\n",
       "    <tr>\n",
       "      <th>4</th>\n",
       "      <td>5</td>\n",
       "      <td>55.882</td>\n",
       "      <td>4897</td>\n",
       "      <td>357</td>\n",
       "      <td>2</td>\n",
       "      <td>68</td>\n",
       "      <td>16</td>\n",
       "      <td>Male</td>\n",
       "      <td>No</td>\n",
       "      <td>Yes</td>\n",
       "      <td>Caucasian</td>\n",
       "      <td>331</td>\n",
       "    </tr>\n",
       "  </tbody>\n",
       "</table>\n",
       "</div>"
      ],
      "text/plain": [
       "   Unnamed: 0   Income  Limit  Rating  Cards  Age  Education  Gender Student  \\\n",
       "0           1   14.891   3606     283      2   34         11    Male      No   \n",
       "1           2  106.025   6645     483      3   82         15  Female     Yes   \n",
       "2           3  104.593   7075     514      4   71         11    Male      No   \n",
       "3           4  148.924   9504     681      3   36         11  Female      No   \n",
       "4           5   55.882   4897     357      2   68         16    Male      No   \n",
       "\n",
       "  Married  Ethnicity  Balance  \n",
       "0     Yes  Caucasian      333  \n",
       "1     Yes      Asian      903  \n",
       "2      No      Asian      580  \n",
       "3      No      Asian      964  \n",
       "4     Yes  Caucasian      331  "
      ]
     },
     "execution_count": 6,
     "metadata": {},
     "output_type": "execute_result"
    }
   ],
   "source": [
    "# Looking at the first 5 column of the FirstYearGPA dataset\n",
    "credit_card.head()"
   ]
  },
  {
   "cell_type": "code",
   "execution_count": 7,
   "metadata": {},
   "outputs": [
    {
     "name": "stdout",
     "output_type": "stream",
     "text": [
      "<class 'pandas.core.frame.DataFrame'>\n",
      "RangeIndex: 400 entries, 0 to 399\n",
      "Data columns (total 12 columns):\n",
      " #   Column      Non-Null Count  Dtype  \n",
      "---  ------      --------------  -----  \n",
      " 0   Unnamed: 0  400 non-null    int64  \n",
      " 1   Income      400 non-null    float64\n",
      " 2   Limit       400 non-null    int64  \n",
      " 3   Rating      400 non-null    int64  \n",
      " 4   Cards       400 non-null    int64  \n",
      " 5   Age         400 non-null    int64  \n",
      " 6   Education   400 non-null    int64  \n",
      " 7   Gender      400 non-null    object \n",
      " 8   Student     400 non-null    object \n",
      " 9   Married     400 non-null    object \n",
      " 10  Ethnicity   400 non-null    object \n",
      " 11  Balance     400 non-null    int64  \n",
      "dtypes: float64(1), int64(7), object(4)\n",
      "memory usage: 37.6+ KB\n"
     ]
    }
   ],
   "source": [
    "# Looking at the dtype\n",
    "credit_card.info()"
   ]
  },
  {
   "cell_type": "code",
   "execution_count": 8,
   "metadata": {},
   "outputs": [
    {
     "data": {
      "text/html": [
       "<div>\n",
       "<style scoped>\n",
       "    .dataframe tbody tr th:only-of-type {\n",
       "        vertical-align: middle;\n",
       "    }\n",
       "\n",
       "    .dataframe tbody tr th {\n",
       "        vertical-align: top;\n",
       "    }\n",
       "\n",
       "    .dataframe thead th {\n",
       "        text-align: right;\n",
       "    }\n",
       "</style>\n",
       "<table border=\"1\" class=\"dataframe\">\n",
       "  <thead>\n",
       "    <tr style=\"text-align: right;\">\n",
       "      <th></th>\n",
       "      <th>Unnamed: 0</th>\n",
       "      <th>Income</th>\n",
       "      <th>Limit</th>\n",
       "      <th>Rating</th>\n",
       "      <th>Cards</th>\n",
       "      <th>Age</th>\n",
       "      <th>Education</th>\n",
       "      <th>Balance</th>\n",
       "    </tr>\n",
       "  </thead>\n",
       "  <tbody>\n",
       "    <tr>\n",
       "      <th>count</th>\n",
       "      <td>400.000000</td>\n",
       "      <td>400.000000</td>\n",
       "      <td>400.000000</td>\n",
       "      <td>400.000000</td>\n",
       "      <td>400.000000</td>\n",
       "      <td>400.000000</td>\n",
       "      <td>400.000000</td>\n",
       "      <td>400.000000</td>\n",
       "    </tr>\n",
       "    <tr>\n",
       "      <th>mean</th>\n",
       "      <td>200.500000</td>\n",
       "      <td>45.218885</td>\n",
       "      <td>4735.600000</td>\n",
       "      <td>354.940000</td>\n",
       "      <td>2.957500</td>\n",
       "      <td>55.667500</td>\n",
       "      <td>13.450000</td>\n",
       "      <td>520.015000</td>\n",
       "    </tr>\n",
       "    <tr>\n",
       "      <th>std</th>\n",
       "      <td>115.614301</td>\n",
       "      <td>35.244273</td>\n",
       "      <td>2308.198848</td>\n",
       "      <td>154.724143</td>\n",
       "      <td>1.371275</td>\n",
       "      <td>17.249807</td>\n",
       "      <td>3.125207</td>\n",
       "      <td>459.758877</td>\n",
       "    </tr>\n",
       "    <tr>\n",
       "      <th>min</th>\n",
       "      <td>1.000000</td>\n",
       "      <td>10.354000</td>\n",
       "      <td>855.000000</td>\n",
       "      <td>93.000000</td>\n",
       "      <td>1.000000</td>\n",
       "      <td>23.000000</td>\n",
       "      <td>5.000000</td>\n",
       "      <td>0.000000</td>\n",
       "    </tr>\n",
       "    <tr>\n",
       "      <th>25%</th>\n",
       "      <td>100.750000</td>\n",
       "      <td>21.007250</td>\n",
       "      <td>3088.000000</td>\n",
       "      <td>247.250000</td>\n",
       "      <td>2.000000</td>\n",
       "      <td>41.750000</td>\n",
       "      <td>11.000000</td>\n",
       "      <td>68.750000</td>\n",
       "    </tr>\n",
       "    <tr>\n",
       "      <th>50%</th>\n",
       "      <td>200.500000</td>\n",
       "      <td>33.115500</td>\n",
       "      <td>4622.500000</td>\n",
       "      <td>344.000000</td>\n",
       "      <td>3.000000</td>\n",
       "      <td>56.000000</td>\n",
       "      <td>14.000000</td>\n",
       "      <td>459.500000</td>\n",
       "    </tr>\n",
       "    <tr>\n",
       "      <th>75%</th>\n",
       "      <td>300.250000</td>\n",
       "      <td>57.470750</td>\n",
       "      <td>5872.750000</td>\n",
       "      <td>437.250000</td>\n",
       "      <td>4.000000</td>\n",
       "      <td>70.000000</td>\n",
       "      <td>16.000000</td>\n",
       "      <td>863.000000</td>\n",
       "    </tr>\n",
       "    <tr>\n",
       "      <th>max</th>\n",
       "      <td>400.000000</td>\n",
       "      <td>186.634000</td>\n",
       "      <td>13913.000000</td>\n",
       "      <td>982.000000</td>\n",
       "      <td>9.000000</td>\n",
       "      <td>98.000000</td>\n",
       "      <td>20.000000</td>\n",
       "      <td>1999.000000</td>\n",
       "    </tr>\n",
       "  </tbody>\n",
       "</table>\n",
       "</div>"
      ],
      "text/plain": [
       "       Unnamed: 0      Income         Limit      Rating       Cards  \\\n",
       "count  400.000000  400.000000    400.000000  400.000000  400.000000   \n",
       "mean   200.500000   45.218885   4735.600000  354.940000    2.957500   \n",
       "std    115.614301   35.244273   2308.198848  154.724143    1.371275   \n",
       "min      1.000000   10.354000    855.000000   93.000000    1.000000   \n",
       "25%    100.750000   21.007250   3088.000000  247.250000    2.000000   \n",
       "50%    200.500000   33.115500   4622.500000  344.000000    3.000000   \n",
       "75%    300.250000   57.470750   5872.750000  437.250000    4.000000   \n",
       "max    400.000000  186.634000  13913.000000  982.000000    9.000000   \n",
       "\n",
       "              Age   Education      Balance  \n",
       "count  400.000000  400.000000   400.000000  \n",
       "mean    55.667500   13.450000   520.015000  \n",
       "std     17.249807    3.125207   459.758877  \n",
       "min     23.000000    5.000000     0.000000  \n",
       "25%     41.750000   11.000000    68.750000  \n",
       "50%     56.000000   14.000000   459.500000  \n",
       "75%     70.000000   16.000000   863.000000  \n",
       "max     98.000000   20.000000  1999.000000  "
      ]
     },
     "execution_count": 8,
     "metadata": {},
     "output_type": "execute_result"
    }
   ],
   "source": [
    "# statistical summary\n",
    "credit_card.describe()"
   ]
  },
  {
   "cell_type": "markdown",
   "metadata": {},
   "source": [
    "# DATA VISUALIZATION"
   ]
  },
  {
   "cell_type": "markdown",
   "metadata": {},
   "source": [
    "Data visualization helps us to see if there is any correlation between our predictor variables and the response variable. In our dataset, GPA is our response varibale and the rest are predictor variables. In our predictor variables, we can observe that some of them have dummy variables."
   ]
  },
  {
   "cell_type": "code",
   "execution_count": 9,
   "metadata": {},
   "outputs": [
    {
     "data": {
      "image/png": "[encoded data removed]",
      "text/plain": [
       "<Figure size 432x288 with 1 Axes>"
      ]
     },
     "metadata": {
      "needs_background": "light"
     },
     "output_type": "display_data"
    }
   ],
   "source": [
    "# Scatter plot with Limit against Income\n",
    "plt.scatter(credit_card['Limit'], credit_card['Income'])\n",
    "  \n",
    "# Adding Title to the Plot\n",
    "plt.title(\"Scatter Plot\")\n",
    "  \n",
    "# Setting the X and Y labels\n",
    "plt.xlabel('Limit')\n",
    "plt.ylabel('Income')\n",
    "  \n",
    "plt.show()"
   ]
  },
  {
   "cell_type": "code",
   "execution_count": 10,
   "metadata": {},
   "outputs": [
    {
     "data": {
      "image/png": "[encoded data removed]",
      "text/plain": [
       "<Figure size 432x288 with 1 Axes>"
      ]
     },
     "metadata": {
      "needs_background": "light"
     },
     "output_type": "display_data"
    }
   ],
   "source": [
    "# Scatter plot with Rating against Income\n",
    "plt.scatter(credit_card['Rating'], credit_card['Income'])\n",
    "  \n",
    "# Adding Title to the Plot\n",
    "plt.title(\"Scatter Plot\")\n",
    "  \n",
    "# Setting the X and Y labels\n",
    "plt.xlabel('Rating')\n",
    "plt.ylabel('Income')\n",
    "  \n",
    "plt.show()"
   ]
  },
  {
   "cell_type": "code",
   "execution_count": 11,
   "metadata": {},
   "outputs": [
    {
     "data": {
      "image/png": "[encoded data removed]",
      "text/plain": [
       "<Figure size 432x288 with 1 Axes>"
      ]
     },
     "metadata": {
      "needs_background": "light"
     },
     "output_type": "display_data"
    }
   ],
   "source": [
    "# Scatter plot with Cards against Income\n",
    "plt.scatter(credit_card['Cards'], credit_card['Income'])\n",
    "  \n",
    "# Adding Title to the Plot\n",
    "plt.title(\"Scatter Plot\")\n",
    "  \n",
    "# Setting the X and Y labels\n",
    "plt.xlabel('Cards')\n",
    "plt.ylabel('Income')\n",
    "  \n",
    "plt.show()"
   ]
  },
  {
   "cell_type": "code",
   "execution_count": 12,
   "metadata": {},
   "outputs": [
    {
     "data": {
      "image/png": "[encoded data removed]",
      "text/plain": [
       "<Figure size 432x288 with 1 Axes>"
      ]
     },
     "metadata": {
      "needs_background": "light"
     },
     "output_type": "display_data"
    }
   ],
   "source": [
    "# Scatter plot with Age and Income\n",
    "plt.scatter(credit_card['Age'], credit_card['Income'])\n",
    "  \n",
    "# Adding Title to the Plot\n",
    "plt.title(\"Scatter Plot\")\n",
    "  \n",
    "# Setting the X and Y labels\n",
    "plt.xlabel('Age')\n",
    "plt.ylabel('Income')\n",
    "  \n",
    "plt.show()"
   ]
  },
  {
   "cell_type": "code",
   "execution_count": 13,
   "metadata": {},
   "outputs": [
    {
     "data": {
      "image/png": "[encoded data removed]",
      "text/plain": [
       "<Figure size 432x288 with 1 Axes>"
      ]
     },
     "metadata": {
      "needs_background": "light"
     },
     "output_type": "display_data"
    }
   ],
   "source": [
    "# Scatter plot with Education and Income\n",
    "plt.scatter(credit_card['Education'], credit_card['Income'])\n",
    "  \n",
    "# Adding Title to the Plot\n",
    "plt.title(\"Scatter Plot\")\n",
    "  \n",
    "# Setting the X and Y labels\n",
    "plt.xlabel('Education')\n",
    "plt.ylabel('Income')\n",
    "  \n",
    "plt.show()"
   ]
  },
  {
   "cell_type": "code",
   "execution_count": 14,
   "metadata": {},
   "outputs": [
    {
     "data": {
      "image/png": "[encoded data removed]",
      "text/plain": [
       "<Figure size 432x288 with 1 Axes>"
      ]
     },
     "metadata": {
      "needs_background": "light"
     },
     "output_type": "display_data"
    }
   ],
   "source": [
    "# Scatter plot with Gender and Income\n",
    "plt.scatter(credit_card['Gender'], credit_card['Income'])\n",
    "  \n",
    "# Adding Title to the Plot\n",
    "plt.title(\"Scatter Plot\")\n",
    "  \n",
    "# Setting the X and Y labels\n",
    "plt.xlabel('Gender')\n",
    "plt.ylabel('Income')\n",
    "  \n",
    "plt.show()"
   ]
  },
  {
   "cell_type": "code",
   "execution_count": 15,
   "metadata": {},
   "outputs": [
    {
     "data": {
      "image/png": "[encoded data removed]",
      "text/plain": [
       "<Figure size 432x288 with 1 Axes>"
      ]
     },
     "metadata": {
      "needs_background": "light"
     },
     "output_type": "display_data"
    }
   ],
   "source": [
    "# Scatter plot with Student and Income\n",
    "plt.scatter(credit_card['Student'], credit_card['Income'])\n",
    "  \n",
    "# Adding Title to the Plot\n",
    "plt.title(\"Scatter Plot\")\n",
    "  \n",
    "# Setting the X and Y labels\n",
    "plt.xlabel('Student')\n",
    "plt.ylabel('Income')\n",
    "  \n",
    "plt.show()"
   ]
  },
  {
   "cell_type": "code",
   "execution_count": 16,
   "metadata": {},
   "outputs": [
    {
     "data": {
      "image/png": "[encoded data removed]",
      "text/plain": [
       "<Figure size 432x288 with 1 Axes>"
      ]
     },
     "metadata": {
      "needs_background": "light"
     },
     "output_type": "display_data"
    }
   ],
   "source": [
    "# Scatter plot with Married and Income\n",
    "plt.scatter(credit_card['Married'], credit_card['Income'])\n",
    "  \n",
    "# Adding Title to the Plot\n",
    "plt.title(\"Scatter Plot\")\n",
    "  \n",
    "# Setting the X and Y labels\n",
    "plt.xlabel('Married')\n",
    "plt.ylabel('Income')\n",
    "  \n",
    "plt.show()"
   ]
  },
  {
   "cell_type": "code",
   "execution_count": 17,
   "metadata": {},
   "outputs": [
    {
     "data": {
      "image/png": "[encoded data removed]",
      "text/plain": [
       "<Figure size 432x288 with 1 Axes>"
      ]
     },
     "metadata": {
      "needs_background": "light"
     },
     "output_type": "display_data"
    }
   ],
   "source": [
    "# Scatter plot with Ethnicity and Income\n",
    "plt.scatter(credit_card['Ethnicity'], credit_card['Income'])\n",
    "  \n",
    "# Adding Title to the Plot\n",
    "plt.title(\"Scatter Plot\")\n",
    "  \n",
    "# Setting the X and Y labels\n",
    "plt.xlabel('Ethnicity')\n",
    "plt.ylabel('Income')\n",
    "  \n",
    "plt.show()"
   ]
  },
  {
   "cell_type": "code",
   "execution_count": 18,
   "metadata": {},
   "outputs": [
    {
     "data": {
      "image/png": "[encoded data removed]",
      "text/plain": [
       "<Figure size 432x288 with 1 Axes>"
      ]
     },
     "metadata": {
      "needs_background": "light"
     },
     "output_type": "display_data"
    }
   ],
   "source": [
    "# Scatter plot with Balance and Income\n",
    "plt.scatter(credit_card['Balance'], credit_card['Income'])\n",
    "  \n",
    "# Adding Title to the Plot\n",
    "plt.title(\"Scatter Plot\")\n",
    "  \n",
    "# Setting the X and Y labels\n",
    "plt.xlabel('Balance')\n",
    "plt.ylabel('Income')\n",
    "  \n",
    "plt.show()"
   ]
  },
  {
   "cell_type": "markdown",
   "metadata": {},
   "source": [
    "# Standardizing Variables"
   ]
  },
  {
   "cell_type": "markdown",
   "metadata": {},
   "source": [
    "This data set might have variables of different scale. In order for our models to perform well, we would need to have our variables scaled to avoid bias in the outcome. By Standardizing we tend to make the mean of the dataset as 0 and the standard deviation to 1."
   ]
  },
  {
   "cell_type": "markdown",
   "metadata": {},
   "source": [
    "Replacing categorical variables with 0 and 1. \n",
    "\n",
    "Gender: Female - 1, Male - 0\n",
    "\n",
    "Student: Yes - 1 , No - 0\n",
    "\n",
    "Married: Yes - 0, No - 0\n",
    "\n",
    "Ethnicity: Caucacian - 0 , Asian - 1 , African America - 2"
   ]
  },
  {
   "cell_type": "code",
   "execution_count": 19,
   "metadata": {},
   "outputs": [
    {
     "data": {
      "text/html": [
       "<div>\n",
       "<style scoped>\n",
       "    .dataframe tbody tr th:only-of-type {\n",
       "        vertical-align: middle;\n",
       "    }\n",
       "\n",
       "    .dataframe tbody tr th {\n",
       "        vertical-align: top;\n",
       "    }\n",
       "\n",
       "    .dataframe thead th {\n",
       "        text-align: right;\n",
       "    }\n",
       "</style>\n",
       "<table border=\"1\" class=\"dataframe\">\n",
       "  <thead>\n",
       "    <tr style=\"text-align: right;\">\n",
       "      <th></th>\n",
       "      <th>Unnamed: 0</th>\n",
       "      <th>Income</th>\n",
       "      <th>Limit</th>\n",
       "      <th>Rating</th>\n",
       "      <th>Cards</th>\n",
       "      <th>Age</th>\n",
       "      <th>Education</th>\n",
       "      <th>Gender</th>\n",
       "      <th>Student</th>\n",
       "      <th>Married</th>\n",
       "      <th>Ethnicity</th>\n",
       "      <th>Balance</th>\n",
       "    </tr>\n",
       "  </thead>\n",
       "  <tbody>\n",
       "    <tr>\n",
       "      <th>0</th>\n",
       "      <td>1</td>\n",
       "      <td>14.891</td>\n",
       "      <td>3606</td>\n",
       "      <td>283</td>\n",
       "      <td>2</td>\n",
       "      <td>34</td>\n",
       "      <td>11</td>\n",
       "      <td>0</td>\n",
       "      <td>0</td>\n",
       "      <td>0</td>\n",
       "      <td>0</td>\n",
       "      <td>333</td>\n",
       "    </tr>\n",
       "    <tr>\n",
       "      <th>1</th>\n",
       "      <td>2</td>\n",
       "      <td>106.025</td>\n",
       "      <td>6645</td>\n",
       "      <td>483</td>\n",
       "      <td>3</td>\n",
       "      <td>82</td>\n",
       "      <td>15</td>\n",
       "      <td>1</td>\n",
       "      <td>1</td>\n",
       "      <td>0</td>\n",
       "      <td>1</td>\n",
       "      <td>903</td>\n",
       "    </tr>\n",
       "    <tr>\n",
       "      <th>2</th>\n",
       "      <td>3</td>\n",
       "      <td>104.593</td>\n",
       "      <td>7075</td>\n",
       "      <td>514</td>\n",
       "      <td>4</td>\n",
       "      <td>71</td>\n",
       "      <td>11</td>\n",
       "      <td>0</td>\n",
       "      <td>0</td>\n",
       "      <td>1</td>\n",
       "      <td>1</td>\n",
       "      <td>580</td>\n",
       "    </tr>\n",
       "    <tr>\n",
       "      <th>3</th>\n",
       "      <td>4</td>\n",
       "      <td>148.924</td>\n",
       "      <td>9504</td>\n",
       "      <td>681</td>\n",
       "      <td>3</td>\n",
       "      <td>36</td>\n",
       "      <td>11</td>\n",
       "      <td>1</td>\n",
       "      <td>0</td>\n",
       "      <td>1</td>\n",
       "      <td>1</td>\n",
       "      <td>964</td>\n",
       "    </tr>\n",
       "    <tr>\n",
       "      <th>4</th>\n",
       "      <td>5</td>\n",
       "      <td>55.882</td>\n",
       "      <td>4897</td>\n",
       "      <td>357</td>\n",
       "      <td>2</td>\n",
       "      <td>68</td>\n",
       "      <td>16</td>\n",
       "      <td>0</td>\n",
       "      <td>0</td>\n",
       "      <td>0</td>\n",
       "      <td>0</td>\n",
       "      <td>331</td>\n",
       "    </tr>\n",
       "  </tbody>\n",
       "</table>\n",
       "</div>"
      ],
      "text/plain": [
       "   Unnamed: 0   Income  Limit  Rating  Cards  Age  Education  Gender  Student  \\\n",
       "0           1   14.891   3606     283      2   34         11       0        0   \n",
       "1           2  106.025   6645     483      3   82         15       1        1   \n",
       "2           3  104.593   7075     514      4   71         11       0        0   \n",
       "3           4  148.924   9504     681      3   36         11       1        0   \n",
       "4           5   55.882   4897     357      2   68         16       0        0   \n",
       "\n",
       "   Married  Ethnicity  Balance  \n",
       "0        0          0      333  \n",
       "1        0          1      903  \n",
       "2        1          1      580  \n",
       "3        1          1      964  \n",
       "4        0          0      331  "
      ]
     },
     "execution_count": 19,
     "metadata": {},
     "output_type": "execute_result"
    }
   ],
   "source": [
    "credit_card['Gender'] = pd.factorize(credit_card['Gender'])[0]\n",
    "credit_card['Student'] = pd.factorize(credit_card['Student'])[0]\n",
    "credit_card['Married'] = pd.factorize(credit_card['Married'])[0]\n",
    "credit_card['Ethnicity'] = pd.factorize(credit_card['Ethnicity'])[0]\n",
    "credit_card.head()"
   ]
  },
  {
   "cell_type": "code",
   "execution_count": 20,
   "metadata": {},
   "outputs": [],
   "source": [
    "#scale the data to have mean 0 stdev 1\n",
    "credit_card_scaled = preprocessing.scale(credit_card)\n",
    "credit_card_scaled = pd.DataFrame(credit_card)"
   ]
  },
  {
   "cell_type": "markdown",
   "metadata": {},
   "source": [
    "We will build our model on the training set and evaluate its performance on the test set. This is called the holdout-validation approach for evaluating model performance.\n",
    "\n",
    "X : independent variables (Other variables except Income)\n",
    "\n",
    "y : dependent variables (Income)\n",
    "\n",
    "The output shows that the shape of the training set has 280 observation of 10 variables and test set has 120 observation of 10 variables."
   ]
  },
  {
   "cell_type": "code",
   "execution_count": 21,
   "metadata": {},
   "outputs": [
    {
     "name": "stdout",
     "output_type": "stream",
     "text": [
      "(280, 10)\n",
      "(120, 10)\n"
     ]
    }
   ],
   "source": [
    "# Creating the training and Test datasets\n",
    "#independent variable array\n",
    "X = credit_card_scaled.iloc[:,2:12]\n",
    "\n",
    "#dependent variable vector\n",
    "y = credit_card_scaled.iloc[:,1] \n",
    "\n",
    "X_train, X_test, y_train, y_test = train_test_split(X, y, test_size=0.30, random_state=40)\n",
    "\n",
    "print(X_train.shape)\n",
    "print(X_test.shape)\n",
    "\n",
    "def MAPE(Y_actual,Y_Predicted):\n",
    "    mape = np.mean(np.abs((Y_actual - Y_Predicted)/Y_actual))*100\n",
    "    return mape"
   ]
  },
  {
   "cell_type": "markdown",
   "metadata": {},
   "source": [
    "Ridge regression is to slove the problems in the regression caused by multicollinearity. We have to check for multicollinearity first. Here we will check for high variance inflation factors (VIFs). The rule of thumb is that a VIF>10 indicates multicollinearity."
   ]
  },
  {
   "cell_type": "code",
   "execution_count": 22,
   "metadata": {},
   "outputs": [
    {
     "name": "stdout",
     "output_type": "stream",
     "text": [
      "   VIF Factor   features\n",
      "0     1098.46      Limit\n",
      "1     1247.41     Rating\n",
      "2        8.31      Cards\n",
      "3       10.76        Age\n",
      "4       11.40  Education\n",
      "5        2.03     Gender\n",
      "6        1.57    Student\n",
      "7        1.64    Married\n",
      "8        1.83  Ethnicity\n",
      "9       12.49    Balance\n"
     ]
    }
   ],
   "source": [
    "#VIF Calculations\n",
    "###Calculate VIF Factors\n",
    "vif=pd.DataFrame()\n",
    "vif[\"VIF Factor\"] = [variance_inflation_factor(X.values,i) for i in range(X.shape[1])]\n",
    "vif[\"features\"]=X.columns\n",
    "\n",
    "print (vif.round(2))"
   ]
  },
  {
   "cell_type": "markdown",
   "metadata": {},
   "source": [
    "# Linear Regression"
   ]
  },
  {
   "cell_type": "markdown",
   "metadata": {},
   "source": [
    "The simplest form of regression is linear regression, which assumes that the predictors have a linear relationship with the target variable. The input variables are assumed to have a Gaussian distribution and are not correlated with each other (a problem called multi-collinearity).\n",
    "\n",
    "The linear regression equation can be expressed in the following form:\n",
    "y = a_1x_1 + a_2x_2 + a_3x_3 + ..... + a_x_n + b, where y is the target variable, x1, x2, x3, ... xn are the features, a1, a2, a3, ... an are the coefficients, and b is the parameter of the model.\n",
    "\n",
    "The parameters a and b in the model are selected through the ordinary least squares (OLS) method. This method works by minimizing the sum of squares of residuals (actual value - predicted value)."
   ]
  },
  {
   "cell_type": "markdown",
   "metadata": {},
   "source": [
    "Linear regression algorithm works by selecting coefficients for each independent variable that minimizes a loss function. However, if the coefficients are large, they can lead to over-fitting on the training dataset, and such a model will not generalize well on the unseen test data. To overcome this shortcoming, we will do regularization as shown below, which penalizes large coefficients."
   ]
  },
  {
   "cell_type": "code",
   "execution_count": 23,
   "metadata": {},
   "outputs": [
    {
     "name": "stdout",
     "output_type": "stream",
     "text": [
      "lm score for train set 0.9037595734885717\n",
      "lm score for test set 0.9088614506945417\n",
      "MSE on test set:  126.26081831887761\n",
      "MAPE value:  29.186327669189065\n",
      "Accuracy of Linear Regression: 70.81%.\n",
      "     Columns  Coefficient Estimate\n",
      "0      Limit              0.019577\n",
      "1     Rating              0.129101\n",
      "2      Cards              1.378659\n",
      "3        Age             -0.031614\n",
      "4  Education             -0.071159\n",
      "5     Gender             -0.709767\n",
      "6    Student             39.962807\n",
      "7    Married              0.623251\n",
      "8  Ethnicity              0.445545\n",
      "9    Balance             -0.094145\n"
     ]
    }
   ],
   "source": [
    "# Multiple Linear regression model\n",
    "lm = LinearRegression()\n",
    "lm.fit(X_train, y_train)\n",
    "\n",
    "# Genereating prediction on test set\n",
    "lm_train_pred = lm.predict(X_test)\n",
    "\n",
    "# looking at scores for train and test set\n",
    "print('lm score for train set',lm.score(X_train, y_train))\n",
    "print('lm score for test set',lm.score(X_test, y_test))\n",
    "\n",
    "# calculating Mean Squared Error (MSE)\n",
    "mse = np.mean((lm_train_pred - y_test)**2)\n",
    "print(\"MSE on test set: \", mse)\n",
    "\n",
    "Lm_MAPE = MAPE(y_test,lm_train_pred)\n",
    "print(\"MAPE value: \",Lm_MAPE)\n",
    "Accuracy = 100 - Lm_MAPE\n",
    "print('Accuracy of Linear Regression: {:0.2f}%.'.format(Accuracy))\n",
    "\n",
    "# placing coefficients together with their corresponding variables names\n",
    "lm_coeff = pd.DataFrame()\n",
    "lm_coeff['Columns'] = X_train.columns\n",
    "lm_coeff['Coefficient Estimate'] = pd.Series(lm.coef_)\n",
    "print(lm_coeff)"
   ]
  },
  {
   "cell_type": "code",
   "execution_count": 24,
   "metadata": {},
   "outputs": [
    {
     "data": {
      "image/png": "[encoded data removed]",
      "text/plain": [
       "<Figure size 1440x720 with 1 Axes>"
      ]
     },
     "metadata": {
      "needs_background": "light"
     },
     "output_type": "display_data"
    }
   ],
   "source": [
    "fig, ax = plt.subplots(figsize=(20,10))\n",
    "\n",
    "color = [\"red\", 'blue', 'green', 'orange', 'purple', 'black', 'brown', 'pink', 'grey', 'olive']\n",
    "\n",
    "ax.bar(lm_coeff['Columns'], lm_coeff['Coefficient Estimate'], color = color)\n",
    "\n",
    "ax.spines['bottom'].set_position('zero')\n",
    "\n",
    "plt.style.use('ggplot')\n",
    "plt.show()"
   ]
  },
  {
   "cell_type": "markdown",
   "metadata": {},
   "source": [
    "# RIDGE REGRESSION"
   ]
  },
  {
   "cell_type": "markdown",
   "metadata": {},
   "source": [
    "Ridge Regression is a model that analyses any data that seems to have multicollinearity. In ridge regression, we have a term lambda. This term is denoted by an alpha parameter in the ridge function. When the values of alpha changes then the penalty term is controlled. By using FirstYearGPA dataset, our y value will be the GPA of the student (response variable) and x will be the predictor variables. We expect coefficients that do not contribute to the model to be shrinked by letting them have smaller value.\n",
    "\n",
    "The main goal is to obtain the mean squared error and observe if the estimated coefficients are 0. The mean Square error will show us the model error; thus, we want our MSE to be as small as possible. Also,we will calculate R-squared which measures the goodness of fit. R-squared measures the strength of the relationship between Ridge Regression model and the predictor variables.\n",
    "\n",
    "R-squared of 0% represents a model that does not explain any of the variation in the response variable around its mean. The mean of the dependent variable predicts the dependent variable as well as the regression model. While, R-squared of 100% represents a model that explains all the variation in the response variable around its mean. For R-square we would want our result to have higher value.\n",
    "\n",
    "Here we used different alpha values to check and see which model would give us a smaller RMSE and higher R-squared. Also, our models were normalized to have mean zero to avoid regularization biases of the model away from the data. In addition, we checked for the accuracy of the model. "
   ]
  },
  {
   "cell_type": "code",
   "execution_count": 25,
   "metadata": {},
   "outputs": [
    {
     "name": "stdout",
     "output_type": "stream",
     "text": [
      "lm score for train set 0.9034973686523146\n",
      "lm score for test set 0.9077263184199419\n",
      "MSE on test set:  127.83339908720637\n",
      "MAPE value:  29.60479396084912\n",
      "Accuracy of Linear Regression: 70.40%.\n",
      "     Columns  Coefficient Estimate\n",
      "0      Limit              0.019167\n",
      "1     Rating              0.131014\n",
      "2      Cards              1.299292\n",
      "3        Age             -0.026386\n",
      "4  Education             -0.056288\n",
      "5     Gender             -0.730295\n",
      "6    Student             37.685676\n",
      "7    Married              0.572683\n",
      "8  Ethnicity              0.486715\n",
      "9    Balance             -0.092551\n"
     ]
    }
   ],
   "source": [
    "# Ridge regression model with an alpha value of 1\n",
    "rr1 = Ridge(alpha=1, max_iter = 10, tol =0.1)\n",
    "\n",
    "# fitting the model to the training data\n",
    "rr1.fit(X_train, y_train) \n",
    "\n",
    "# Genereating prediction on test set\n",
    "rr1_train_pred = rr1.predict(X_test)\n",
    "\n",
    "# looking at scores for train and test set\n",
    "print('lm score for train set',rr1.score(X_train, y_train))\n",
    "print('lm score for test set',rr1.score(X_test, y_test))\n",
    "\n",
    "# calculating Mean Squared Error (MSE)\n",
    "mse = np.mean((rr1_train_pred - y_test)**2)\n",
    "print(\"MSE on test set: \", mse)\n",
    "\n",
    "rr1_MAPE = MAPE(y_test,rr1_train_pred)\n",
    "print(\"MAPE value: \",rr1_MAPE)\n",
    "Accuracy = 100 - rr1_MAPE\n",
    "print('Accuracy of Linear Regression: {:0.2f}%.'.format(Accuracy))\n",
    "\n",
    "# placing coefficients together with their corresponding variables names\n",
    "rr1_coeff = pd.DataFrame()\n",
    "rr1_coeff['Columns'] = X_train.columns\n",
    "rr1_coeff['Coefficient Estimate'] = pd.Series(rr1.coef_)\n",
    "print(rr1_coeff)"
   ]
  },
  {
   "cell_type": "code",
   "execution_count": 26,
   "metadata": {},
   "outputs": [
    {
     "data": {
      "image/png": "[encoded data removed]",
      "text/plain": [
       "<Figure size 1440x720 with 1 Axes>"
      ]
     },
     "metadata": {},
     "output_type": "display_data"
    }
   ],
   "source": [
    "fig, ax = plt.subplots(figsize=(20,10))\n",
    "\n",
    "color = [\"red\", 'blue', 'green', 'orange', 'purple', 'black', 'brown', 'pink', 'grey', 'olive']\n",
    "\n",
    "ax.bar(rr1_coeff['Columns'], rr1_coeff['Coefficient Estimate'], color = color)\n",
    "\n",
    "ax.spines['bottom'].set_position('zero')\n",
    "\n",
    "plt.style.use('ggplot')\n",
    "plt.show()"
   ]
  },
  {
   "cell_type": "markdown",
   "metadata": {},
   "source": [
    "As we observe our results above, we see that Ridge regression has higher MSE than Linear regression. This tells us Linear regression is better model to make prediction compared to Ridge Regression. However, we can observe that Ridge regression has reduced error for our coefficients. For instance, our variable Student in Linear Regression model, we observe the coefficient is approximately about 39.96. On the other hand, in Ridge regression, we see that the coefficient of the same variable is approximately about 37.69."
   ]
  },
  {
   "cell_type": "markdown",
   "metadata": {},
   "source": [
    "# LASSO REGRESSION"
   ]
  },
  {
   "cell_type": "markdown",
   "metadata": {},
   "source": [
    "Lasso stands for Least Absolute and Selection Operator which is know as the L-1 norm. Lasso regression is used to reduce the complexity of the model. Lasso regression is similar to Ridge regression except that the penalty term incudes the absolute weights instead of a square weights. In this technique, the L1 penalty has the eﬀect of forcing some of the coeﬃcient estimates to be exactly equal to zero which means there is a complete removal of some of the features for model evaluation when the tuning parameter λ is suﬃciently large. Therefore, the lasso method also performs Feature selection and is said to yield sparse models.\n",
    "\n",
    "In Lasso Regression, we will perfom similar analysis as Ridge Regression. Here our main goal is to see if Lasso Regression out perfoms Ridge Regression."
   ]
  },
  {
   "cell_type": "code",
   "execution_count": 27,
   "metadata": {},
   "outputs": [
    {
     "name": "stdout",
     "output_type": "stream",
     "text": [
      "lm score for train set 0.8706299513458261\n",
      "lm score for test set 0.8644253760333737\n",
      "MSE on test set:  187.8213236413143\n",
      "MAPE value:  38.35744620106144\n",
      "Accuracy of Linear Regression: 61.64%.\n",
      "     Columns  Coefficient Estimate\n",
      "0      Limit              0.023072\n",
      "1     Rating              0.006010\n",
      "2      Cards              0.510646\n",
      "3        Age              0.047633\n",
      "4  Education              0.000000\n",
      "5     Gender             -0.000000\n",
      "6    Student             17.117589\n",
      "7    Married             -0.000000\n",
      "8  Ethnicity              0.000000\n",
      "9    Balance             -0.069772\n"
     ]
    }
   ],
   "source": [
    "# Lasso Regression Model with an alpha value of 0.01\n",
    "model_lasso = Lasso(alpha=1, max_iter = 10, tol =0.1)\n",
    "\n",
    "# fitting the model to the training data\n",
    "model_lasso.fit(X_train, y_train) \n",
    "\n",
    "# Genereating prediction on test set\n",
    "model_lasso_train_pred = model_lasso.predict(X_test)\n",
    "\n",
    "# looking at scores for train and test set\n",
    "print('lm score for train set',model_lasso.score(X_train, y_train))\n",
    "print('lm score for test set',model_lasso.score(X_test, y_test))\n",
    "\n",
    "# calculating Mean Squared Error (MSE)\n",
    "mse = np.mean((model_lasso_train_pred - y_test)**2)\n",
    "print(\"MSE on test set: \", mse)\n",
    "\n",
    "model_lasso_MAPE = MAPE(y_test,model_lasso_train_pred)\n",
    "print(\"MAPE value: \",model_lasso_MAPE)\n",
    "Accuracy = 100 - model_lasso_MAPE\n",
    "print('Accuracy of Linear Regression: {:0.2f}%.'.format(Accuracy))\n",
    "\n",
    "# placing coefficients together with their corresponding variables names\n",
    "model_lasso_coeff = pd.DataFrame()\n",
    "model_lasso_coeff['Columns'] = X_train.columns\n",
    "model_lasso_coeff['Coefficient Estimate'] = pd.Series(model_lasso.coef_)\n",
    "print(model_lasso_coeff)"
   ]
  },
  {
   "cell_type": "code",
   "execution_count": 28,
   "metadata": {},
   "outputs": [
    {
     "data": {
      "image/png": "[encoded data removed]",
      "text/plain": [
       "<Figure size 1440x720 with 1 Axes>"
      ]
     },
     "metadata": {},
     "output_type": "display_data"
    }
   ],
   "source": [
    "fig, ax = plt.subplots(figsize=(20,10))\n",
    "\n",
    "color = [\"red\", 'blue', 'green', 'orange', 'purple', 'black', 'brown', 'pink', 'grey', 'olive']\n",
    "\n",
    "ax.bar(model_lasso_coeff['Columns'], model_lasso_coeff['Coefficient Estimate'], color = color)\n",
    "\n",
    "ax.spines['bottom'].set_position('zero')\n",
    "\n",
    "plt.style.use('ggplot')\n",
    "plt.show()"
   ]
  },
  {
   "cell_type": "markdown",
   "metadata": {},
   "source": [
    "From results of Lasso Regression, we observe that the MSE is higher than Ridge and Linear Regression. However, we can see that most of our coefficients are minimized to zero and coefficient with variable Student has decrease to approximately about 17.12. Therefore, we can conclude that Linear regression is our best model in making prediction of income in this dataset. In addition, the variable student can be seen as not an important variable in making predictions."
   ]
  }
 ],
 "metadata": {
  "kernelspec": {
   "display_name": "Python 3",
   "language": "python",
   "name": "python3"
  },
  "language_info": {
   "codemirror_mode": {
    "name": "ipython",
    "version": 3
   },
   "file_extension": ".py",
   "mimetype": "text/x-python",
   "name": "python",
   "nbconvert_exporter": "python",
   "pygments_lexer": "ipython3",
   "version": "3.7.4"
  }
 },
 "nbformat": 4,
 "nbformat_minor": 2
}
