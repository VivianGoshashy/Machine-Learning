{
 "cells": [
  {
   "cell_type": "markdown",
   "metadata": {},
   "source": [
    "# ANALYSIS OF BREAST CANCER DATASET USING UNSUPERVISED LEARNING ALGORITHMS"
   ]
  },
  {
   "cell_type": "markdown",
   "metadata": {},
   "source": [
    "# Libraries"
   ]
  },
  {
   "cell_type": "code",
   "execution_count": 60,
   "metadata": {},
   "outputs": [],
   "source": [
    "# Importing Libraries\n",
    "import pandas as pd\n",
    "import matplotlib.pyplot as plt\n",
    "import numpy as np\n",
    "import seaborn as sns\n",
    "%matplotlib inline"
   ]
  },
  {
   "cell_type": "markdown",
   "metadata": {},
   "source": [
    "# Data"
   ]
  },
  {
   "cell_type": "markdown",
   "metadata": {},
   "source": [
    "In this project, we will look into Breast Cancer dataset. This dataset was otained from kaggle. According to American Cancer Society, Breast cancer is a type of cancer that starts in the breast. It can start in one or both breast. Breast cancer is commonly in women but both men and women can get it. Breast cancer occurs when some breast cells begin to grow abnormally. These cells divide themselves rapidly by forming a lump or mass. These cells may end up spread throughout the breast to the lymph nodes or other parts of the body. According to Breast Cancer organization, A tumor can be benign (not dangerous to health) or malignant (has the potential to be dangerous). Benign tumors are not considered cancerous: their cells are close to normal in appearance, they grow slowly, and they do not invade nearby tissues or spread to other parts of the body. Malignant tumors are cancerous. Left unchecked, malignant cells eventually can spread beyond the original tumor to other parts of the body."
   ]
  },
  {
   "cell_type": "code",
   "execution_count": 4,
   "metadata": {},
   "outputs": [
    {
     "data": {
      "text/plain": [
       "dict_keys(['data', 'target', 'frame', 'target_names', 'DESCR', 'feature_names', 'filename', 'data_module'])"
      ]
     },
     "execution_count": 4,
     "metadata": {},
     "output_type": "execute_result"
    }
   ],
   "source": [
    "#  download dataset\n",
    "\n",
    "from sklearn.datasets import load_breast_cancer\n",
    "cancer = load_breast_cancer()\n",
    "cancer.keys()"
   ]
  },
  {
   "cell_type": "code",
   "execution_count": 5,
   "metadata": {},
   "outputs": [
    {
     "name": "stdout",
     "output_type": "stream",
     "text": [
      ".. _breast_cancer_dataset:\n",
      "\n",
      "Breast cancer wisconsin (diagnostic) dataset\n",
      "--------------------------------------------\n",
      "\n",
      "**Data Set Characteristics:**\n",
      "\n",
      "    :Number of Instances: 569\n",
      "\n",
      "    :Number of Attributes: 30 numeric, predictive attributes and the class\n",
      "\n",
      "    :Attribute Information:\n",
      "        - radius (mean of distances from center to points on the perimeter)\n",
      "        - texture (standard deviation of gray-scale values)\n",
      "        - perimeter\n",
      "        - area\n",
      "        - smoothness (local variation in radius lengths)\n",
      "        - compactness (perimeter^2 / area - 1.0)\n",
      "        - concavity (severity of concave portions of the contour)\n",
      "        - concave points (number of concave portions of the contour)\n",
      "        - symmetry\n",
      "        - fractal dimension (\"coastline approximation\" - 1)\n",
      "\n",
      "        The mean, standard error, and \"worst\" or largest (mean of the three\n",
      "        worst/largest values) of these features were computed for each image,\n",
      "        resulting in 30 features.  For instance, field 0 is Mean Radius, field\n",
      "        10 is Radius SE, field 20 is Worst Radius.\n",
      "\n",
      "        - class:\n",
      "                - WDBC-Malignant\n",
      "                - WDBC-Benign\n",
      "\n",
      "    :Summary Statistics:\n",
      "\n",
      "    ===================================== ====== ======\n",
      "                                           Min    Max\n",
      "    ===================================== ====== ======\n",
      "    radius (mean):                        6.981  28.11\n",
      "    texture (mean):                       9.71   39.28\n",
      "    perimeter (mean):                     43.79  188.5\n",
      "    area (mean):                          143.5  2501.0\n",
      "    smoothness (mean):                    0.053  0.163\n",
      "    compactness (mean):                   0.019  0.345\n",
      "    concavity (mean):                     0.0    0.427\n",
      "    concave points (mean):                0.0    0.201\n",
      "    symmetry (mean):                      0.106  0.304\n",
      "    fractal dimension (mean):             0.05   0.097\n",
      "    radius (standard error):              0.112  2.873\n",
      "    texture (standard error):             0.36   4.885\n",
      "    perimeter (standard error):           0.757  21.98\n",
      "    area (standard error):                6.802  542.2\n",
      "    smoothness (standard error):          0.002  0.031\n",
      "    compactness (standard error):         0.002  0.135\n",
      "    concavity (standard error):           0.0    0.396\n",
      "    concave points (standard error):      0.0    0.053\n",
      "    symmetry (standard error):            0.008  0.079\n",
      "    fractal dimension (standard error):   0.001  0.03\n",
      "    radius (worst):                       7.93   36.04\n",
      "    texture (worst):                      12.02  49.54\n",
      "    perimeter (worst):                    50.41  251.2\n",
      "    area (worst):                         185.2  4254.0\n",
      "    smoothness (worst):                   0.071  0.223\n",
      "    compactness (worst):                  0.027  1.058\n",
      "    concavity (worst):                    0.0    1.252\n",
      "    concave points (worst):               0.0    0.291\n",
      "    symmetry (worst):                     0.156  0.664\n",
      "    fractal dimension (worst):            0.055  0.208\n",
      "    ===================================== ====== ======\n",
      "\n",
      "    :Missing Attribute Values: None\n",
      "\n",
      "    :Class Distribution: 212 - Malignant, 357 - Benign\n",
      "\n",
      "    :Creator:  Dr. William H. Wolberg, W. Nick Street, Olvi L. Mangasarian\n",
      "\n",
      "    :Donor: Nick Street\n",
      "\n",
      "    :Date: November, 1995\n",
      "\n",
      "This is a copy of UCI ML Breast Cancer Wisconsin (Diagnostic) datasets.\n",
      "https://goo.gl/U2Uwz2\n",
      "\n",
      "Features are computed from a digitized image of a fine needle\n",
      "aspirate (FNA) of a breast mass.  They describe\n",
      "characteristics of the cell nuclei present in the image.\n",
      "\n",
      "Separating plane described above was obtained using\n",
      "Multisurface Method-Tree (MSM-T) [K. P. Bennett, \"Decision Tree\n",
      "Construction Via Linear Programming.\" Proceedings of the 4th\n",
      "Midwest Artificial Intelligence and Cognitive Science Society,\n",
      "pp. 97-101, 1992], a classification method which uses linear\n",
      "programming to construct a decision tree.  Relevant features\n",
      "were selected using an exhaustive search in the space of 1-4\n",
      "features and 1-3 separating planes.\n",
      "\n",
      "The actual linear program used to obtain the separating plane\n",
      "in the 3-dimensional space is that described in:\n",
      "[K. P. Bennett and O. L. Mangasarian: \"Robust Linear\n",
      "Programming Discrimination of Two Linearly Inseparable Sets\",\n",
      "Optimization Methods and Software 1, 1992, 23-34].\n",
      "\n",
      "This database is also available through the UW CS ftp server:\n",
      "\n",
      "ftp ftp.cs.wisc.edu\n",
      "cd math-prog/cpo-dataset/machine-learn/WDBC/\n",
      "\n",
      ".. topic:: References\n",
      "\n",
      "   - W.N. Street, W.H. Wolberg and O.L. Mangasarian. Nuclear feature extraction \n",
      "     for breast tumor diagnosis. IS&T/SPIE 1993 International Symposium on \n",
      "     Electronic Imaging: Science and Technology, volume 1905, pages 861-870,\n",
      "     San Jose, CA, 1993.\n",
      "   - O.L. Mangasarian, W.N. Street and W.H. Wolberg. Breast cancer diagnosis and \n",
      "     prognosis via linear programming. Operations Research, 43(4), pages 570-577, \n",
      "     July-August 1995.\n",
      "   - W.H. Wolberg, W.N. Street, and O.L. Mangasarian. Machine learning techniques\n",
      "     to diagnose breast cancer from fine-needle aspirates. Cancer Letters 77 (1994) \n",
      "     163-171.\n"
     ]
    }
   ],
   "source": [
    "print(cancer['DESCR'])"
   ]
  },
  {
   "cell_type": "code",
   "execution_count": 6,
   "metadata": {},
   "outputs": [
    {
     "name": "stdout",
     "output_type": "stream",
     "text": [
      "['malignant' 'benign']\n"
     ]
    }
   ],
   "source": [
    "print(cancer['target_names'])"
   ]
  },
  {
   "cell_type": "code",
   "execution_count": 7,
   "metadata": {},
   "outputs": [
    {
     "data": {
      "text/html": [
       "<div>\n",
       "<style scoped>\n",
       "    .dataframe tbody tr th:only-of-type {\n",
       "        vertical-align: middle;\n",
       "    }\n",
       "\n",
       "    .dataframe tbody tr th {\n",
       "        vertical-align: top;\n",
       "    }\n",
       "\n",
       "    .dataframe thead th {\n",
       "        text-align: right;\n",
       "    }\n",
       "</style>\n",
       "<table border=\"1\" class=\"dataframe\">\n",
       "  <thead>\n",
       "    <tr style=\"text-align: right;\">\n",
       "      <th></th>\n",
       "      <th>mean radius</th>\n",
       "      <th>mean texture</th>\n",
       "      <th>mean perimeter</th>\n",
       "      <th>mean area</th>\n",
       "      <th>mean smoothness</th>\n",
       "      <th>mean compactness</th>\n",
       "      <th>mean concavity</th>\n",
       "      <th>mean concave points</th>\n",
       "      <th>mean symmetry</th>\n",
       "      <th>mean fractal dimension</th>\n",
       "      <th>...</th>\n",
       "      <th>worst radius</th>\n",
       "      <th>worst texture</th>\n",
       "      <th>worst perimeter</th>\n",
       "      <th>worst area</th>\n",
       "      <th>worst smoothness</th>\n",
       "      <th>worst compactness</th>\n",
       "      <th>worst concavity</th>\n",
       "      <th>worst concave points</th>\n",
       "      <th>worst symmetry</th>\n",
       "      <th>worst fractal dimension</th>\n",
       "    </tr>\n",
       "  </thead>\n",
       "  <tbody>\n",
       "    <tr>\n",
       "      <th>0</th>\n",
       "      <td>17.99</td>\n",
       "      <td>10.38</td>\n",
       "      <td>122.80</td>\n",
       "      <td>1001.0</td>\n",
       "      <td>0.11840</td>\n",
       "      <td>0.27760</td>\n",
       "      <td>0.3001</td>\n",
       "      <td>0.14710</td>\n",
       "      <td>0.2419</td>\n",
       "      <td>0.07871</td>\n",
       "      <td>...</td>\n",
       "      <td>25.38</td>\n",
       "      <td>17.33</td>\n",
       "      <td>184.60</td>\n",
       "      <td>2019.0</td>\n",
       "      <td>0.1622</td>\n",
       "      <td>0.6656</td>\n",
       "      <td>0.7119</td>\n",
       "      <td>0.2654</td>\n",
       "      <td>0.4601</td>\n",
       "      <td>0.11890</td>\n",
       "    </tr>\n",
       "    <tr>\n",
       "      <th>1</th>\n",
       "      <td>20.57</td>\n",
       "      <td>17.77</td>\n",
       "      <td>132.90</td>\n",
       "      <td>1326.0</td>\n",
       "      <td>0.08474</td>\n",
       "      <td>0.07864</td>\n",
       "      <td>0.0869</td>\n",
       "      <td>0.07017</td>\n",
       "      <td>0.1812</td>\n",
       "      <td>0.05667</td>\n",
       "      <td>...</td>\n",
       "      <td>24.99</td>\n",
       "      <td>23.41</td>\n",
       "      <td>158.80</td>\n",
       "      <td>1956.0</td>\n",
       "      <td>0.1238</td>\n",
       "      <td>0.1866</td>\n",
       "      <td>0.2416</td>\n",
       "      <td>0.1860</td>\n",
       "      <td>0.2750</td>\n",
       "      <td>0.08902</td>\n",
       "    </tr>\n",
       "    <tr>\n",
       "      <th>2</th>\n",
       "      <td>19.69</td>\n",
       "      <td>21.25</td>\n",
       "      <td>130.00</td>\n",
       "      <td>1203.0</td>\n",
       "      <td>0.10960</td>\n",
       "      <td>0.15990</td>\n",
       "      <td>0.1974</td>\n",
       "      <td>0.12790</td>\n",
       "      <td>0.2069</td>\n",
       "      <td>0.05999</td>\n",
       "      <td>...</td>\n",
       "      <td>23.57</td>\n",
       "      <td>25.53</td>\n",
       "      <td>152.50</td>\n",
       "      <td>1709.0</td>\n",
       "      <td>0.1444</td>\n",
       "      <td>0.4245</td>\n",
       "      <td>0.4504</td>\n",
       "      <td>0.2430</td>\n",
       "      <td>0.3613</td>\n",
       "      <td>0.08758</td>\n",
       "    </tr>\n",
       "    <tr>\n",
       "      <th>3</th>\n",
       "      <td>11.42</td>\n",
       "      <td>20.38</td>\n",
       "      <td>77.58</td>\n",
       "      <td>386.1</td>\n",
       "      <td>0.14250</td>\n",
       "      <td>0.28390</td>\n",
       "      <td>0.2414</td>\n",
       "      <td>0.10520</td>\n",
       "      <td>0.2597</td>\n",
       "      <td>0.09744</td>\n",
       "      <td>...</td>\n",
       "      <td>14.91</td>\n",
       "      <td>26.50</td>\n",
       "      <td>98.87</td>\n",
       "      <td>567.7</td>\n",
       "      <td>0.2098</td>\n",
       "      <td>0.8663</td>\n",
       "      <td>0.6869</td>\n",
       "      <td>0.2575</td>\n",
       "      <td>0.6638</td>\n",
       "      <td>0.17300</td>\n",
       "    </tr>\n",
       "    <tr>\n",
       "      <th>4</th>\n",
       "      <td>20.29</td>\n",
       "      <td>14.34</td>\n",
       "      <td>135.10</td>\n",
       "      <td>1297.0</td>\n",
       "      <td>0.10030</td>\n",
       "      <td>0.13280</td>\n",
       "      <td>0.1980</td>\n",
       "      <td>0.10430</td>\n",
       "      <td>0.1809</td>\n",
       "      <td>0.05883</td>\n",
       "      <td>...</td>\n",
       "      <td>22.54</td>\n",
       "      <td>16.67</td>\n",
       "      <td>152.20</td>\n",
       "      <td>1575.0</td>\n",
       "      <td>0.1374</td>\n",
       "      <td>0.2050</td>\n",
       "      <td>0.4000</td>\n",
       "      <td>0.1625</td>\n",
       "      <td>0.2364</td>\n",
       "      <td>0.07678</td>\n",
       "    </tr>\n",
       "  </tbody>\n",
       "</table>\n",
       "<p>5 rows × 30 columns</p>\n",
       "</div>"
      ],
      "text/plain": [
       "   mean radius  mean texture  mean perimeter  mean area  mean smoothness  \\\n",
       "0        17.99         10.38          122.80     1001.0          0.11840   \n",
       "1        20.57         17.77          132.90     1326.0          0.08474   \n",
       "2        19.69         21.25          130.00     1203.0          0.10960   \n",
       "3        11.42         20.38           77.58      386.1          0.14250   \n",
       "4        20.29         14.34          135.10     1297.0          0.10030   \n",
       "\n",
       "   mean compactness  mean concavity  mean concave points  mean symmetry  \\\n",
       "0           0.27760          0.3001              0.14710         0.2419   \n",
       "1           0.07864          0.0869              0.07017         0.1812   \n",
       "2           0.15990          0.1974              0.12790         0.2069   \n",
       "3           0.28390          0.2414              0.10520         0.2597   \n",
       "4           0.13280          0.1980              0.10430         0.1809   \n",
       "\n",
       "   mean fractal dimension  ...  worst radius  worst texture  worst perimeter  \\\n",
       "0                 0.07871  ...         25.38          17.33           184.60   \n",
       "1                 0.05667  ...         24.99          23.41           158.80   \n",
       "2                 0.05999  ...         23.57          25.53           152.50   \n",
       "3                 0.09744  ...         14.91          26.50            98.87   \n",
       "4                 0.05883  ...         22.54          16.67           152.20   \n",
       "\n",
       "   worst area  worst smoothness  worst compactness  worst concavity  \\\n",
       "0      2019.0            0.1622             0.6656           0.7119   \n",
       "1      1956.0            0.1238             0.1866           0.2416   \n",
       "2      1709.0            0.1444             0.4245           0.4504   \n",
       "3       567.7            0.2098             0.8663           0.6869   \n",
       "4      1575.0            0.1374             0.2050           0.4000   \n",
       "\n",
       "   worst concave points  worst symmetry  worst fractal dimension  \n",
       "0                0.2654          0.4601                  0.11890  \n",
       "1                0.1860          0.2750                  0.08902  \n",
       "2                0.2430          0.3613                  0.08758  \n",
       "3                0.2575          0.6638                  0.17300  \n",
       "4                0.1625          0.2364                  0.07678  \n",
       "\n",
       "[5 rows x 30 columns]"
      ]
     },
     "execution_count": 7,
     "metadata": {},
     "output_type": "execute_result"
    }
   ],
   "source": [
    "breast_cancer_up = pd.DataFrame(cancer['data'], columns=cancer['feature_names'])\n",
    "breast_cancer_up.head()"
   ]
  },
  {
   "cell_type": "code",
   "execution_count": 8,
   "metadata": {},
   "outputs": [
    {
     "data": {
      "text/html": [
       "<div>\n",
       "<style scoped>\n",
       "    .dataframe tbody tr th:only-of-type {\n",
       "        vertical-align: middle;\n",
       "    }\n",
       "\n",
       "    .dataframe tbody tr th {\n",
       "        vertical-align: top;\n",
       "    }\n",
       "\n",
       "    .dataframe thead th {\n",
       "        text-align: right;\n",
       "    }\n",
       "</style>\n",
       "<table border=\"1\" class=\"dataframe\">\n",
       "  <thead>\n",
       "    <tr style=\"text-align: right;\">\n",
       "      <th></th>\n",
       "      <th>id</th>\n",
       "      <th>diagnosis</th>\n",
       "      <th>radius_mean</th>\n",
       "      <th>texture_mean</th>\n",
       "      <th>perimeter_mean</th>\n",
       "      <th>area_mean</th>\n",
       "      <th>smoothness_mean</th>\n",
       "      <th>compactness_mean</th>\n",
       "      <th>concavity_mean</th>\n",
       "      <th>concave points_mean</th>\n",
       "      <th>...</th>\n",
       "      <th>radius_worst</th>\n",
       "      <th>texture_worst</th>\n",
       "      <th>perimeter_worst</th>\n",
       "      <th>area_worst</th>\n",
       "      <th>smoothness_worst</th>\n",
       "      <th>compactness_worst</th>\n",
       "      <th>concavity_worst</th>\n",
       "      <th>concave points_worst</th>\n",
       "      <th>symmetry_worst</th>\n",
       "      <th>fractal_dimension_worst</th>\n",
       "    </tr>\n",
       "  </thead>\n",
       "  <tbody>\n",
       "    <tr>\n",
       "      <th>0</th>\n",
       "      <td>842302</td>\n",
       "      <td>M</td>\n",
       "      <td>17.99</td>\n",
       "      <td>10.38</td>\n",
       "      <td>122.80</td>\n",
       "      <td>1001.0</td>\n",
       "      <td>0.11840</td>\n",
       "      <td>0.27760</td>\n",
       "      <td>0.3001</td>\n",
       "      <td>0.14710</td>\n",
       "      <td>...</td>\n",
       "      <td>25.38</td>\n",
       "      <td>17.33</td>\n",
       "      <td>184.60</td>\n",
       "      <td>2019.0</td>\n",
       "      <td>0.1622</td>\n",
       "      <td>0.6656</td>\n",
       "      <td>0.7119</td>\n",
       "      <td>0.2654</td>\n",
       "      <td>0.4601</td>\n",
       "      <td>0.11890</td>\n",
       "    </tr>\n",
       "    <tr>\n",
       "      <th>1</th>\n",
       "      <td>842517</td>\n",
       "      <td>M</td>\n",
       "      <td>20.57</td>\n",
       "      <td>17.77</td>\n",
       "      <td>132.90</td>\n",
       "      <td>1326.0</td>\n",
       "      <td>0.08474</td>\n",
       "      <td>0.07864</td>\n",
       "      <td>0.0869</td>\n",
       "      <td>0.07017</td>\n",
       "      <td>...</td>\n",
       "      <td>24.99</td>\n",
       "      <td>23.41</td>\n",
       "      <td>158.80</td>\n",
       "      <td>1956.0</td>\n",
       "      <td>0.1238</td>\n",
       "      <td>0.1866</td>\n",
       "      <td>0.2416</td>\n",
       "      <td>0.1860</td>\n",
       "      <td>0.2750</td>\n",
       "      <td>0.08902</td>\n",
       "    </tr>\n",
       "    <tr>\n",
       "      <th>2</th>\n",
       "      <td>84300903</td>\n",
       "      <td>M</td>\n",
       "      <td>19.69</td>\n",
       "      <td>21.25</td>\n",
       "      <td>130.00</td>\n",
       "      <td>1203.0</td>\n",
       "      <td>0.10960</td>\n",
       "      <td>0.15990</td>\n",
       "      <td>0.1974</td>\n",
       "      <td>0.12790</td>\n",
       "      <td>...</td>\n",
       "      <td>23.57</td>\n",
       "      <td>25.53</td>\n",
       "      <td>152.50</td>\n",
       "      <td>1709.0</td>\n",
       "      <td>0.1444</td>\n",
       "      <td>0.4245</td>\n",
       "      <td>0.4504</td>\n",
       "      <td>0.2430</td>\n",
       "      <td>0.3613</td>\n",
       "      <td>0.08758</td>\n",
       "    </tr>\n",
       "    <tr>\n",
       "      <th>3</th>\n",
       "      <td>84348301</td>\n",
       "      <td>M</td>\n",
       "      <td>11.42</td>\n",
       "      <td>20.38</td>\n",
       "      <td>77.58</td>\n",
       "      <td>386.1</td>\n",
       "      <td>0.14250</td>\n",
       "      <td>0.28390</td>\n",
       "      <td>0.2414</td>\n",
       "      <td>0.10520</td>\n",
       "      <td>...</td>\n",
       "      <td>14.91</td>\n",
       "      <td>26.50</td>\n",
       "      <td>98.87</td>\n",
       "      <td>567.7</td>\n",
       "      <td>0.2098</td>\n",
       "      <td>0.8663</td>\n",
       "      <td>0.6869</td>\n",
       "      <td>0.2575</td>\n",
       "      <td>0.6638</td>\n",
       "      <td>0.17300</td>\n",
       "    </tr>\n",
       "    <tr>\n",
       "      <th>4</th>\n",
       "      <td>84358402</td>\n",
       "      <td>M</td>\n",
       "      <td>20.29</td>\n",
       "      <td>14.34</td>\n",
       "      <td>135.10</td>\n",
       "      <td>1297.0</td>\n",
       "      <td>0.10030</td>\n",
       "      <td>0.13280</td>\n",
       "      <td>0.1980</td>\n",
       "      <td>0.10430</td>\n",
       "      <td>...</td>\n",
       "      <td>22.54</td>\n",
       "      <td>16.67</td>\n",
       "      <td>152.20</td>\n",
       "      <td>1575.0</td>\n",
       "      <td>0.1374</td>\n",
       "      <td>0.2050</td>\n",
       "      <td>0.4000</td>\n",
       "      <td>0.1625</td>\n",
       "      <td>0.2364</td>\n",
       "      <td>0.07678</td>\n",
       "    </tr>\n",
       "  </tbody>\n",
       "</table>\n",
       "<p>5 rows × 32 columns</p>\n",
       "</div>"
      ],
      "text/plain": [
       "         id diagnosis  radius_mean  texture_mean  perimeter_mean  area_mean  \\\n",
       "0    842302         M        17.99         10.38          122.80     1001.0   \n",
       "1    842517         M        20.57         17.77          132.90     1326.0   \n",
       "2  84300903         M        19.69         21.25          130.00     1203.0   \n",
       "3  84348301         M        11.42         20.38           77.58      386.1   \n",
       "4  84358402         M        20.29         14.34          135.10     1297.0   \n",
       "\n",
       "   smoothness_mean  compactness_mean  concavity_mean  concave points_mean  \\\n",
       "0          0.11840           0.27760          0.3001              0.14710   \n",
       "1          0.08474           0.07864          0.0869              0.07017   \n",
       "2          0.10960           0.15990          0.1974              0.12790   \n",
       "3          0.14250           0.28390          0.2414              0.10520   \n",
       "4          0.10030           0.13280          0.1980              0.10430   \n",
       "\n",
       "   ...  radius_worst  texture_worst  perimeter_worst  area_worst  \\\n",
       "0  ...         25.38          17.33           184.60      2019.0   \n",
       "1  ...         24.99          23.41           158.80      1956.0   \n",
       "2  ...         23.57          25.53           152.50      1709.0   \n",
       "3  ...         14.91          26.50            98.87       567.7   \n",
       "4  ...         22.54          16.67           152.20      1575.0   \n",
       "\n",
       "   smoothness_worst  compactness_worst  concavity_worst  concave points_worst  \\\n",
       "0            0.1622             0.6656           0.7119                0.2654   \n",
       "1            0.1238             0.1866           0.2416                0.1860   \n",
       "2            0.1444             0.4245           0.4504                0.2430   \n",
       "3            0.2098             0.8663           0.6869                0.2575   \n",
       "4            0.1374             0.2050           0.4000                0.1625   \n",
       "\n",
       "   symmetry_worst  fractal_dimension_worst  \n",
       "0          0.4601                  0.11890  \n",
       "1          0.2750                  0.08902  \n",
       "2          0.3613                  0.08758  \n",
       "3          0.6638                  0.17300  \n",
       "4          0.2364                  0.07678  \n",
       "\n",
       "[5 rows x 32 columns]"
      ]
     },
     "execution_count": 8,
     "metadata": {},
     "output_type": "execute_result"
    }
   ],
   "source": [
    "# Also, we could import our dataset\n",
    "breast_cancer = pd.read_csv('breast-cancer.csv')\n",
    "breast_cancer.head()"
   ]
  },
  {
   "cell_type": "code",
   "execution_count": 9,
   "metadata": {},
   "outputs": [
    {
     "name": "stdout",
     "output_type": "stream",
     "text": [
      "<class 'pandas.core.frame.DataFrame'>\n",
      "RangeIndex: 569 entries, 0 to 568\n",
      "Data columns (total 32 columns):\n",
      " #   Column                   Non-Null Count  Dtype  \n",
      "---  ------                   --------------  -----  \n",
      " 0   id                       569 non-null    int64  \n",
      " 1   diagnosis                569 non-null    object \n",
      " 2   radius_mean              569 non-null    float64\n",
      " 3   texture_mean             569 non-null    float64\n",
      " 4   perimeter_mean           569 non-null    float64\n",
      " 5   area_mean                569 non-null    float64\n",
      " 6   smoothness_mean          569 non-null    float64\n",
      " 7   compactness_mean         569 non-null    float64\n",
      " 8   concavity_mean           569 non-null    float64\n",
      " 9   concave points_mean      569 non-null    float64\n",
      " 10  symmetry_mean            569 non-null    float64\n",
      " 11  fractal_dimension_mean   569 non-null    float64\n",
      " 12  radius_se                569 non-null    float64\n",
      " 13  texture_se               569 non-null    float64\n",
      " 14  perimeter_se             569 non-null    float64\n",
      " 15  area_se                  569 non-null    float64\n",
      " 16  smoothness_se            569 non-null    float64\n",
      " 17  compactness_se           569 non-null    float64\n",
      " 18  concavity_se             569 non-null    float64\n",
      " 19  concave points_se        569 non-null    float64\n",
      " 20  symmetry_se              569 non-null    float64\n",
      " 21  fractal_dimension_se     569 non-null    float64\n",
      " 22  radius_worst             569 non-null    float64\n",
      " 23  texture_worst            569 non-null    float64\n",
      " 24  perimeter_worst          569 non-null    float64\n",
      " 25  area_worst               569 non-null    float64\n",
      " 26  smoothness_worst         569 non-null    float64\n",
      " 27  compactness_worst        569 non-null    float64\n",
      " 28  concavity_worst          569 non-null    float64\n",
      " 29  concave points_worst     569 non-null    float64\n",
      " 30  symmetry_worst           569 non-null    float64\n",
      " 31  fractal_dimension_worst  569 non-null    float64\n",
      "dtypes: float64(30), int64(1), object(1)\n",
      "memory usage: 142.4+ KB\n"
     ]
    }
   ],
   "source": [
    "# Looking at the dtype\n",
    "breast_cancer.info()"
   ]
  },
  {
   "cell_type": "code",
   "execution_count": 10,
   "metadata": {},
   "outputs": [
    {
     "data": {
      "text/html": [
       "<div>\n",
       "<style scoped>\n",
       "    .dataframe tbody tr th:only-of-type {\n",
       "        vertical-align: middle;\n",
       "    }\n",
       "\n",
       "    .dataframe tbody tr th {\n",
       "        vertical-align: top;\n",
       "    }\n",
       "\n",
       "    .dataframe thead th {\n",
       "        text-align: right;\n",
       "    }\n",
       "</style>\n",
       "<table border=\"1\" class=\"dataframe\">\n",
       "  <thead>\n",
       "    <tr style=\"text-align: right;\">\n",
       "      <th></th>\n",
       "      <th>id</th>\n",
       "      <th>radius_mean</th>\n",
       "      <th>texture_mean</th>\n",
       "      <th>perimeter_mean</th>\n",
       "      <th>area_mean</th>\n",
       "      <th>smoothness_mean</th>\n",
       "      <th>compactness_mean</th>\n",
       "      <th>concavity_mean</th>\n",
       "      <th>concave points_mean</th>\n",
       "      <th>symmetry_mean</th>\n",
       "      <th>...</th>\n",
       "      <th>radius_worst</th>\n",
       "      <th>texture_worst</th>\n",
       "      <th>perimeter_worst</th>\n",
       "      <th>area_worst</th>\n",
       "      <th>smoothness_worst</th>\n",
       "      <th>compactness_worst</th>\n",
       "      <th>concavity_worst</th>\n",
       "      <th>concave points_worst</th>\n",
       "      <th>symmetry_worst</th>\n",
       "      <th>fractal_dimension_worst</th>\n",
       "    </tr>\n",
       "  </thead>\n",
       "  <tbody>\n",
       "    <tr>\n",
       "      <th>count</th>\n",
       "      <td>5.690000e+02</td>\n",
       "      <td>569.000000</td>\n",
       "      <td>569.000000</td>\n",
       "      <td>569.000000</td>\n",
       "      <td>569.000000</td>\n",
       "      <td>569.000000</td>\n",
       "      <td>569.000000</td>\n",
       "      <td>569.000000</td>\n",
       "      <td>569.000000</td>\n",
       "      <td>569.000000</td>\n",
       "      <td>...</td>\n",
       "      <td>569.000000</td>\n",
       "      <td>569.000000</td>\n",
       "      <td>569.000000</td>\n",
       "      <td>569.000000</td>\n",
       "      <td>569.000000</td>\n",
       "      <td>569.000000</td>\n",
       "      <td>569.000000</td>\n",
       "      <td>569.000000</td>\n",
       "      <td>569.000000</td>\n",
       "      <td>569.000000</td>\n",
       "    </tr>\n",
       "    <tr>\n",
       "      <th>mean</th>\n",
       "      <td>3.037183e+07</td>\n",
       "      <td>14.127292</td>\n",
       "      <td>19.289649</td>\n",
       "      <td>91.969033</td>\n",
       "      <td>654.889104</td>\n",
       "      <td>0.096360</td>\n",
       "      <td>0.104341</td>\n",
       "      <td>0.088799</td>\n",
       "      <td>0.048919</td>\n",
       "      <td>0.181162</td>\n",
       "      <td>...</td>\n",
       "      <td>16.269190</td>\n",
       "      <td>25.677223</td>\n",
       "      <td>107.261213</td>\n",
       "      <td>880.583128</td>\n",
       "      <td>0.132369</td>\n",
       "      <td>0.254265</td>\n",
       "      <td>0.272188</td>\n",
       "      <td>0.114606</td>\n",
       "      <td>0.290076</td>\n",
       "      <td>0.083946</td>\n",
       "    </tr>\n",
       "    <tr>\n",
       "      <th>std</th>\n",
       "      <td>1.250206e+08</td>\n",
       "      <td>3.524049</td>\n",
       "      <td>4.301036</td>\n",
       "      <td>24.298981</td>\n",
       "      <td>351.914129</td>\n",
       "      <td>0.014064</td>\n",
       "      <td>0.052813</td>\n",
       "      <td>0.079720</td>\n",
       "      <td>0.038803</td>\n",
       "      <td>0.027414</td>\n",
       "      <td>...</td>\n",
       "      <td>4.833242</td>\n",
       "      <td>6.146258</td>\n",
       "      <td>33.602542</td>\n",
       "      <td>569.356993</td>\n",
       "      <td>0.022832</td>\n",
       "      <td>0.157336</td>\n",
       "      <td>0.208624</td>\n",
       "      <td>0.065732</td>\n",
       "      <td>0.061867</td>\n",
       "      <td>0.018061</td>\n",
       "    </tr>\n",
       "    <tr>\n",
       "      <th>min</th>\n",
       "      <td>8.670000e+03</td>\n",
       "      <td>6.981000</td>\n",
       "      <td>9.710000</td>\n",
       "      <td>43.790000</td>\n",
       "      <td>143.500000</td>\n",
       "      <td>0.052630</td>\n",
       "      <td>0.019380</td>\n",
       "      <td>0.000000</td>\n",
       "      <td>0.000000</td>\n",
       "      <td>0.106000</td>\n",
       "      <td>...</td>\n",
       "      <td>7.930000</td>\n",
       "      <td>12.020000</td>\n",
       "      <td>50.410000</td>\n",
       "      <td>185.200000</td>\n",
       "      <td>0.071170</td>\n",
       "      <td>0.027290</td>\n",
       "      <td>0.000000</td>\n",
       "      <td>0.000000</td>\n",
       "      <td>0.156500</td>\n",
       "      <td>0.055040</td>\n",
       "    </tr>\n",
       "    <tr>\n",
       "      <th>25%</th>\n",
       "      <td>8.692180e+05</td>\n",
       "      <td>11.700000</td>\n",
       "      <td>16.170000</td>\n",
       "      <td>75.170000</td>\n",
       "      <td>420.300000</td>\n",
       "      <td>0.086370</td>\n",
       "      <td>0.064920</td>\n",
       "      <td>0.029560</td>\n",
       "      <td>0.020310</td>\n",
       "      <td>0.161900</td>\n",
       "      <td>...</td>\n",
       "      <td>13.010000</td>\n",
       "      <td>21.080000</td>\n",
       "      <td>84.110000</td>\n",
       "      <td>515.300000</td>\n",
       "      <td>0.116600</td>\n",
       "      <td>0.147200</td>\n",
       "      <td>0.114500</td>\n",
       "      <td>0.064930</td>\n",
       "      <td>0.250400</td>\n",
       "      <td>0.071460</td>\n",
       "    </tr>\n",
       "    <tr>\n",
       "      <th>50%</th>\n",
       "      <td>9.060240e+05</td>\n",
       "      <td>13.370000</td>\n",
       "      <td>18.840000</td>\n",
       "      <td>86.240000</td>\n",
       "      <td>551.100000</td>\n",
       "      <td>0.095870</td>\n",
       "      <td>0.092630</td>\n",
       "      <td>0.061540</td>\n",
       "      <td>0.033500</td>\n",
       "      <td>0.179200</td>\n",
       "      <td>...</td>\n",
       "      <td>14.970000</td>\n",
       "      <td>25.410000</td>\n",
       "      <td>97.660000</td>\n",
       "      <td>686.500000</td>\n",
       "      <td>0.131300</td>\n",
       "      <td>0.211900</td>\n",
       "      <td>0.226700</td>\n",
       "      <td>0.099930</td>\n",
       "      <td>0.282200</td>\n",
       "      <td>0.080040</td>\n",
       "    </tr>\n",
       "    <tr>\n",
       "      <th>75%</th>\n",
       "      <td>8.813129e+06</td>\n",
       "      <td>15.780000</td>\n",
       "      <td>21.800000</td>\n",
       "      <td>104.100000</td>\n",
       "      <td>782.700000</td>\n",
       "      <td>0.105300</td>\n",
       "      <td>0.130400</td>\n",
       "      <td>0.130700</td>\n",
       "      <td>0.074000</td>\n",
       "      <td>0.195700</td>\n",
       "      <td>...</td>\n",
       "      <td>18.790000</td>\n",
       "      <td>29.720000</td>\n",
       "      <td>125.400000</td>\n",
       "      <td>1084.000000</td>\n",
       "      <td>0.146000</td>\n",
       "      <td>0.339100</td>\n",
       "      <td>0.382900</td>\n",
       "      <td>0.161400</td>\n",
       "      <td>0.317900</td>\n",
       "      <td>0.092080</td>\n",
       "    </tr>\n",
       "    <tr>\n",
       "      <th>max</th>\n",
       "      <td>9.113205e+08</td>\n",
       "      <td>28.110000</td>\n",
       "      <td>39.280000</td>\n",
       "      <td>188.500000</td>\n",
       "      <td>2501.000000</td>\n",
       "      <td>0.163400</td>\n",
       "      <td>0.345400</td>\n",
       "      <td>0.426800</td>\n",
       "      <td>0.201200</td>\n",
       "      <td>0.304000</td>\n",
       "      <td>...</td>\n",
       "      <td>36.040000</td>\n",
       "      <td>49.540000</td>\n",
       "      <td>251.200000</td>\n",
       "      <td>4254.000000</td>\n",
       "      <td>0.222600</td>\n",
       "      <td>1.058000</td>\n",
       "      <td>1.252000</td>\n",
       "      <td>0.291000</td>\n",
       "      <td>0.663800</td>\n",
       "      <td>0.207500</td>\n",
       "    </tr>\n",
       "  </tbody>\n",
       "</table>\n",
       "<p>8 rows × 31 columns</p>\n",
       "</div>"
      ],
      "text/plain": [
       "                 id  radius_mean  texture_mean  perimeter_mean    area_mean  \\\n",
       "count  5.690000e+02   569.000000    569.000000      569.000000   569.000000   \n",
       "mean   3.037183e+07    14.127292     19.289649       91.969033   654.889104   \n",
       "std    1.250206e+08     3.524049      4.301036       24.298981   351.914129   \n",
       "min    8.670000e+03     6.981000      9.710000       43.790000   143.500000   \n",
       "25%    8.692180e+05    11.700000     16.170000       75.170000   420.300000   \n",
       "50%    9.060240e+05    13.370000     18.840000       86.240000   551.100000   \n",
       "75%    8.813129e+06    15.780000     21.800000      104.100000   782.700000   \n",
       "max    9.113205e+08    28.110000     39.280000      188.500000  2501.000000   \n",
       "\n",
       "       smoothness_mean  compactness_mean  concavity_mean  concave points_mean  \\\n",
       "count       569.000000        569.000000      569.000000           569.000000   \n",
       "mean          0.096360          0.104341        0.088799             0.048919   \n",
       "std           0.014064          0.052813        0.079720             0.038803   \n",
       "min           0.052630          0.019380        0.000000             0.000000   \n",
       "25%           0.086370          0.064920        0.029560             0.020310   \n",
       "50%           0.095870          0.092630        0.061540             0.033500   \n",
       "75%           0.105300          0.130400        0.130700             0.074000   \n",
       "max           0.163400          0.345400        0.426800             0.201200   \n",
       "\n",
       "       symmetry_mean  ...  radius_worst  texture_worst  perimeter_worst  \\\n",
       "count     569.000000  ...    569.000000     569.000000       569.000000   \n",
       "mean        0.181162  ...     16.269190      25.677223       107.261213   \n",
       "std         0.027414  ...      4.833242       6.146258        33.602542   \n",
       "min         0.106000  ...      7.930000      12.020000        50.410000   \n",
       "25%         0.161900  ...     13.010000      21.080000        84.110000   \n",
       "50%         0.179200  ...     14.970000      25.410000        97.660000   \n",
       "75%         0.195700  ...     18.790000      29.720000       125.400000   \n",
       "max         0.304000  ...     36.040000      49.540000       251.200000   \n",
       "\n",
       "        area_worst  smoothness_worst  compactness_worst  concavity_worst  \\\n",
       "count   569.000000        569.000000         569.000000       569.000000   \n",
       "mean    880.583128          0.132369           0.254265         0.272188   \n",
       "std     569.356993          0.022832           0.157336         0.208624   \n",
       "min     185.200000          0.071170           0.027290         0.000000   \n",
       "25%     515.300000          0.116600           0.147200         0.114500   \n",
       "50%     686.500000          0.131300           0.211900         0.226700   \n",
       "75%    1084.000000          0.146000           0.339100         0.382900   \n",
       "max    4254.000000          0.222600           1.058000         1.252000   \n",
       "\n",
       "       concave points_worst  symmetry_worst  fractal_dimension_worst  \n",
       "count            569.000000      569.000000               569.000000  \n",
       "mean               0.114606        0.290076                 0.083946  \n",
       "std                0.065732        0.061867                 0.018061  \n",
       "min                0.000000        0.156500                 0.055040  \n",
       "25%                0.064930        0.250400                 0.071460  \n",
       "50%                0.099930        0.282200                 0.080040  \n",
       "75%                0.161400        0.317900                 0.092080  \n",
       "max                0.291000        0.663800                 0.207500  \n",
       "\n",
       "[8 rows x 31 columns]"
      ]
     },
     "execution_count": 10,
     "metadata": {},
     "output_type": "execute_result"
    }
   ],
   "source": [
    "# looking at statistical summary\n",
    "breast_cancer.describe()"
   ]
  },
  {
   "cell_type": "code",
   "execution_count": 11,
   "metadata": {},
   "outputs": [],
   "source": [
    "# replacing B and M as Benign and Malignant\n",
    "breast_cancer['diagnosis'].replace('B', 'Benign',inplace=True)\n",
    "breast_cancer['diagnosis'].replace('M', 'Malignant',inplace=True)"
   ]
  },
  {
   "cell_type": "markdown",
   "metadata": {},
   "source": [
    "# Standardizing dataset"
   ]
  },
  {
   "cell_type": "code",
   "execution_count": 12,
   "metadata": {},
   "outputs": [],
   "source": [
    "# importing standardizing library\n",
    "from sklearn.preprocessing import StandardScaler\n",
    "\n",
    "features = ['radius_mean', 'texture_mean', 'perimeter_mean', 'area_mean',\n",
    "       'smoothness_mean', 'compactness_mean', 'concavity_mean',\n",
    "       'concave points_mean', 'symmetry_mean', 'fractal_dimension_mean',\n",
    "       'radius_se', 'texture_se', 'perimeter_se', 'area_se',\n",
    "       'smoothness_se', 'compactness_se', 'concavity_se',\n",
    "       'concave points_se', 'symmetry_se',\n",
    "       'fractal_dimension_se', 'radius_worst', 'texture_worst',\n",
    "       'perimeter_worst', 'area_worst', 'smoothness_worst',\n",
    "       'compactness_worst', 'concavity_worst', 'concave points_worst',\n",
    "       'symmetry_worst', 'fractal_dimension_worst']\n",
    "\n",
    "# Separating out the features\n",
    "X = breast_cancer.loc[:, features].values\n",
    "\n",
    "# Separating out the target\n",
    "y = breast_cancer.loc[:,['diagnosis']].values\n",
    "\n",
    "# Standardizing the features\n",
    "X = StandardScaler().fit_transform(X)"
   ]
  },
  {
   "cell_type": "code",
   "execution_count": 13,
   "metadata": {},
   "outputs": [
    {
     "data": {
      "text/html": [
       "<div>\n",
       "<style scoped>\n",
       "    .dataframe tbody tr th:only-of-type {\n",
       "        vertical-align: middle;\n",
       "    }\n",
       "\n",
       "    .dataframe tbody tr th {\n",
       "        vertical-align: top;\n",
       "    }\n",
       "\n",
       "    .dataframe thead th {\n",
       "        text-align: right;\n",
       "    }\n",
       "</style>\n",
       "<table border=\"1\" class=\"dataframe\">\n",
       "  <thead>\n",
       "    <tr style=\"text-align: right;\">\n",
       "      <th></th>\n",
       "      <th>radius_mean</th>\n",
       "      <th>texture_mean</th>\n",
       "      <th>perimeter_mean</th>\n",
       "      <th>area_mean</th>\n",
       "      <th>smoothness_mean</th>\n",
       "      <th>compactness_mean</th>\n",
       "      <th>concavity_mean</th>\n",
       "      <th>concave points_mean</th>\n",
       "      <th>symmetry_mean</th>\n",
       "      <th>fractal_dimension_mean</th>\n",
       "      <th>...</th>\n",
       "      <th>radius_worst</th>\n",
       "      <th>texture_worst</th>\n",
       "      <th>perimeter_worst</th>\n",
       "      <th>area_worst</th>\n",
       "      <th>smoothness_worst</th>\n",
       "      <th>compactness_worst</th>\n",
       "      <th>concavity_worst</th>\n",
       "      <th>concave points_worst</th>\n",
       "      <th>symmetry_worst</th>\n",
       "      <th>fractal_dimension_worst</th>\n",
       "    </tr>\n",
       "  </thead>\n",
       "  <tbody>\n",
       "    <tr>\n",
       "      <th>0</th>\n",
       "      <td>1.097064</td>\n",
       "      <td>-2.073335</td>\n",
       "      <td>1.269934</td>\n",
       "      <td>0.984375</td>\n",
       "      <td>1.568466</td>\n",
       "      <td>3.283515</td>\n",
       "      <td>2.652874</td>\n",
       "      <td>2.532475</td>\n",
       "      <td>2.217515</td>\n",
       "      <td>2.255747</td>\n",
       "      <td>...</td>\n",
       "      <td>1.886690</td>\n",
       "      <td>-1.359293</td>\n",
       "      <td>2.303601</td>\n",
       "      <td>2.001237</td>\n",
       "      <td>1.307686</td>\n",
       "      <td>2.616665</td>\n",
       "      <td>2.109526</td>\n",
       "      <td>2.296076</td>\n",
       "      <td>2.750622</td>\n",
       "      <td>1.937015</td>\n",
       "    </tr>\n",
       "    <tr>\n",
       "      <th>1</th>\n",
       "      <td>1.829821</td>\n",
       "      <td>-0.353632</td>\n",
       "      <td>1.685955</td>\n",
       "      <td>1.908708</td>\n",
       "      <td>-0.826962</td>\n",
       "      <td>-0.487072</td>\n",
       "      <td>-0.023846</td>\n",
       "      <td>0.548144</td>\n",
       "      <td>0.001392</td>\n",
       "      <td>-0.868652</td>\n",
       "      <td>...</td>\n",
       "      <td>1.805927</td>\n",
       "      <td>-0.369203</td>\n",
       "      <td>1.535126</td>\n",
       "      <td>1.890489</td>\n",
       "      <td>-0.375612</td>\n",
       "      <td>-0.430444</td>\n",
       "      <td>-0.146749</td>\n",
       "      <td>1.087084</td>\n",
       "      <td>-0.243890</td>\n",
       "      <td>0.281190</td>\n",
       "    </tr>\n",
       "    <tr>\n",
       "      <th>2</th>\n",
       "      <td>1.579888</td>\n",
       "      <td>0.456187</td>\n",
       "      <td>1.566503</td>\n",
       "      <td>1.558884</td>\n",
       "      <td>0.942210</td>\n",
       "      <td>1.052926</td>\n",
       "      <td>1.363478</td>\n",
       "      <td>2.037231</td>\n",
       "      <td>0.939685</td>\n",
       "      <td>-0.398008</td>\n",
       "      <td>...</td>\n",
       "      <td>1.511870</td>\n",
       "      <td>-0.023974</td>\n",
       "      <td>1.347475</td>\n",
       "      <td>1.456285</td>\n",
       "      <td>0.527407</td>\n",
       "      <td>1.082932</td>\n",
       "      <td>0.854974</td>\n",
       "      <td>1.955000</td>\n",
       "      <td>1.152255</td>\n",
       "      <td>0.201391</td>\n",
       "    </tr>\n",
       "    <tr>\n",
       "      <th>3</th>\n",
       "      <td>-0.768909</td>\n",
       "      <td>0.253732</td>\n",
       "      <td>-0.592687</td>\n",
       "      <td>-0.764464</td>\n",
       "      <td>3.283553</td>\n",
       "      <td>3.402909</td>\n",
       "      <td>1.915897</td>\n",
       "      <td>1.451707</td>\n",
       "      <td>2.867383</td>\n",
       "      <td>4.910919</td>\n",
       "      <td>...</td>\n",
       "      <td>-0.281464</td>\n",
       "      <td>0.133984</td>\n",
       "      <td>-0.249939</td>\n",
       "      <td>-0.550021</td>\n",
       "      <td>3.394275</td>\n",
       "      <td>3.893397</td>\n",
       "      <td>1.989588</td>\n",
       "      <td>2.175786</td>\n",
       "      <td>6.046041</td>\n",
       "      <td>4.935010</td>\n",
       "    </tr>\n",
       "    <tr>\n",
       "      <th>4</th>\n",
       "      <td>1.750297</td>\n",
       "      <td>-1.151816</td>\n",
       "      <td>1.776573</td>\n",
       "      <td>1.826229</td>\n",
       "      <td>0.280372</td>\n",
       "      <td>0.539340</td>\n",
       "      <td>1.371011</td>\n",
       "      <td>1.428493</td>\n",
       "      <td>-0.009560</td>\n",
       "      <td>-0.562450</td>\n",
       "      <td>...</td>\n",
       "      <td>1.298575</td>\n",
       "      <td>-1.466770</td>\n",
       "      <td>1.338539</td>\n",
       "      <td>1.220724</td>\n",
       "      <td>0.220556</td>\n",
       "      <td>-0.313395</td>\n",
       "      <td>0.613179</td>\n",
       "      <td>0.729259</td>\n",
       "      <td>-0.868353</td>\n",
       "      <td>-0.397100</td>\n",
       "    </tr>\n",
       "  </tbody>\n",
       "</table>\n",
       "<p>5 rows × 30 columns</p>\n",
       "</div>"
      ],
      "text/plain": [
       "   radius_mean  texture_mean  perimeter_mean  area_mean  smoothness_mean  \\\n",
       "0     1.097064     -2.073335        1.269934   0.984375         1.568466   \n",
       "1     1.829821     -0.353632        1.685955   1.908708        -0.826962   \n",
       "2     1.579888      0.456187        1.566503   1.558884         0.942210   \n",
       "3    -0.768909      0.253732       -0.592687  -0.764464         3.283553   \n",
       "4     1.750297     -1.151816        1.776573   1.826229         0.280372   \n",
       "\n",
       "   compactness_mean  concavity_mean  concave points_mean  symmetry_mean  \\\n",
       "0          3.283515        2.652874             2.532475       2.217515   \n",
       "1         -0.487072       -0.023846             0.548144       0.001392   \n",
       "2          1.052926        1.363478             2.037231       0.939685   \n",
       "3          3.402909        1.915897             1.451707       2.867383   \n",
       "4          0.539340        1.371011             1.428493      -0.009560   \n",
       "\n",
       "   fractal_dimension_mean  ...  radius_worst  texture_worst  perimeter_worst  \\\n",
       "0                2.255747  ...      1.886690      -1.359293         2.303601   \n",
       "1               -0.868652  ...      1.805927      -0.369203         1.535126   \n",
       "2               -0.398008  ...      1.511870      -0.023974         1.347475   \n",
       "3                4.910919  ...     -0.281464       0.133984        -0.249939   \n",
       "4               -0.562450  ...      1.298575      -1.466770         1.338539   \n",
       "\n",
       "   area_worst  smoothness_worst  compactness_worst  concavity_worst  \\\n",
       "0    2.001237          1.307686           2.616665         2.109526   \n",
       "1    1.890489         -0.375612          -0.430444        -0.146749   \n",
       "2    1.456285          0.527407           1.082932         0.854974   \n",
       "3   -0.550021          3.394275           3.893397         1.989588   \n",
       "4    1.220724          0.220556          -0.313395         0.613179   \n",
       "\n",
       "   concave points_worst  symmetry_worst  fractal_dimension_worst  \n",
       "0              2.296076        2.750622                 1.937015  \n",
       "1              1.087084       -0.243890                 0.281190  \n",
       "2              1.955000        1.152255                 0.201391  \n",
       "3              2.175786        6.046041                 4.935010  \n",
       "4              0.729259       -0.868353                -0.397100  \n",
       "\n",
       "[5 rows x 30 columns]"
      ]
     },
     "execution_count": 13,
     "metadata": {},
     "output_type": "execute_result"
    }
   ],
   "source": [
    "pd.DataFrame(data = X, columns = features).head()"
   ]
  },
  {
   "cell_type": "code",
   "execution_count": 14,
   "metadata": {},
   "outputs": [
    {
     "data": {
      "text/plain": [
       "(569, 30)"
      ]
     },
     "execution_count": 14,
     "metadata": {},
     "output_type": "execute_result"
    }
   ],
   "source": [
    "X.shape"
   ]
  },
  {
   "cell_type": "code",
   "execution_count": 15,
   "metadata": {},
   "outputs": [
    {
     "data": {
      "text/plain": [
       "(-6.826538293184326e-17, 1.0)"
      ]
     },
     "execution_count": 15,
     "metadata": {},
     "output_type": "execute_result"
    }
   ],
   "source": [
    "# looking if normalized data have mean 0 and std 1.\n",
    "np.mean(X),np.std(X)"
   ]
  },
  {
   "cell_type": "code",
   "execution_count": 16,
   "metadata": {},
   "outputs": [],
   "source": [
    "# Splitting the dataset into the 80% Training set and 20% Test set\n",
    "from sklearn.model_selection import train_test_split\n",
    "\n",
    "X_train, X_test, y_train, y_test = train_test_split(X, y, test_size=0.2, random_state=0)"
   ]
  },
  {
   "cell_type": "markdown",
   "metadata": {},
   "source": [
    "# Covariance Matrix"
   ]
  },
  {
   "cell_type": "markdown",
   "metadata": {},
   "source": [
    "The covariance matrix is used to express the correlation between any twi or more attributes in a multidimensional dataset. Covariance matrix tells us how the two or more variables are related.\n",
    "\n",
    "1. Positive covariance indicate that the value of one variable is diectly proportional to the other variable meaning if variable x1 increases then x2 increases as well.\n",
    "\n",
    "\n",
    "2. Negative covariance indicate that the value of one variable is indirectly proportional to the other variable meaning that if x1 increases then x2 decreases."
   ]
  },
  {
   "cell_type": "code",
   "execution_count": 17,
   "metadata": {},
   "outputs": [
    {
     "name": "stdout",
     "output_type": "stream",
     "text": [
      "Covariance Matrix [[ 1.00176056e+00  3.24351929e-01  9.99612069e-01  9.89095475e-01\n",
      "   1.70881506e-01  5.07014640e-01  6.77955036e-01  8.23976636e-01\n",
      "   1.48001350e-01 -3.12179472e-01  6.80285970e-01 -9.74887767e-02\n",
      "   6.75358538e-01  7.37159198e-01 -2.22992026e-01  2.06362656e-01\n",
      "   1.94545531e-01  3.76831225e-01 -1.04504545e-01 -4.27163418e-02\n",
      "   9.71245907e-01  2.97530545e-01  9.66835698e-01  9.42739295e-01\n",
      "   1.19826732e-01  4.14190751e-01  5.27839123e-01  7.45524434e-01\n",
      "   1.64241985e-01  7.07832563e-03]\n",
      " [ 3.24351929e-01  1.00176056e+00  3.30113223e-01  3.21650988e-01\n",
      "  -2.34296930e-02  2.37118951e-01  3.02950254e-01  2.93980713e-01\n",
      "   7.15266864e-02 -7.65717560e-02  2.76354360e-01  3.87037830e-01\n",
      "   2.82169018e-01  2.60302460e-01  6.62542133e-03  1.92312595e-01\n",
      "   1.43545353e-01  1.64139495e-01  9.14323671e-03  5.45533955e-02\n",
      "   3.53193674e-01  9.13650301e-01  3.58669926e-01  3.44150782e-01\n",
      "   7.76398084e-02  2.78318729e-01  3.01555198e-01  2.95835766e-01\n",
      "   1.05192783e-01  1.19415220e-01]\n",
      " [ 9.99612069e-01  3.30113223e-01  1.00176056e+00  9.88243612e-01\n",
      "   2.07643090e-01  5.57916732e-01  7.17396452e-01  8.52475240e-01\n",
      "   1.83349443e-01 -2.61937255e-01  6.92982910e-01 -8.69138267e-02\n",
      "   6.94355197e-01  7.46294283e-01 -2.03050882e-01  2.51185131e-01\n",
      "   2.28483899e-01  4.07933847e-01 -8.17730406e-02 -5.53311534e-03\n",
      "   9.71183188e-01  3.03571890e-01  9.72095315e-01  9.43207466e-01\n",
      "   1.50814456e-01  4.56576647e-01  5.64872009e-01  7.72598608e-01\n",
      "   1.89447989e-01  5.11083511e-02]\n",
      " [ 9.89095475e-01  3.21650988e-01  9.88243612e-01  1.00176056e+00\n",
      "   1.77340047e-01  4.99379326e-01  6.87190545e-01  8.24718286e-01\n",
      "   1.51559440e-01 -2.83608244e-01  7.33851949e-01 -6.63969041e-02\n",
      "   7.27907603e-01  8.01494523e-01 -1.67070287e-01  2.12956816e-01\n",
      "   2.08025659e-01  3.72975776e-01 -7.26242231e-02 -1.99219755e-02\n",
      "   9.64441062e-01  2.87994769e-01  9.60808165e-01  9.60902082e-01\n",
      "   1.23740409e-01  3.91097651e-01  5.13508396e-01  7.23287782e-01\n",
      "   1.43822678e-01  3.74417763e-03]\n",
      " [ 1.70881506e-01 -2.34296930e-02  2.07643090e-01  1.77340047e-01\n",
      "   1.00176056e+00  6.60283643e-01  5.22902753e-01  5.54669988e-01\n",
      "   5.58756786e-01  5.85821565e-01  3.01997850e-01  6.85268821e-02\n",
      "   2.96613222e-01  2.46986503e-01  3.32960611e-01  3.19504817e-01\n",
      "   2.48832996e-01  3.81345895e-01  2.01127852e-01  2.84106006e-01\n",
      "   2.13495353e-01  3.61353055e-02  2.39273141e-01  2.07082304e-01\n",
      "   8.06742020e-01  4.73300254e-01  4.35691429e-01  5.03939011e-01\n",
      "   3.95003689e-01  5.00195447e-01]\n",
      " [ 5.07014640e-01  2.37118951e-01  5.57916732e-01  4.99379326e-01\n",
      "   6.60283643e-01  1.00176056e+00  8.84675460e-01  8.32598309e-01\n",
      "   6.03702036e-01  5.66364031e-01  4.98349280e-01  4.62861772e-02\n",
      "   5.49871647e-01  4.56455058e-01  1.35537471e-01  7.40022356e-01\n",
      "   5.71521303e-01  6.43392594e-01  2.30381479e-01  5.08211293e-01\n",
      "   5.36257855e-01  2.48569687e-01  5.91249531e-01  5.10500995e-01\n",
      "   5.66536837e-01  8.67333351e-01  8.17712354e-01  8.17009092e-01\n",
      "   5.11121711e-01  6.88592503e-01]\n",
      " [ 6.77955036e-01  3.02950254e-01  7.17396452e-01  6.87190545e-01\n",
      "   5.22902753e-01  8.84675460e-01  1.00176056e+00  9.23013194e-01\n",
      "   5.01548072e-01  3.37376288e-01  6.33037366e-01  7.63525354e-02\n",
      "   6.61553447e-01  6.18513825e-01  9.87372735e-02  6.71458893e-01\n",
      "   6.92487233e-01  6.84462839e-01  1.78322604e-01  4.50091771e-01\n",
      "   6.89448091e-01  3.00406844e-01  7.30849362e-01  6.77177350e-01\n",
      "   4.49612218e-01  7.56297185e-01  8.85659158e-01  8.62839447e-01\n",
      "   4.10185014e-01  5.15836457e-01]\n",
      " [ 8.23976636e-01  2.93980713e-01  8.52475240e-01  8.24718286e-01\n",
      "   5.54669988e-01  8.32598309e-01  9.23013194e-01  1.00176056e+00\n",
      "   4.63311644e-01  1.67211252e-01  6.99278795e-01  2.15173981e-02\n",
      "   7.11901016e-01  6.91513854e-01  2.77019938e-02  4.91287673e-01\n",
      "   4.39940250e-01  6.16717994e-01  9.55186580e-02  2.58037239e-01\n",
      "   8.31779458e-01  2.93267121e-01  8.57430035e-01  8.11055024e-01\n",
      "   4.53550155e-01  6.68628771e-01  7.53724145e-01  9.11757700e-01\n",
      "   3.76405667e-01  3.69310185e-01]\n",
      " [ 1.48001350e-01  7.15266864e-02  1.83349443e-01  1.51559440e-01\n",
      "   5.58756786e-01  6.03702036e-01  5.01548072e-01  4.63311644e-01\n",
      "   1.00176056e+00  4.80766262e-01  3.03913382e-01  1.28278372e-01\n",
      "   3.14445389e-01  2.24364533e-01  1.87650956e-01  4.22401505e-01\n",
      "   3.43230240e-01  3.93990298e-01  4.49927276e-01  3.32370277e-01\n",
      "   1.86054739e-01  9.08102844e-02  2.19554419e-01  1.77505338e-01\n",
      "   4.27426215e-01  4.74033112e-01  4.34484601e-01  4.31054176e-01\n",
      "   7.01057885e-01  4.39185353e-01]\n",
      " [-3.12179472e-01 -7.65717560e-02 -2.61937255e-01 -2.83608244e-01\n",
      "   5.85821565e-01  5.66364031e-01  3.37376288e-01  1.67211252e-01\n",
      "   4.80766262e-01  1.00176056e+00  1.11190486e-04  1.64463005e-01\n",
      "   3.99000547e-02 -9.03289980e-02  4.02672109e-01  5.60822319e-01\n",
      "   4.47416643e-01  3.41798745e-01  3.45614805e-01  6.89343077e-01\n",
      "  -2.54138135e-01 -5.13594647e-02 -2.05512393e-01 -2.32262646e-01\n",
      "   5.05831058e-01  4.59605900e-01  3.46843443e-01  1.75634121e-01\n",
      "   3.34606745e-01  7.68647654e-01]\n",
      " [ 6.80285970e-01  2.76354360e-01  6.92982910e-01  7.33851949e-01\n",
      "   3.01997850e-01  4.98349280e-01  6.33037366e-01  6.99278795e-01\n",
      "   3.03913382e-01  1.11190486e-04  1.00176056e+00  2.13622773e-01\n",
      "   9.74506342e-01  9.53505869e-01  1.64803858e-01  3.56691450e-01\n",
      "   3.32942674e-01  5.14250220e-01  2.40990897e-01  2.28154507e-01\n",
      "   7.16324113e-01  1.95141512e-01  7.20950853e-01  7.52871625e-01\n",
      "   1.42168410e-01  2.87608629e-01  3.81254678e-01  5.31997297e-01\n",
      "   9.47092790e-02  4.96466850e-02]\n",
      " [-9.74887767e-02  3.87037830e-01 -8.69138267e-02 -6.63969041e-02\n",
      "   6.85268821e-02  4.62861772e-02  7.63525354e-02  2.15173981e-02\n",
      "   1.28278372e-01  1.64463005e-01  2.13622773e-01  1.00176056e+00\n",
      "   2.23563635e-01  1.11763668e-01  3.97942224e-01  2.32107621e-01\n",
      "   1.95341772e-01  2.30688828e-01  4.12345364e-01  2.80215217e-01\n",
      "  -1.11886951e-01  4.09722842e-01 -1.02421925e-01 -8.33414586e-02\n",
      "  -7.37873381e-02 -9.26020990e-02 -6.90776223e-02 -1.19848153e-01\n",
      "  -1.28440488e-01 -4.57349464e-02]\n",
      " [ 6.75358538e-01  2.82169018e-01  6.94355197e-01  7.27907603e-01\n",
      "   2.96613222e-01  5.49871647e-01  6.61553447e-01  7.11901016e-01\n",
      "   3.14445389e-01  3.99000547e-02  9.74506342e-01  2.23563635e-01\n",
      "   1.00176056e+00  9.39306209e-01  1.51341309e-01  4.17055330e-01\n",
      "   3.63119754e-01  5.57243422e-01  2.66956259e-01  2.44572602e-01\n",
      "   6.98428059e-01  2.00723620e-01  7.22300731e-01  7.31999440e-01\n",
      "   1.30283361e-01  3.42521416e-01  4.19636314e-01  5.55874162e-01\n",
      "   1.10123974e-01  8.55829815e-02]\n",
      " [ 7.37159198e-01  2.60302460e-01  7.46294283e-01  8.01494523e-01\n",
      "   2.46986503e-01  4.56455058e-01  6.18513825e-01  6.91513854e-01\n",
      "   2.24364533e-01 -9.03289980e-02  9.53505869e-01  1.11763668e-01\n",
      "   9.39306209e-01  1.00176056e+00  7.52826451e-02  2.85341536e-01\n",
      "   2.71371654e-01  4.16461487e-01  1.34345087e-01  1.27294619e-01\n",
      "   7.58706592e-01  1.96842594e-01  7.62552799e-01  8.12836496e-01\n",
      "   1.25610187e-01  2.83755229e-01  3.85778129e-01  5.39113790e-01\n",
      "   7.42567956e-02  1.75701742e-02]\n",
      " [-2.22992026e-01  6.62542133e-03 -2.03050882e-01 -1.67070287e-01\n",
      "   3.32960611e-01  1.35537471e-01  9.87372735e-02  2.77019938e-02\n",
      "   1.87650956e-01  4.02672109e-01  1.64803858e-01  3.97942224e-01\n",
      "   1.51341309e-01  7.52826451e-02  1.00176056e+00  3.37288855e-01\n",
      "   2.69157796e-01  3.29007720e-01  4.14234129e-01  4.28126626e-01\n",
      "  -2.31096855e-01 -7.48745546e-02 -2.17686332e-01 -1.82516245e-01\n",
      "   3.15011078e-01 -5.56559523e-02 -5.84010247e-02 -1.02186386e-01\n",
      "  -1.07531080e-01  1.01658978e-01]\n",
      " [ 2.06362656e-01  1.92312595e-01  2.51185131e-01  2.12956816e-01\n",
      "   3.19504817e-01  7.40022356e-01  6.71458893e-01  4.91287673e-01\n",
      "   4.22401505e-01  5.60822319e-01  3.56691450e-01  2.32107621e-01\n",
      "   4.17055330e-01  2.85341536e-01  3.37288855e-01  1.00176056e+00\n",
      "   8.02679026e-01  7.45392672e-01  3.95407752e-01  8.04683023e-01\n",
      "   2.04967390e-01  1.43254348e-01  2.60974494e-01  1.99722335e-01\n",
      "   2.27794574e-01  6.79975390e-01  6.40271956e-01  4.84059046e-01\n",
      "   2.78367653e-01  5.92013208e-01]\n",
      " [ 1.94545531e-01  1.43545353e-01  2.28483899e-01  2.08025659e-01\n",
      "   2.48832996e-01  5.71521303e-01  6.92487233e-01  4.39940250e-01\n",
      "   3.43230240e-01  4.47416643e-01  3.32942674e-01  1.95341772e-01\n",
      "   3.63119754e-01  2.71371654e-01  2.69157796e-01  8.02679026e-01\n",
      "   1.00176056e+00  7.73162805e-01  3.09973347e-01  7.28652769e-01\n",
      "   1.87232571e-01  1.00417464e-01  2.27079511e-01  1.88684259e-01\n",
      "   1.68777943e-01  4.85711424e-01  6.63730620e-01  4.41247742e-01\n",
      "   1.98136040e-01  4.40102736e-01]\n",
      " [ 3.76831225e-01  1.64139495e-01  4.07933847e-01  3.72975776e-01\n",
      "   3.81345895e-01  6.43392594e-01  6.84462839e-01  6.16717994e-01\n",
      "   3.93990298e-01  3.41798745e-01  5.14250220e-01  2.30688828e-01\n",
      "   5.57243422e-01  4.16461487e-01  3.29007720e-01  7.45392672e-01\n",
      "   7.73162805e-01  1.00176056e+00  3.13330893e-01  6.12119921e-01\n",
      "   3.58757174e-01  8.68939233e-02  3.95694673e-01  3.42873752e-01\n",
      "   2.15729735e-01  4.53685716e-01  5.50559967e-01  6.03510257e-01\n",
      "   1.43367633e-01  3.11201479e-01]\n",
      " [-1.04504545e-01  9.14323671e-03 -8.17730406e-02 -7.26242231e-02\n",
      "   2.01127852e-01  2.30381479e-01  1.78322604e-01  9.55186580e-02\n",
      "   4.49927276e-01  3.45614805e-01  2.40990897e-01  4.12345364e-01\n",
      "   2.66956259e-01  1.34345087e-01  4.14234129e-01  3.95407752e-01\n",
      "   3.09973347e-01  3.13330893e-01  1.00176056e+00  3.69727869e-01\n",
      "  -1.28346334e-01 -7.76098171e-02 -1.03935708e-01 -1.10537008e-01\n",
      "  -1.26840915e-02  6.03609620e-02  3.71843990e-02 -3.04669411e-02\n",
      "   3.90088053e-01  7.82169401e-02]\n",
      " [-4.27163418e-02  5.45533955e-02 -5.53311534e-03 -1.99219755e-02\n",
      "   2.84106006e-01  5.08211293e-01  4.50091771e-01  2.58037239e-01\n",
      "   3.32370277e-01  6.89343077e-01  2.28154507e-01  2.80215217e-01\n",
      "   2.44572602e-01  1.27294619e-01  4.28126626e-01  8.04683023e-01\n",
      "   7.28652769e-01  6.12119921e-01  3.69727869e-01  1.00176056e+00\n",
      "  -3.75536172e-02 -3.20065392e-03 -1.00215889e-03 -2.27761757e-02\n",
      "   1.70868612e-01  3.90845741e-01  3.80643631e-01  2.15582894e-01\n",
      "   1.11289544e-01  5.92369136e-01]\n",
      " [ 9.71245907e-01  3.53193674e-01  9.71183188e-01  9.64441062e-01\n",
      "   2.13495353e-01  5.36257855e-01  6.89448091e-01  8.31779458e-01\n",
      "   1.86054739e-01 -2.54138135e-01  7.16324113e-01 -1.11886951e-01\n",
      "   6.98428059e-01  7.58706592e-01 -2.31096855e-01  2.04967390e-01\n",
      "   1.87232571e-01  3.58757174e-01 -1.28346334e-01 -3.75536172e-02\n",
      "   1.00176056e+00  3.60554418e-01  9.95457402e-01  9.85746984e-01\n",
      "   2.16955724e-01  4.76657749e-01  5.74985227e-01  7.88810161e-01\n",
      "   2.43957953e-01  9.36565772e-02]\n",
      " [ 2.97530545e-01  9.13650301e-01  3.03571890e-01  2.87994769e-01\n",
      "   3.61353055e-02  2.48569687e-01  3.00406844e-01  2.93267121e-01\n",
      "   9.08102844e-02 -5.13594647e-02  1.95141512e-01  4.09722842e-01\n",
      "   2.00723620e-01  1.96842594e-01 -7.48745546e-02  1.43254348e-01\n",
      "   1.00417464e-01  8.68939233e-02 -7.76098171e-02 -3.20065392e-03\n",
      "   3.60554418e-01  1.00176056e+00  3.65741024e-01  3.46451160e-01\n",
      "   2.25826298e-01  3.61467607e-01  3.69014138e-01  3.60387980e-01\n",
      "   2.33437721e-01  2.19508204e-01]\n",
      " [ 9.66835698e-01  3.58669926e-01  9.72095315e-01  9.60808165e-01\n",
      "   2.39273141e-01  5.91249531e-01  7.30849362e-01  8.57430035e-01\n",
      "   2.19554419e-01 -2.05512393e-01  7.20950853e-01 -1.02421925e-01\n",
      "   7.22300731e-01  7.62552799e-01 -2.17686332e-01  2.60974494e-01\n",
      "   2.27079511e-01  3.95694673e-01 -1.03935708e-01 -1.00215889e-03\n",
      "   9.95457402e-01  3.65741024e-01  1.00176056e+00  9.79299180e-01\n",
      "   2.37191461e-01  5.30339746e-01  6.19432713e-01  8.17759288e-01\n",
      "   2.69967228e-01  1.39201504e-01]\n",
      " [ 9.42739295e-01  3.44150782e-01  9.43207466e-01  9.60902082e-01\n",
      "   2.07082304e-01  5.10500995e-01  6.77177350e-01  8.11055024e-01\n",
      "   1.77505338e-01 -2.32262646e-01  7.52871625e-01 -8.33414586e-02\n",
      "   7.31999440e-01  8.12836496e-01 -1.82516245e-01  1.99722335e-01\n",
      "   1.88684259e-01  3.42873752e-01 -1.10537008e-01 -2.27761757e-02\n",
      "   9.85746984e-01  3.46451160e-01  9.79299180e-01  1.00176056e+00\n",
      "   2.09513547e-01  4.39067932e-01  5.44287093e-01  7.48734680e-01\n",
      "   2.09513722e-01  7.97872577e-02]\n",
      " [ 1.19826732e-01  7.76398084e-02  1.50814456e-01  1.23740409e-01\n",
      "   8.06742020e-01  5.66536837e-01  4.49612218e-01  4.53550155e-01\n",
      "   4.27426215e-01  5.05831058e-01  1.42168410e-01 -7.37873381e-02\n",
      "   1.30283361e-01  1.25610187e-01  3.15011078e-01  2.27794574e-01\n",
      "   1.68777943e-01  2.15729735e-01 -1.26840915e-02  1.70868612e-01\n",
      "   2.16955724e-01  2.25826298e-01  2.37191461e-01  2.09513547e-01\n",
      "   1.00176056e+00  5.69186845e-01  5.19436186e-01  5.48655147e-01\n",
      "   4.94707764e-01  6.18711558e-01]\n",
      " [ 4.14190751e-01  2.78318729e-01  4.56576647e-01  3.91097651e-01\n",
      "   4.73300254e-01  8.67333351e-01  7.56297185e-01  6.68628771e-01\n",
      "   4.74033112e-01  4.59605900e-01  2.87608629e-01 -9.26020990e-02\n",
      "   3.42521416e-01  2.83755229e-01 -5.56559523e-02  6.79975390e-01\n",
      "   4.85711424e-01  4.53685716e-01  6.03609620e-02  3.90845741e-01\n",
      "   4.76657749e-01  3.61467607e-01  5.30339746e-01  4.39067932e-01\n",
      "   5.69186845e-01  1.00176056e+00  8.93831781e-01  8.02490717e-01\n",
      "   6.15522263e-01  8.11881713e-01]\n",
      " [ 5.27839123e-01  3.01555198e-01  5.64872009e-01  5.13508396e-01\n",
      "   4.35691429e-01  8.17712354e-01  8.85659158e-01  7.53724145e-01\n",
      "   4.34484601e-01  3.46843443e-01  3.81254678e-01 -6.90776223e-02\n",
      "   4.19636314e-01  3.85778129e-01 -5.84010247e-02  6.40271956e-01\n",
      "   6.63730620e-01  5.50559967e-01  3.71843990e-02  3.80643631e-01\n",
      "   5.74985227e-01  3.69014138e-01  6.19432713e-01  5.44287093e-01\n",
      "   5.19436186e-01  8.93831781e-01  1.00176056e+00  8.56939906e-01\n",
      "   5.33457264e-01  6.87719567e-01]\n",
      " [ 7.45524434e-01  2.95835766e-01  7.72598608e-01  7.23287782e-01\n",
      "   5.03939011e-01  8.17009092e-01  8.62839447e-01  9.11757700e-01\n",
      "   4.31054176e-01  1.75634121e-01  5.31997297e-01 -1.19848153e-01\n",
      "   5.55874162e-01  5.39113790e-01 -1.02186386e-01  4.84059046e-01\n",
      "   4.41247742e-01  6.03510257e-01 -3.04669411e-02  2.15582894e-01\n",
      "   7.88810161e-01  3.60387980e-01  8.17759288e-01  7.48734680e-01\n",
      "   5.48655147e-01  8.02490717e-01  8.56939906e-01  1.00176056e+00\n",
      "   5.03413227e-01  5.12013995e-01]\n",
      " [ 1.64241985e-01  1.05192783e-01  1.89447989e-01  1.43822678e-01\n",
      "   3.95003689e-01  5.11121711e-01  4.10185014e-01  3.76405667e-01\n",
      "   7.01057885e-01  3.34606745e-01  9.47092790e-02 -1.28440488e-01\n",
      "   1.10123974e-01  7.42567956e-02 -1.07531080e-01  2.78367653e-01\n",
      "   1.98136040e-01  1.43367633e-01  3.90088053e-01  1.11289544e-01\n",
      "   2.43957953e-01  2.33437721e-01  2.69967228e-01  2.09513722e-01\n",
      "   4.94707764e-01  6.15522263e-01  5.33457264e-01  5.03413227e-01\n",
      "   1.00176056e+00  5.38795122e-01]\n",
      " [ 7.07832563e-03  1.19415220e-01  5.11083511e-02  3.74417763e-03\n",
      "   5.00195447e-01  6.88592503e-01  5.15836457e-01  3.69310185e-01\n",
      "   4.39185353e-01  7.68647654e-01  4.96466850e-02 -4.57349464e-02\n",
      "   8.55829815e-02  1.75701742e-02  1.01658978e-01  5.92013208e-01\n",
      "   4.40102736e-01  3.11201479e-01  7.82169401e-02  5.92369136e-01\n",
      "   9.36565772e-02  2.19508204e-01  1.39201504e-01  7.97872577e-02\n",
      "   6.18711558e-01  8.11881713e-01  6.87719567e-01  5.12013995e-01\n",
      "   5.38795122e-01  1.00176056e+00]]\n"
     ]
    }
   ],
   "source": [
    "mean_vec = np.mean(X, axis=0)\n",
    "cov_mat = (X - mean_vec).T.dot((X - mean_vec))/(X.shape[0]-1)\n",
    "print(\"Covariance Matrix\", cov_mat)"
   ]
  },
  {
   "cell_type": "markdown",
   "metadata": {},
   "source": [
    "# Eigen Decomposition on Covariance Matrix "
   ]
  },
  {
   "cell_type": "code",
   "execution_count": 18,
   "metadata": {},
   "outputs": [
    {
     "name": "stdout",
     "output_type": "stream",
     "text": [
      "Eigenvalues [1.33049908e+01 5.70137460e+00 2.82291016e+00 1.98412752e+00\n",
      " 1.65163324e+00 1.20948224e+00 6.76408882e-01 4.77456255e-01\n",
      " 4.17628782e-01 3.51310875e-01 2.94433153e-01 2.61621161e-01\n",
      " 2.41782421e-01 1.57286149e-01 9.43006956e-02 8.00034045e-02\n",
      " 5.95036135e-02 5.27114222e-02 4.95647002e-02 1.33279057e-04\n",
      " 7.50121413e-04 1.59213600e-03 6.91261258e-03 8.19203712e-03\n",
      " 1.55085271e-02 1.80867940e-02 2.43836914e-02 2.74877113e-02\n",
      " 3.12142606e-02 3.00256631e-02]\n",
      "Eigenfunctions [[ 2.18902444e-01 -2.33857132e-01 -8.53124284e-03  4.14089623e-02\n",
      "  -3.77863538e-02  1.87407904e-02  1.24088340e-01  7.45229622e-03\n",
      "  -2.23109764e-01  9.54864432e-02  4.14714866e-02  5.10674568e-02\n",
      "   1.19672116e-02 -5.95061348e-02  5.11187749e-02 -1.50583883e-01\n",
      "   2.02924255e-01  1.46712338e-01 -2.25384659e-01 -7.02414091e-01\n",
      "   2.11460455e-01 -2.11194013e-01 -1.31526670e-01  1.29476396e-01\n",
      "   1.92264989e-02 -1.82579441e-01  9.85526942e-02 -7.29289034e-02\n",
      "  -4.96986642e-02  6.85700057e-02]\n",
      " [ 1.03724578e-01 -5.97060883e-02  6.45499033e-02 -6.03050001e-01\n",
      "   4.94688505e-02 -3.21788366e-02 -1.13995382e-02 -1.30674825e-01\n",
      "   1.12699390e-01  2.40934066e-01 -3.02243402e-01  2.54896423e-01\n",
      "   2.03461333e-01  2.15600995e-02  1.07922421e-01 -1.57841960e-01\n",
      "  -3.87061187e-02 -4.11029851e-02 -2.97886446e-02 -2.73661018e-04\n",
      "  -1.05339342e-02  6.58114593e-05 -1.73573093e-02  2.45566636e-02\n",
      "  -8.47459309e-02  9.87867898e-02  5.54997454e-04 -9.48006326e-02\n",
      "  -2.44134993e-01 -4.48369467e-01]\n",
      " [ 2.27537293e-01 -2.15181361e-01 -9.31421972e-03  4.19830991e-02\n",
      "  -3.73746632e-02  1.73084449e-02  1.14477057e-01  1.86872582e-02\n",
      "  -2.23739213e-01  8.63856150e-02  1.67826374e-02  3.89261058e-02\n",
      "   4.41095034e-02 -4.85138123e-02  3.99029358e-02 -1.14453955e-01\n",
      "   1.94821310e-01  1.58317455e-01 -2.39595276e-01  6.89896968e-01\n",
      "   3.83826098e-01 -8.43382663e-02 -1.15415423e-01  1.25255946e-01\n",
      "  -2.70154137e-02 -1.16648876e-01  4.02447050e-02 -7.51604777e-02\n",
      "  -1.76650122e-02  6.97690429e-02]\n",
      " [ 2.20994985e-01 -2.31076711e-01  2.86995259e-02  5.34337955e-02\n",
      "  -1.03312514e-02 -1.88774796e-03  5.16534275e-02 -3.46736038e-02\n",
      "  -1.95586014e-01  7.49564886e-02  1.10169643e-01  6.54375082e-02\n",
      "   6.73757374e-02 -1.08308292e-02 -1.39669069e-02 -1.32448032e-01\n",
      "   2.55705763e-01  2.66168105e-01  2.73221894e-02  3.29473482e-02\n",
      "  -4.22794920e-01  2.72508323e-01  4.66612477e-01 -3.62727403e-01\n",
      "   2.10040780e-01  6.98483369e-02 -7.77727342e-03 -9.75657781e-02\n",
      "  -9.01437617e-02  1.84432785e-02]\n",
      " [ 1.42589694e-01  1.86113023e-01 -1.04291904e-01  1.59382765e-01\n",
      "   3.65088528e-01 -2.86374497e-01  1.40668993e-01  2.88974575e-01\n",
      "   6.42472194e-03 -6.92926813e-02 -1.37021842e-01  3.16727211e-01\n",
      "   4.55736020e-02 -4.45064860e-01  1.18143364e-01 -2.04613247e-01\n",
      "   1.67929914e-01 -3.52226802e-01  1.64565843e-01  4.84745766e-03\n",
      "  -3.43466700e-03 -1.47926883e-03  6.96899233e-02  3.70036864e-02\n",
      "  -2.89548850e-02  6.86974224e-02  2.06657211e-02 -6.38229479e-02\n",
      "   1.71009601e-02  1.19491747e-01]\n",
      " [ 2.39285354e-01  1.51891610e-01 -7.40915709e-02  3.17945811e-02\n",
      "  -1.17039713e-02 -1.41309489e-02 -3.09184960e-02  1.51396350e-01\n",
      "  -1.67841425e-01  1.29362000e-02 -3.08009633e-01 -1.04017044e-01\n",
      "   2.29281304e-01 -8.10105720e-03 -2.30899962e-01  1.70178367e-01\n",
      "  -2.03077075e-02  7.79413843e-03 -2.84222358e-01 -4.46741863e-02\n",
      "  -4.10167739e-02  5.46276696e-03  9.77487054e-02 -2.62808474e-01\n",
      "  -3.96623231e-01 -1.04135518e-01 -5.23603957e-02  9.80775567e-02\n",
      "   4.88686329e-01 -1.92621396e-01]\n",
      " [ 2.58400481e-01  6.01653628e-02  2.73383798e-03  1.91227535e-02\n",
      "  -8.63754118e-02 -9.34418089e-03  1.07520443e-01  7.28272853e-02\n",
      "   4.05910064e-02 -1.35602298e-01  1.24190245e-01  6.56534798e-02\n",
      "   3.87090806e-01  1.89358699e-01  1.28283732e-01  2.69470206e-01\n",
      "  -1.59835337e-03 -2.69681105e-02 -2.26636013e-03 -2.51386661e-02\n",
      "  -1.00147876e-02 -4.55386379e-02  3.64808397e-01  5.48876170e-01\n",
      "   9.69773167e-02  4.47410568e-02 -3.24870378e-01  1.85212003e-01\n",
      "  -3.33870858e-02 -5.57175335e-03]\n",
      " [ 2.60853758e-01 -3.47675005e-02 -2.55635406e-02  6.53359443e-02\n",
      "   4.38610252e-02 -5.20499505e-02  1.50482214e-01  1.52322414e-01\n",
      "  -1.11971106e-01  8.05452775e-03 -7.24460264e-02  4.25892667e-02\n",
      "   1.32138097e-01  2.44794768e-01  2.17099194e-01  3.80464095e-01\n",
      "   3.45095087e-02 -8.28277367e-02  1.54972363e-01  1.07726530e-03\n",
      "  -4.20694931e-03  8.88309714e-03 -4.54699351e-01 -3.87643377e-01\n",
      "   1.86451602e-01  8.40276972e-02  5.14087968e-02  3.11852431e-01\n",
      "  -2.35407606e-01  9.42381870e-03]\n",
      " [ 1.38166959e-01  1.90348770e-01 -4.02399363e-02  6.71249840e-02\n",
      "   3.05941428e-01  3.56458461e-01  9.38911345e-02  2.31530989e-01\n",
      "   2.56040084e-01  5.72069479e-01  1.63054081e-01 -2.88865504e-01\n",
      "   1.89933673e-01 -3.07388563e-02  7.39617071e-02 -1.64661588e-01\n",
      "  -1.91737848e-01  1.73397790e-01  5.88111647e-02  1.28037941e-03\n",
      "  -7.56986244e-03 -1.43302642e-03 -1.51648349e-02  1.60440385e-02\n",
      "   2.45836949e-02  1.93394733e-02  5.12005770e-02  1.84067326e-02\n",
      "   2.60691555e-02  8.69384844e-02]\n",
      " [ 6.43633464e-02  3.66575471e-01 -2.25740897e-02  4.85867649e-02\n",
      "   4.44243602e-02 -1.19430668e-01 -2.95760024e-01  1.77121441e-01\n",
      "  -1.23740789e-01  8.11032072e-02 -3.80482687e-02  2.36358988e-01\n",
      "   1.06239082e-01  3.77078865e-01 -5.17975705e-01 -4.07927860e-02\n",
      "   5.02252456e-02  8.78673570e-02  5.81570509e-02  4.75568480e-03\n",
      "   7.30143287e-03  6.31168651e-03 -1.01244946e-01  9.74048386e-02\n",
      "   2.07221864e-01 -1.33260547e-01  8.46898562e-02 -2.87868885e-01\n",
      "  -1.75637222e-01  7.62718362e-02]\n",
      " [ 2.05978776e-01 -1.05552152e-01  2.68481387e-01  9.79412418e-02\n",
      "   1.54456496e-01 -2.56032561e-02 -3.12490037e-01 -2.25399674e-02\n",
      "   2.49985002e-01 -4.95475941e-02 -2.53570194e-02 -1.66879153e-02\n",
      "  -6.81952298e-02 -1.03474126e-02  1.10050711e-01  5.89057190e-02\n",
      "  -1.39396866e-01 -2.36216532e-01 -1.75883308e-01  8.71109373e-03\n",
      "   1.18442112e-01  1.92223890e-01  2.12982901e-01 -4.99770798e-02\n",
      "   1.74930429e-01 -5.58701567e-01  2.64125317e-01  1.50274681e-01\n",
      "  -9.08005031e-02 -8.63867747e-02]\n",
      " [ 1.74280281e-02  8.99796818e-02  3.74633665e-01 -3.59855528e-01\n",
      "   1.91650506e-01 -2.87473145e-02  9.07553556e-02  4.75413139e-01\n",
      "  -2.46645397e-01 -2.89142742e-01  3.44944458e-01 -3.06160423e-01\n",
      "  -1.68222383e-01  1.08493473e-02 -3.27527212e-02 -3.45004006e-02\n",
      "   4.39630156e-02 -9.85866201e-03 -3.60098518e-02  1.07103919e-03\n",
      "  -8.77627920e-03  5.62261069e-03 -1.00928890e-02  1.12372419e-02\n",
      "  -5.69864778e-02  2.42672970e-02  8.73880467e-04 -4.84569345e-02\n",
      "  -7.16599878e-02 -2.17071967e-01]\n",
      " [ 2.11325916e-01 -8.94572342e-02  2.66645367e-01  8.89924146e-02\n",
      "   1.20990220e-01  1.81071500e-03 -3.14640390e-01  1.18966905e-02\n",
      "   2.27154024e-01 -1.14508236e-01 -1.67318771e-01 -1.01446828e-01\n",
      "  -3.78439858e-02  4.55237175e-02  8.26808881e-03  2.65166513e-02\n",
      "  -2.46356391e-02 -2.59288003e-02 -3.65701538e-01 -1.37293906e-02\n",
      "  -6.10021933e-03 -2.63191868e-01  4.16915529e-02 -1.03653282e-01\n",
      "  -7.29276412e-02  5.16750385e-01 -9.00742110e-02 -1.59352804e-01\n",
      "  -1.77250625e-01  3.04950158e-01]\n",
      " [ 2.02869635e-01 -1.52292628e-01  2.16006528e-01  1.08205039e-01\n",
      "   1.27574432e-01 -4.28639079e-02 -3.46679003e-01 -8.58051345e-02\n",
      "   2.29160015e-01 -9.19278886e-02  5.16194632e-02 -1.76792177e-02\n",
      "   5.60649318e-02 -8.35707181e-02  4.60243656e-02  4.11532265e-02\n",
      "   3.34418173e-01  3.04906903e-01  4.16572314e-01 -1.10532603e-03\n",
      "  -8.59259138e-02  4.20681051e-02 -3.13358657e-01  1.55304589e-01\n",
      "  -1.31850405e-01 -2.24607172e-02 -9.82150746e-02 -6.42326151e-02\n",
      "   2.74201148e-01 -1.92587786e-01]\n",
      " [ 1.45314521e-02  2.04430453e-01  3.08838979e-01  4.46641797e-02\n",
      "   2.32065676e-01 -3.42917393e-01  2.44024056e-01 -5.73410232e-01\n",
      "  -1.41924890e-01  1.60884609e-01  8.42062106e-02 -2.94710053e-01\n",
      "   1.50441434e-01  2.01152530e-01 -1.85594647e-02 -5.80390613e-02\n",
      "   1.39595006e-01 -2.31259943e-01  1.32600886e-02  1.60821086e-03\n",
      "   1.77638619e-03 -9.79296328e-03 -9.05215355e-03  7.71755717e-03\n",
      "  -3.12107028e-02  1.56311888e-02  5.98177179e-02 -5.05449015e-02\n",
      "   9.00614773e-02  7.20987261e-02]\n",
      " [ 1.70393451e-01  2.32715896e-01  1.54779718e-01 -2.74693632e-02\n",
      "  -2.79968156e-01  6.91975186e-02 -2.34635340e-02 -1.17460157e-01\n",
      "  -1.45322810e-01  4.35048658e-02 -2.06885680e-01 -2.63456509e-01\n",
      "   1.00401699e-02 -4.91755932e-01 -1.68209315e-01  1.89830896e-01\n",
      "  -8.24647717e-03  1.00474235e-01  2.42448176e-01 -1.91562235e-03\n",
      "   3.15813441e-03  1.53955481e-02  4.65360884e-02  4.97276317e-02\n",
      "  -1.73164553e-01 -1.21777792e-01 -9.10387102e-03  4.52876920e-02\n",
      "  -4.61098220e-01  1.40386572e-01]\n",
      " [ 1.53589790e-01  1.97207283e-01  1.76463743e-01  1.31687997e-03\n",
      "  -3.53982091e-01  5.63432386e-02  2.08823790e-01 -6.05665008e-02\n",
      "   3.58107079e-01 -1.41276243e-01  3.49517943e-01  2.51146975e-01\n",
      "   1.58783192e-01 -1.34586924e-01 -2.50471408e-01 -1.25420649e-01\n",
      "   8.46167156e-02 -1.95485228e-04 -1.26381025e-01  8.92652653e-03\n",
      "   1.60785207e-02 -5.82097800e-03 -8.42247975e-02 -9.14549680e-02\n",
      "  -1.59399802e-02  1.88205036e-01  3.87542329e-01  2.05212693e-01\n",
      "   6.69461742e-02 -6.30479298e-02]\n",
      " [ 1.83417397e-01  1.30321560e-01  2.24657567e-01  7.40673350e-02\n",
      "  -1.95548089e-01 -3.12244482e-02  3.69645937e-01  1.08319309e-01\n",
      "   2.72519886e-01  8.62408470e-02 -3.42375908e-01 -6.45875122e-03\n",
      "  -4.94026741e-01  1.99666719e-01 -6.20793442e-02 -1.98810346e-01\n",
      "   1.08132263e-01  4.60549116e-02  1.21642969e-02  2.16019727e-03\n",
      "  -2.39377870e-02  2.90093001e-02 -1.11655093e-02  1.79419192e-02\n",
      "   1.29546547e-01 -1.09668978e-01 -3.51755074e-01  7.25453753e-02\n",
      "   6.88682942e-02 -3.43753236e-02]\n",
      " [ 4.24984216e-02  1.83848000e-01  2.88584292e-01  4.40733510e-02\n",
      "   2.52868765e-01  4.90245643e-01  8.03822539e-02 -2.20149279e-01\n",
      "  -3.04077200e-01 -3.16529830e-01 -1.87844043e-01  3.20571348e-01\n",
      "   1.03327412e-02  4.68643826e-02  1.13383199e-01 -1.57711497e-01\n",
      "  -2.74059129e-01  1.87014764e-01  8.90392949e-02 -3.29389752e-04\n",
      "  -5.22329189e-03  7.63652550e-03 -1.99759830e-02  1.72678486e-02\n",
      "   1.95149333e-02  3.22620011e-03  4.23628949e-02  8.46544307e-02\n",
      "   1.07385289e-01  9.76995265e-02]\n",
      " [ 1.02568322e-01  2.80092027e-01  2.11503764e-01  1.53047496e-02\n",
      "  -2.63297438e-01 -5.31952674e-02 -1.91394973e-01 -1.11681884e-02\n",
      "  -2.13722716e-01  3.67541918e-01  2.50624789e-01  2.76165974e-01\n",
      "  -2.40458323e-01 -1.45652466e-01  3.53232211e-01  2.68553878e-01\n",
      "  -1.22733398e-01 -5.98230982e-02 -8.66008430e-02 -1.79895682e-03\n",
      "  -8.34191154e-03 -1.97564555e-02 -1.20365640e-02 -3.54889745e-02\n",
      "   8.41712034e-02  7.51944193e-02 -8.57810992e-02 -2.44705083e-01\n",
      "   2.22345297e-01 -6.28432814e-02]\n",
      " [ 2.27996634e-01 -2.19866379e-01 -4.75069900e-02  1.54172396e-02\n",
      "   4.40659209e-03 -2.90684919e-04  9.70993602e-03 -4.26194163e-02\n",
      "  -1.12141463e-01  7.73616428e-02  1.05067333e-01  3.96796652e-02\n",
      "  -1.37890527e-01 -2.31012813e-02 -1.66567074e-01 -8.15605686e-02\n",
      "  -2.40049982e-01 -2.16101353e-01 -1.36613039e-02  1.35643056e-01\n",
      "  -6.35724917e-01 -4.12639581e-01 -1.78666740e-01  1.97054744e-01\n",
      "  -7.07097238e-02 -1.56830365e-01  5.56767923e-02  9.62982088e-02\n",
      "  -5.62690874e-03 -7.29389953e-03]\n",
      " [ 1.04469325e-01 -4.54672983e-02 -4.22978228e-02 -6.32807885e-01\n",
      "   9.28834001e-02 -5.00080613e-02 -9.87074388e-03 -3.62516360e-02\n",
      "   1.03341204e-01  2.95509413e-02  1.31572736e-02  7.97974499e-02\n",
      "  -8.01454315e-02 -5.34307917e-02 -1.01115399e-01  1.85557852e-01\n",
      "   6.93651855e-02  5.83984505e-02  7.58669276e-02 -1.02053601e-03\n",
      "   1.72354925e-02  3.90250926e-04  2.14106944e-02 -3.64694332e-02\n",
      "   1.18189721e-01 -1.18484602e-01  8.92289971e-03  1.11112024e-01\n",
      "   3.00599798e-01  5.94440143e-01]\n",
      " [ 2.36639681e-01 -1.99878428e-01 -4.85465083e-02  1.38027944e-02\n",
      "  -7.45415100e-03  8.50098715e-03  4.45726717e-04 -3.05585340e-02\n",
      "  -1.09614364e-01  5.05083335e-02  5.10762807e-02 -8.98773800e-03\n",
      "  -9.69657077e-02 -1.22193824e-02 -1.82755198e-01 -5.48570473e-02\n",
      "  -2.34164147e-01 -1.88543592e-01 -9.08132490e-02 -7.97438536e-02\n",
      "   2.29218029e-02  7.28680898e-01 -2.41031046e-01  2.44103670e-01\n",
      "  -1.18034029e-01  2.37113167e-01 -6.33448296e-02 -1.72216251e-02\n",
      "   1.10038577e-02  9.20235990e-02]\n",
      " [ 2.24870533e-01 -2.19351858e-01 -1.19023182e-02  2.58947492e-02\n",
      "   2.73909030e-02 -2.51643821e-02 -6.78316595e-02 -7.93942456e-02\n",
      "  -8.07324609e-02  6.99211523e-02  1.84598937e-01  4.80886567e-02\n",
      "  -1.01160611e-01  6.68546458e-03 -3.14993600e-01 -9.06533944e-02\n",
      "  -2.73399584e-01 -1.42064856e-01  4.10047202e-01 -3.97422838e-02\n",
      "   4.44935933e-01 -2.38960316e-01  2.37162466e-01 -2.31359525e-01\n",
      "   3.82899511e-02  1.44063033e-01 -1.90889625e-01  9.69598236e-02\n",
      "   6.00473870e-02 -1.46790132e-01]\n",
      " [ 1.27952561e-01  1.72304352e-01 -2.59797613e-01  1.76522161e-02\n",
      "   3.24435445e-01 -3.69255370e-01  1.08830886e-01 -2.05852191e-01\n",
      "   1.12315904e-01 -1.28304659e-01  1.43890349e-01  5.65148662e-02\n",
      "  -2.05130344e-01 -1.62235443e-01 -4.61258656e-02  1.45551659e-01\n",
      "  -2.78030197e-01  5.01551675e-01 -2.34513845e-01 -4.58327731e-03\n",
      "   7.38549171e-03  1.53524821e-03 -4.08535683e-02 -1.26024637e-02\n",
      "   4.79647647e-02 -1.09901386e-02 -9.36901494e-02  6.82540931e-02\n",
      "  -1.29723903e-01 -1.64849237e-01]\n",
      " [ 2.10095880e-01  1.43593173e-01 -2.36075625e-01 -9.13284153e-02\n",
      "  -1.21804107e-01  4.77057929e-02 -1.40472938e-01 -8.40196588e-02\n",
      "  -1.00677822e-01 -1.72133632e-01 -1.97420469e-01 -3.71662503e-01\n",
      "   1.22793095e-02 -1.66470250e-01  4.99560142e-02 -1.53734861e-01\n",
      "  -4.03712272e-03 -7.35745143e-02 -2.02007041e-02  1.28415624e-02\n",
      "   3.56690393e-06 -4.86918180e-02 -7.05054136e-02  1.00463424e-01\n",
      "   6.24384938e-01  1.86749953e-01  1.47920925e-01 -2.96764124e-02\n",
      "   2.29280589e-01 -1.81374867e-01]\n",
      " [ 2.28767533e-01  9.79641143e-02 -1.73057335e-01 -7.39511797e-02\n",
      "  -1.88518727e-01  2.83792555e-02  6.04880561e-02 -7.24678714e-02\n",
      "   1.61908621e-01 -3.11638520e-01  1.85016760e-01 -8.70345324e-02\n",
      "   2.17984329e-01  6.67989309e-02  2.04835886e-01 -2.15021948e-01\n",
      "  -1.91313419e-01 -1.03907980e-01  4.57861197e-02 -4.02139168e-04\n",
      "  -1.26757226e-02  1.76408967e-02 -1.42905801e-01 -2.66853781e-01\n",
      "  -1.15770341e-01 -2.88852570e-01 -2.86433135e-01 -4.60426186e-01\n",
      "  -4.64827918e-02  1.32100595e-01]\n",
      " [ 2.50885971e-01 -8.25723507e-03 -1.70344076e-01  6.00699571e-03\n",
      "  -4.33320687e-02 -3.08734498e-02  1.67966619e-01  3.61707954e-02\n",
      "   6.04884615e-02 -7.66482910e-02 -1.17772055e-01 -6.81253543e-02\n",
      "  -2.54387490e-01  2.76418891e-01  1.69499607e-01  1.78141741e-01\n",
      "  -7.54853164e-02  7.58138963e-02  2.60229625e-01  2.28844179e-03\n",
      "   3.52404543e-02 -2.24756680e-02  2.30901389e-01  1.33574507e-01\n",
      "  -2.63196337e-01  1.07340243e-01  5.67527797e-01 -2.99840557e-01\n",
      "   3.30223397e-02 -8.86081478e-04]\n",
      " [ 1.22904556e-01  1.41883349e-01 -2.71312642e-01 -3.62506947e-02\n",
      "   2.44558663e-01  4.98926784e-01  1.84906298e-02 -2.28225053e-01\n",
      "   6.46378061e-02 -2.95630751e-02  1.57560248e-01  4.40335026e-02\n",
      "  -2.56534905e-01 -5.35557351e-03 -1.39888394e-01  2.57894009e-01\n",
      "   4.30658116e-01 -2.78713843e-01 -1.17250532e-01 -3.95443454e-04\n",
      "   1.34042283e-02 -4.92048082e-03  2.27904438e-02 -2.81842956e-02\n",
      "  -4.52996243e-02 -1.43818093e-02 -1.21343451e-01 -9.71448437e-02\n",
      "  -1.16759236e-01 -1.62708549e-01]\n",
      " [ 1.31783943e-01  2.75339469e-01 -2.32791313e-01 -7.70534703e-02\n",
      "  -9.44233510e-02 -8.02235245e-02 -3.74657626e-01 -4.83606666e-02\n",
      "  -1.34174175e-01  1.26095791e-02  1.18283551e-01 -3.47316933e-02\n",
      "  -1.72814238e-01  2.12104110e-01  2.56173195e-01 -4.05556492e-01\n",
      "   1.59394300e-01  2.35647497e-02  1.14944811e-02 -1.89429245e-03\n",
      "   1.14776603e-02  2.35621424e-02  5.99859979e-02 -4.52048188e-03\n",
      "  -2.80133485e-01  3.78254532e-02 -7.62533821e-03  4.69471147e-01\n",
      "  -1.04991974e-01  9.23439434e-02]]\n"
     ]
    }
   ],
   "source": [
    "cov_mat = np.cov(X.T)\n",
    "eig_vals, eig_vecs = np.linalg.eig(cov_mat)\n",
    "print('Eigenvalues', eig_vals)\n",
    "print('Eigenfunctions', eig_vecs)"
   ]
  },
  {
   "cell_type": "code",
   "execution_count": 19,
   "metadata": {},
   "outputs": [
    {
     "name": "stdout",
     "output_type": "stream",
     "text": [
      "Eigenvalues in descending order: \n",
      "13.304990794374566\n",
      "5.701374603726136\n",
      "2.822910155006231\n",
      "1.9841275177301971\n",
      "1.6516332423301168\n",
      "1.209482239802973\n",
      "0.676408881700904\n",
      "0.47745625468950853\n",
      "0.41762878210781695\n",
      "0.35131087488173357\n",
      "0.2944331534911645\n",
      "0.2616211613661211\n",
      "0.24178242132831396\n",
      "0.15728614921759315\n",
      "0.09430069560105553\n",
      "0.08000340447737686\n",
      "0.059503613530431855\n",
      "0.05271142221014794\n",
      "0.04956470021298182\n",
      "0.0001332790566639787\n",
      "0.0007501214127186351\n",
      "0.001592136001197828\n",
      "0.00691261257918449\n",
      "0.008192037117607005\n",
      "0.015508527134418902\n",
      "0.018086793984305488\n",
      "0.024383691354591085\n",
      "0.027487711338904416\n",
      "0.031214260553066336\n",
      "0.030025663090428534\n"
     ]
    }
   ],
   "source": [
    "# Visually confirm that the list is correctly sorted by decreasing eigenvalues\n",
    "eig_pairs = [(np.abs(eig_vals[i]), eig_vecs[:,i]) for i in range(len(eig_vals))]\n",
    "print('Eigenvalues in descending order: ')\n",
    "for i in eig_pairs:\n",
    "    print(i[0])"
   ]
  },
  {
   "cell_type": "markdown",
   "metadata": {},
   "source": [
    "# UNSUPERVISED LEARNING"
   ]
  },
  {
   "cell_type": "markdown",
   "metadata": {},
   "source": [
    "A set of statistica, tools intended for the setting in which we have only a set of features x1, x2,.....,xn measured on n observations.\n",
    "\n",
    "This method is not intended to make predictions because there is no associated response variable. The goal is to discover interesting things about the measurement on x1, x2,....,xn\n",
    "\n",
    "There are 2 types of Unsupervised Learning\n",
    "\n",
    "     1. Principal Component Analysis\n",
    "\n",
    "     2. Clustering"
   ]
  },
  {
   "cell_type": "markdown",
   "metadata": {},
   "source": [
    "# 1. Principal Componet Analysis (PCA)"
   ]
  },
  {
   "cell_type": "markdown",
   "metadata": {},
   "source": [
    "Tool used for data visualization / data pre-processing before supervised techniques are applied.\n",
    "\n",
    "PCA is a dimensonality reduction technique that enables you to identify correlations and patterns in a dataset so that it can be transformed into a dataset of significantly lower dimension without loss of any important information. \n",
    "\n",
    "Here, I will perform Principal Component Analysis of Breast Cancer dataset in order to reduce the dimensions of the dataset and identifying correlations and patterns found in the dataset."
   ]
  },
  {
   "cell_type": "markdown",
   "metadata": {},
   "source": [
    "# PCA Projection to 2D"
   ]
  },
  {
   "cell_type": "code",
   "execution_count": 20,
   "metadata": {},
   "outputs": [
    {
     "data": {
      "text/html": [
       "<div>\n",
       "<style scoped>\n",
       "    .dataframe tbody tr th:only-of-type {\n",
       "        vertical-align: middle;\n",
       "    }\n",
       "\n",
       "    .dataframe tbody tr th {\n",
       "        vertical-align: top;\n",
       "    }\n",
       "\n",
       "    .dataframe thead th {\n",
       "        text-align: right;\n",
       "    }\n",
       "</style>\n",
       "<table border=\"1\" class=\"dataframe\">\n",
       "  <thead>\n",
       "    <tr style=\"text-align: right;\">\n",
       "      <th></th>\n",
       "      <th>principal component 1</th>\n",
       "      <th>principal component 2</th>\n",
       "    </tr>\n",
       "  </thead>\n",
       "  <tbody>\n",
       "    <tr>\n",
       "      <th>0</th>\n",
       "      <td>9.192837</td>\n",
       "      <td>1.948583</td>\n",
       "    </tr>\n",
       "    <tr>\n",
       "      <th>1</th>\n",
       "      <td>2.387802</td>\n",
       "      <td>-3.768172</td>\n",
       "    </tr>\n",
       "    <tr>\n",
       "      <th>2</th>\n",
       "      <td>5.733896</td>\n",
       "      <td>-1.075174</td>\n",
       "    </tr>\n",
       "    <tr>\n",
       "      <th>3</th>\n",
       "      <td>7.122953</td>\n",
       "      <td>10.275589</td>\n",
       "    </tr>\n",
       "    <tr>\n",
       "      <th>4</th>\n",
       "      <td>3.935302</td>\n",
       "      <td>-1.948072</td>\n",
       "    </tr>\n",
       "  </tbody>\n",
       "</table>\n",
       "</div>"
      ],
      "text/plain": [
       "   principal component 1  principal component 2\n",
       "0               9.192837               1.948583\n",
       "1               2.387802              -3.768172\n",
       "2               5.733896              -1.075174\n",
       "3               7.122953              10.275589\n",
       "4               3.935302              -1.948072"
      ]
     },
     "execution_count": 20,
     "metadata": {},
     "output_type": "execute_result"
    }
   ],
   "source": [
    "# Import PCA library\n",
    "from sklearn.decomposition import PCA\n",
    "\n",
    "# looking at PCA of 2 numbers of components\n",
    "pca = PCA(n_components=2)\n",
    "principalComponents = pca.fit_transform(X)\n",
    "principal_breast_cancer = pd.DataFrame(data = principalComponents\n",
    "             , columns = ['principal component 1', 'principal component 2'])\n",
    "\n",
    "principal_breast_cancer.head()"
   ]
  },
  {
   "cell_type": "code",
   "execution_count": 21,
   "metadata": {},
   "outputs": [
    {
     "name": "stdout",
     "output_type": "stream",
     "text": [
      "(569, 30)\n",
      "(569, 2)\n"
     ]
    }
   ],
   "source": [
    "print(X.shape)\n",
    "print(principalComponents.shape)"
   ]
  },
  {
   "cell_type": "markdown",
   "metadata": {},
   "source": [
    "Our original model had 30 features and has been reduced to 2 features"
   ]
  },
  {
   "cell_type": "code",
   "execution_count": 22,
   "metadata": {},
   "outputs": [
    {
     "data": {
      "text/html": [
       "<div>\n",
       "<style scoped>\n",
       "    .dataframe tbody tr th:only-of-type {\n",
       "        vertical-align: middle;\n",
       "    }\n",
       "\n",
       "    .dataframe tbody tr th {\n",
       "        vertical-align: top;\n",
       "    }\n",
       "\n",
       "    .dataframe thead th {\n",
       "        text-align: right;\n",
       "    }\n",
       "</style>\n",
       "<table border=\"1\" class=\"dataframe\">\n",
       "  <thead>\n",
       "    <tr style=\"text-align: right;\">\n",
       "      <th></th>\n",
       "      <th>principal component 1</th>\n",
       "      <th>principal component 2</th>\n",
       "      <th>diagnosis</th>\n",
       "    </tr>\n",
       "  </thead>\n",
       "  <tbody>\n",
       "    <tr>\n",
       "      <th>0</th>\n",
       "      <td>9.192837</td>\n",
       "      <td>1.948583</td>\n",
       "      <td>Malignant</td>\n",
       "    </tr>\n",
       "    <tr>\n",
       "      <th>1</th>\n",
       "      <td>2.387802</td>\n",
       "      <td>-3.768172</td>\n",
       "      <td>Malignant</td>\n",
       "    </tr>\n",
       "    <tr>\n",
       "      <th>2</th>\n",
       "      <td>5.733896</td>\n",
       "      <td>-1.075174</td>\n",
       "      <td>Malignant</td>\n",
       "    </tr>\n",
       "    <tr>\n",
       "      <th>3</th>\n",
       "      <td>7.122953</td>\n",
       "      <td>10.275589</td>\n",
       "      <td>Malignant</td>\n",
       "    </tr>\n",
       "    <tr>\n",
       "      <th>4</th>\n",
       "      <td>3.935302</td>\n",
       "      <td>-1.948072</td>\n",
       "      <td>Malignant</td>\n",
       "    </tr>\n",
       "  </tbody>\n",
       "</table>\n",
       "</div>"
      ],
      "text/plain": [
       "   principal component 1  principal component 2  diagnosis\n",
       "0               9.192837               1.948583  Malignant\n",
       "1               2.387802              -3.768172  Malignant\n",
       "2               5.733896              -1.075174  Malignant\n",
       "3               7.122953              10.275589  Malignant\n",
       "4               3.935302              -1.948072  Malignant"
      ]
     },
     "execution_count": 22,
     "metadata": {},
     "output_type": "execute_result"
    }
   ],
   "source": [
    "# joining PCA of 2 components dataset with response variable diagnosis\n",
    "breast_cancer_pca = pd.concat([principal_breast_cancer, breast_cancer[['diagnosis']]], axis = 1)\n",
    "breast_cancer_pca.head()"
   ]
  },
  {
   "cell_type": "markdown",
   "metadata": {},
   "source": [
    "# Visualize 2D Projection"
   ]
  },
  {
   "cell_type": "code",
   "execution_count": 23,
   "metadata": {},
   "outputs": [
    {
     "data": {
      "image/png": "[encoded data removed]",
      "text/plain": [
       "<Figure size 576x576 with 1 Axes>"
      ]
     },
     "metadata": {
      "needs_background": "light"
     },
     "output_type": "display_data"
    }
   ],
   "source": [
    "fig = plt.figure(figsize = (8,8))\n",
    "ax = fig.add_subplot(1,1,1) \n",
    "ax.set_xlabel('Principal Component 1', fontsize = 15)\n",
    "ax.set_ylabel('Principal Component 2', fontsize = 15)\n",
    "ax.set_title('PCA with 2 numbers of components', fontsize = 20)\n",
    "targets = ['Benign', 'Malignant']\n",
    "colors = ['r', 'g']\n",
    "for diagnosis, color in zip(targets,colors):\n",
    "    indicesToKeep = breast_cancer_pca['diagnosis'] == diagnosis\n",
    "    ax.scatter(breast_cancer_pca.loc[indicesToKeep, 'principal component 1']\n",
    "               , breast_cancer_pca.loc[indicesToKeep, 'principal component 2']\n",
    "               , c = color\n",
    "               , s = 50)\n",
    "ax.legend(targets)\n",
    "ax.grid()"
   ]
  },
  {
   "cell_type": "code",
   "execution_count": 24,
   "metadata": {},
   "outputs": [
    {
     "data": {
      "text/plain": [
       "array([[ 0.21890244,  0.10372458,  0.22753729,  0.22099499,  0.14258969,\n",
       "         0.23928535,  0.25840048,  0.26085376,  0.13816696,  0.06436335,\n",
       "         0.20597878,  0.01742803,  0.21132592,  0.20286964,  0.01453145,\n",
       "         0.17039345,  0.15358979,  0.1834174 ,  0.04249842,  0.10256832,\n",
       "         0.22799663,  0.10446933,  0.23663968,  0.22487053,  0.12795256,\n",
       "         0.21009588,  0.22876753,  0.25088597,  0.12290456,  0.13178394],\n",
       "       [-0.23385713, -0.05970609, -0.21518136, -0.23107671,  0.18611302,\n",
       "         0.15189161,  0.06016536, -0.0347675 ,  0.19034877,  0.36657547,\n",
       "        -0.10555215,  0.08997968, -0.08945723, -0.15229263,  0.20443045,\n",
       "         0.2327159 ,  0.19720728,  0.13032156,  0.183848  ,  0.28009203,\n",
       "        -0.21986638, -0.0454673 , -0.19987843, -0.21935186,  0.17230435,\n",
       "         0.14359317,  0.09796411, -0.00825724,  0.14188335,  0.27533947]])"
      ]
     },
     "execution_count": 24,
     "metadata": {},
     "output_type": "execute_result"
    }
   ],
   "source": [
    "pca.components_"
   ]
  },
  {
   "cell_type": "code",
   "execution_count": 25,
   "metadata": {},
   "outputs": [
    {
     "data": {
      "text/plain": [
       "<matplotlib.axes._subplots.AxesSubplot at 0x1cc0ddda548>"
      ]
     },
     "execution_count": 25,
     "metadata": {},
     "output_type": "execute_result"
    },
    {
     "data": {
      "image/png": "[encoded data removed]",
      "text/plain": [
       "<Figure size 864x432 with 2 Axes>"
      ]
     },
     "metadata": {
      "needs_background": "light"
     },
     "output_type": "display_data"
    }
   ],
   "source": [
    "bc_comp = pd.DataFrame(pca.components_,columns=cancer['feature_names'])\n",
    "plt.figure(figsize=(12,6))\n",
    "sns.heatmap(bc_comp, cmap='plasma')"
   ]
  },
  {
   "cell_type": "code",
   "execution_count": 26,
   "metadata": {},
   "outputs": [
    {
     "data": {
      "text/plain": [
       "array([0.44272026, 0.18971182])"
      ]
     },
     "execution_count": 26,
     "metadata": {},
     "output_type": "execute_result"
    }
   ],
   "source": [
    "explained_variance = pca.explained_variance_ratio_\n",
    "explained_variance"
   ]
  },
  {
   "cell_type": "markdown",
   "metadata": {},
   "source": [
    "The explained variance tells you how much information (variance) can be attributed to each of the principal components. This is important as while you can convert 4 dimensional space to 2 dimensional space, you lose some of the variance (information) when you do this. By using the attribute explained_variance_ratio_, you can see that the first principal component contains 44.27% of the variance and the second principal component contains 18.97% of the variance. Together, the two components contain 63.24% of the information."
   ]
  },
  {
   "cell_type": "code",
   "execution_count": 27,
   "metadata": {},
   "outputs": [
    {
     "data": {
      "text/html": [
       "<div>\n",
       "<style scoped>\n",
       "    .dataframe tbody tr th:only-of-type {\n",
       "        vertical-align: middle;\n",
       "    }\n",
       "\n",
       "    .dataframe tbody tr th {\n",
       "        vertical-align: top;\n",
       "    }\n",
       "\n",
       "    .dataframe thead th {\n",
       "        text-align: right;\n",
       "    }\n",
       "</style>\n",
       "<table border=\"1\" class=\"dataframe\">\n",
       "  <thead>\n",
       "    <tr style=\"text-align: right;\">\n",
       "      <th></th>\n",
       "      <th>principal component 1</th>\n",
       "      <th>principal component 2</th>\n",
       "    </tr>\n",
       "  </thead>\n",
       "  <tbody>\n",
       "    <tr>\n",
       "      <th>0</th>\n",
       "      <td>-3.056118</td>\n",
       "      <td>1.027003</td>\n",
       "    </tr>\n",
       "    <tr>\n",
       "      <th>1</th>\n",
       "      <td>-2.285391</td>\n",
       "      <td>0.385059</td>\n",
       "    </tr>\n",
       "    <tr>\n",
       "      <th>2</th>\n",
       "      <td>-1.005956</td>\n",
       "      <td>-1.975724</td>\n",
       "    </tr>\n",
       "    <tr>\n",
       "      <th>3</th>\n",
       "      <td>-2.548927</td>\n",
       "      <td>0.087742</td>\n",
       "    </tr>\n",
       "    <tr>\n",
       "      <th>4</th>\n",
       "      <td>-2.794219</td>\n",
       "      <td>-1.032564</td>\n",
       "    </tr>\n",
       "  </tbody>\n",
       "</table>\n",
       "</div>"
      ],
      "text/plain": [
       "   principal component 1  principal component 2\n",
       "0              -3.056118               1.027003\n",
       "1              -2.285391               0.385059\n",
       "2              -1.005956              -1.975724\n",
       "3              -2.548927               0.087742\n",
       "4              -2.794219              -1.032564"
      ]
     },
     "execution_count": 27,
     "metadata": {},
     "output_type": "execute_result"
    }
   ],
   "source": [
    "# PCA with 2 number of components using train and test data\n",
    "pca2 = PCA(n_components=2)\n",
    "X_train = pca2.fit_transform(X_train)\n",
    "X_test = pca2.transform(X_test)\n",
    "principal_breast_cancer_train = pd.DataFrame(data = X_train\n",
    "             , columns = ['principal component 1', 'principal component 2'])\n",
    "\n",
    "principal_breast_cancer_test = pd.DataFrame(data = X_test\n",
    "             , columns = ['principal component 1', 'principal component 2'])\n",
    "\n",
    "\n",
    "principal_breast_cancer_train.head()"
   ]
  },
  {
   "cell_type": "code",
   "execution_count": 28,
   "metadata": {},
   "outputs": [
    {
     "data": {
      "text/html": [
       "<div>\n",
       "<style scoped>\n",
       "    .dataframe tbody tr th:only-of-type {\n",
       "        vertical-align: middle;\n",
       "    }\n",
       "\n",
       "    .dataframe tbody tr th {\n",
       "        vertical-align: top;\n",
       "    }\n",
       "\n",
       "    .dataframe thead th {\n",
       "        text-align: right;\n",
       "    }\n",
       "</style>\n",
       "<table border=\"1\" class=\"dataframe\">\n",
       "  <thead>\n",
       "    <tr style=\"text-align: right;\">\n",
       "      <th></th>\n",
       "      <th>principal component 1</th>\n",
       "      <th>principal component 2</th>\n",
       "    </tr>\n",
       "  </thead>\n",
       "  <tbody>\n",
       "    <tr>\n",
       "      <th>0</th>\n",
       "      <td>2.184508</td>\n",
       "      <td>2.090414</td>\n",
       "    </tr>\n",
       "    <tr>\n",
       "      <th>1</th>\n",
       "      <td>-2.682543</td>\n",
       "      <td>-1.699654</td>\n",
       "    </tr>\n",
       "    <tr>\n",
       "      <th>2</th>\n",
       "      <td>-3.056809</td>\n",
       "      <td>-2.345746</td>\n",
       "    </tr>\n",
       "    <tr>\n",
       "      <th>3</th>\n",
       "      <td>-2.625203</td>\n",
       "      <td>-2.581695</td>\n",
       "    </tr>\n",
       "    <tr>\n",
       "      <th>4</th>\n",
       "      <td>-3.651155</td>\n",
       "      <td>-1.527959</td>\n",
       "    </tr>\n",
       "  </tbody>\n",
       "</table>\n",
       "</div>"
      ],
      "text/plain": [
       "   principal component 1  principal component 2\n",
       "0               2.184508               2.090414\n",
       "1              -2.682543              -1.699654\n",
       "2              -3.056809              -2.345746\n",
       "3              -2.625203              -2.581695\n",
       "4              -3.651155              -1.527959"
      ]
     },
     "execution_count": 28,
     "metadata": {},
     "output_type": "execute_result"
    }
   ],
   "source": [
    "principal_breast_cancer_test.head()"
   ]
  },
  {
   "cell_type": "code",
   "execution_count": 29,
   "metadata": {},
   "outputs": [
    {
     "data": {
      "text/html": [
       "<div>\n",
       "<style scoped>\n",
       "    .dataframe tbody tr th:only-of-type {\n",
       "        vertical-align: middle;\n",
       "    }\n",
       "\n",
       "    .dataframe tbody tr th {\n",
       "        vertical-align: top;\n",
       "    }\n",
       "\n",
       "    .dataframe thead th {\n",
       "        text-align: right;\n",
       "    }\n",
       "</style>\n",
       "<table border=\"1\" class=\"dataframe\">\n",
       "  <thead>\n",
       "    <tr style=\"text-align: right;\">\n",
       "      <th></th>\n",
       "      <th>principal component 1</th>\n",
       "      <th>principal component 2</th>\n",
       "      <th>diagnosis</th>\n",
       "    </tr>\n",
       "  </thead>\n",
       "  <tbody>\n",
       "    <tr>\n",
       "      <th>0</th>\n",
       "      <td>-3.056118</td>\n",
       "      <td>1.027003</td>\n",
       "      <td>Malignant</td>\n",
       "    </tr>\n",
       "    <tr>\n",
       "      <th>1</th>\n",
       "      <td>-2.285391</td>\n",
       "      <td>0.385059</td>\n",
       "      <td>Malignant</td>\n",
       "    </tr>\n",
       "    <tr>\n",
       "      <th>2</th>\n",
       "      <td>-1.005956</td>\n",
       "      <td>-1.975724</td>\n",
       "      <td>Malignant</td>\n",
       "    </tr>\n",
       "    <tr>\n",
       "      <th>3</th>\n",
       "      <td>-2.548927</td>\n",
       "      <td>0.087742</td>\n",
       "      <td>Malignant</td>\n",
       "    </tr>\n",
       "    <tr>\n",
       "      <th>4</th>\n",
       "      <td>-2.794219</td>\n",
       "      <td>-1.032564</td>\n",
       "      <td>Malignant</td>\n",
       "    </tr>\n",
       "  </tbody>\n",
       "</table>\n",
       "</div>"
      ],
      "text/plain": [
       "   principal component 1  principal component 2  diagnosis\n",
       "0              -3.056118               1.027003  Malignant\n",
       "1              -2.285391               0.385059  Malignant\n",
       "2              -1.005956              -1.975724  Malignant\n",
       "3              -2.548927               0.087742  Malignant\n",
       "4              -2.794219              -1.032564  Malignant"
      ]
     },
     "execution_count": 29,
     "metadata": {},
     "output_type": "execute_result"
    }
   ],
   "source": [
    "# joining PCA of 2 components dataset with response variable diagnosis\n",
    "breast_cancer_train_pca = pd.concat([principal_breast_cancer_train, breast_cancer[['diagnosis']]], axis = 1)\n",
    "breast_cancer_train_pca.head()"
   ]
  },
  {
   "cell_type": "code",
   "execution_count": 30,
   "metadata": {},
   "outputs": [
    {
     "data": {
      "image/png": "[encoded data removed]",
      "text/plain": [
       "<Figure size 576x576 with 1 Axes>"
      ]
     },
     "metadata": {
      "needs_background": "light"
     },
     "output_type": "display_data"
    }
   ],
   "source": [
    "fig = plt.figure(figsize = (8,8))\n",
    "ax = fig.add_subplot(1,1,1) \n",
    "ax.set_xlabel('Principal Component 1', fontsize = 15)\n",
    "ax.set_ylabel('Principal Component 2', fontsize = 15)\n",
    "ax.set_title('Training PCA with 2 numbers of components', fontsize = 20)\n",
    "targets = ['Benign', 'Malignant']\n",
    "colors = ['r', 'g']\n",
    "for diagnosis, color in zip(targets,colors):\n",
    "    indicesToKeep = breast_cancer_train_pca['diagnosis'] == diagnosis\n",
    "    ax.scatter(breast_cancer_train_pca.loc[indicesToKeep, 'principal component 1']\n",
    "               , breast_cancer_train_pca.loc[indicesToKeep, 'principal component 2']\n",
    "               , c = color\n",
    "               , s = 50)\n",
    "ax.legend(targets)\n",
    "ax.grid()"
   ]
  },
  {
   "cell_type": "code",
   "execution_count": 31,
   "metadata": {},
   "outputs": [
    {
     "data": {
      "text/plain": [
       "array([[ 0.2275603 ,  0.10172784,  0.23462383,  0.23329735,  0.13420618,\n",
       "         0.22833174,  0.25292689,  0.26320363,  0.12957119,  0.04948275,\n",
       "         0.21680905,  0.01138334,  0.21593338,  0.21861113,  0.01215864,\n",
       "         0.15696215,  0.1421183 ,  0.17044087,  0.03122791,  0.09654464,\n",
       "         0.23813674,  0.10479856,  0.24413989,  0.23967811,  0.12470148,\n",
       "         0.20029577,  0.21717781,  0.25138338,  0.11897365,  0.12227867],\n",
       "       [-0.22042936, -0.0457063 , -0.2028638 , -0.22142493,  0.18052107,\n",
       "         0.1533599 ,  0.07494316, -0.02207497,  0.19923788,  0.35289758,\n",
       "        -0.10597922,  0.09793945, -0.09598936, -0.15350428,  0.19454765,\n",
       "         0.24179569,  0.2249138 ,  0.14595437,  0.1826962 ,  0.28207397,\n",
       "        -0.20799319, -0.0271031 , -0.19094246, -0.21171183,  0.17762742,\n",
       "         0.1538714 ,  0.11555271,  0.0117205 ,  0.15805648,  0.28101929]])"
      ]
     },
     "execution_count": 31,
     "metadata": {},
     "output_type": "execute_result"
    }
   ],
   "source": [
    "pca2.components_"
   ]
  },
  {
   "cell_type": "code",
   "execution_count": 32,
   "metadata": {},
   "outputs": [
    {
     "data": {
      "text/plain": [
       "<matplotlib.axes._subplots.AxesSubplot at 0x1cc0dda1048>"
      ]
     },
     "execution_count": 32,
     "metadata": {},
     "output_type": "execute_result"
    },
    {
     "data": {
      "image/png": "[encoded data removed]",
      "text/plain": [
       "<Figure size 864x432 with 2 Axes>"
      ]
     },
     "metadata": {
      "needs_background": "light"
     },
     "output_type": "display_data"
    }
   ],
   "source": [
    "bc_comp2 = pd.DataFrame(pca2.components_,columns=cancer['feature_names'])\n",
    "plt.figure(figsize=(12,6))\n",
    "sns.heatmap(bc_comp2, cmap='plasma')"
   ]
  },
  {
   "cell_type": "code",
   "execution_count": 33,
   "metadata": {},
   "outputs": [
    {
     "data": {
      "text/plain": [
       "array([0.43766898, 0.19696535])"
      ]
     },
     "execution_count": 33,
     "metadata": {},
     "output_type": "execute_result"
    }
   ],
   "source": [
    "explained_variance1 = pca2.explained_variance_ratio_\n",
    "explained_variance1"
   ]
  },
  {
   "cell_type": "markdown",
   "metadata": {},
   "source": [
    " By using the attribute explained_variance_ratio_, you can see that the first principal component contains 43.77% of the variance and the second principal component contains 19.70% of the variance. Together, the two components contain 63.47% of the information."
   ]
  },
  {
   "cell_type": "code",
   "execution_count": 34,
   "metadata": {},
   "outputs": [
    {
     "data": {
      "image/png": "[encoded data removed]",
      "text/plain": [
       "<Figure size 432x288 with 1 Axes>"
      ]
     },
     "metadata": {
      "needs_background": "light"
     },
     "output_type": "display_data"
    }
   ],
   "source": [
    "pca = PCA().fit(X)\n",
    "plt.plot(np.cumsum(pca.explained_variance_ratio_))\n",
    "plt.xlabel('number of components')\n",
    "plt.ylabel('cumulative explained variance')\n",
    "plt.show()"
   ]
  },
  {
   "cell_type": "markdown",
   "metadata": {},
   "source": [
    "# 2. Clustering "
   ]
  },
  {
   "cell_type": "markdown",
   "metadata": {},
   "source": [
    "A borad class of methods for discovering unknown subgroups in data. This method uses the technique of putting together things that have similar characteristics. For intance, clustering is used in customer segmentation, social network analysis, and city planning.\n",
    "\n",
    "There are 2 types of clustering\n",
    "\n",
    "      i. K-Means Clustering\n",
    "\n",
    "     ii. Hierarchical Clustering "
   ]
  },
  {
   "cell_type": "markdown",
   "metadata": {},
   "source": [
    "# I. K- Means Clustering"
   ]
  },
  {
   "cell_type": "markdown",
   "metadata": {},
   "source": [
    "A simple and elegant approach for partitioning a dataset into K distinct, non-overlapping clusters. We assign two or more cemtroids randomly where the Euclidean distance is used to find out which centroid is closest to each data point and the data points are assigned to the corresponding centroids. Then reposition the two or more centroids for optimization. The process is iteratively repeated until the centroids become static.\n",
    "\n",
    "Focus on distance measure."
   ]
  },
  {
   "cell_type": "markdown",
   "metadata": {},
   "source": [
    "Elbow Method\n",
    "\n",
    "This is used to run K-Means clustering on the dataset where k is referred as number of clusters"
   ]
  },
  {
   "cell_type": "markdown",
   "metadata": {},
   "source": [
    "# K-Means Clustering Algorithm"
   ]
  },
  {
   "cell_type": "markdown",
   "metadata": {},
   "source": [
    "Step 1: We randomly pick K cluster centers (centroids).\n",
    "\n",
    "Step 2: We assign each data point to closest center which is done by calculating Eucidean distance.\n",
    "\n",
    "Step 3: We find the new centroid by taking the average of all points assigned to that cluster.\n",
    "\n",
    "Step 4: We repeat step 2 and 3 until none of the cluster assignment change or until our cluster remain stable."
   ]
  },
  {
   "cell_type": "code",
   "execution_count": 35,
   "metadata": {},
   "outputs": [],
   "source": [
    " from sklearn.cluster import KMeans"
   ]
  },
  {
   "cell_type": "code",
   "execution_count": 36,
   "metadata": {},
   "outputs": [],
   "source": [
    "breast_cancer['diagnosis'].replace('Benign', 0,inplace=True)\n",
    "breast_cancer['diagnosis'].replace('Malignant', 1,inplace=True)"
   ]
  },
  {
   "cell_type": "code",
   "execution_count": 37,
   "metadata": {},
   "outputs": [],
   "source": [
    "# importing standardizing library\n",
    "from sklearn.preprocessing import StandardScaler\n",
    "\n",
    "features = ['radius_mean', 'texture_mean', 'perimeter_mean', 'area_mean',\n",
    "       'smoothness_mean', 'compactness_mean', 'concavity_mean',\n",
    "       'concave points_mean', 'symmetry_mean', 'fractal_dimension_mean',\n",
    "       'radius_se', 'texture_se', 'perimeter_se', 'area_se',\n",
    "       'smoothness_se', 'compactness_se', 'concavity_se',\n",
    "       'concave points_se', 'symmetry_se',\n",
    "       'fractal_dimension_se', 'radius_worst', 'texture_worst',\n",
    "       'perimeter_worst', 'area_worst', 'smoothness_worst',\n",
    "       'compactness_worst', 'concavity_worst', 'concave points_worst',\n",
    "       'symmetry_worst', 'fractal_dimension_worst']\n",
    "\n",
    "# Separating out the features\n",
    "X1 = breast_cancer.loc[:, features].values\n",
    "\n",
    "# Separating out the target\n",
    "y1 = breast_cancer.loc[:,['diagnosis']].values\n",
    "\n",
    "# Standardizing the features\n",
    "X1 = StandardScaler().fit_transform(X1)"
   ]
  },
  {
   "cell_type": "code",
   "execution_count": 38,
   "metadata": {},
   "outputs": [
    {
     "data": {
      "text/plain": [
       "(569, 30)"
      ]
     },
     "execution_count": 38,
     "metadata": {},
     "output_type": "execute_result"
    }
   ],
   "source": [
    "X1.shape"
   ]
  },
  {
   "cell_type": "code",
   "execution_count": 39,
   "metadata": {},
   "outputs": [
    {
     "data": {
      "text/plain": [
       "(-6.826538293184326e-17, 1.0)"
      ]
     },
     "execution_count": 39,
     "metadata": {},
     "output_type": "execute_result"
    }
   ],
   "source": [
    "np.mean(X1), np.std(X1)"
   ]
  },
  {
   "cell_type": "code",
   "execution_count": 40,
   "metadata": {},
   "outputs": [
    {
     "data": {
      "image/png": "[encoded data removed]",
      "text/plain": [
       "<Figure size 432x288 with 1 Axes>"
      ]
     },
     "metadata": {
      "needs_background": "light"
     },
     "output_type": "display_data"
    }
   ],
   "source": [
    "plt.scatter(X1[:, 0], X1[:, 1], s=50);"
   ]
  },
  {
   "cell_type": "markdown",
   "metadata": {},
   "source": [
    "# Indentifying K Cluster"
   ]
  },
  {
   "cell_type": "code",
   "execution_count": 70,
   "metadata": {},
   "outputs": [
    {
     "name": "stderr",
     "output_type": "stream",
     "text": [
      "C:\\Users\\vivia\\AppData\\Roaming\\Python\\Python37\\site-packages\\sklearn\\cluster\\_kmeans.py:1037: UserWarning: KMeans is known to have a memory leak on Windows with MKL, when there are less chunks than available threads. You can avoid it by setting the environment variable OMP_NUM_THREADS=3.\n",
      "  \"KMeans is known to have a memory leak on Windows \"\n"
     ]
    }
   ],
   "source": [
    "inertia = []\n",
    "distortions = []\n",
    "K = range(1,10)\n",
    "for k in K:\n",
    "    km = KMeans(n_clusters=k)\n",
    "    km = km.fit(X1)\n",
    "    inertia.append(km.inertia_)\n",
    "    distortions.append(km.inertia_)"
   ]
  },
  {
   "cell_type": "code",
   "execution_count": 71,
   "metadata": {},
   "outputs": [
    {
     "data": {
      "image/png": "[encoded data removed]",
      "text/plain": [
       "<Figure size 432x288 with 1 Axes>"
      ]
     },
     "metadata": {
      "needs_background": "light"
     },
     "output_type": "display_data"
    }
   ],
   "source": [
    "#Plotting the inertia result to find the elbow\n",
    "plt.plot(K, inertia, 'o-', c='red')\n",
    "plt.xlabel('k')\n",
    "plt.ylabel('Sum_of_squared_distances')\n",
    "plt.title('Elbow Method For Optimal k')\n",
    "plt.show()"
   ]
  },
  {
   "cell_type": "code",
   "execution_count": 72,
   "metadata": {},
   "outputs": [
    {
     "ename": "ValueError",
     "evalue": "x and y arrays must be equal in length along interpolation axis.",
     "output_type": "error",
     "traceback": [
      "\u001b[1;31m---------------------------------------------------------------------------\u001b[0m",
      "\u001b[1;31mValueError\u001b[0m                                Traceback (most recent call last)",
      "\u001b[1;32m<ipython-input-72-64d880522a11>\u001b[0m in \u001b[0;36m<module>\u001b[1;34m\u001b[0m\n\u001b[0;32m      2\u001b[0m \u001b[1;32mfrom\u001b[0m \u001b[0mkneed\u001b[0m \u001b[1;32mimport\u001b[0m \u001b[0mKneeLocator\u001b[0m\u001b[1;33m\u001b[0m\u001b[1;33m\u001b[0m\u001b[0m\n\u001b[0;32m      3\u001b[0m \u001b[1;33m\u001b[0m\u001b[0m\n\u001b[1;32m----> 4\u001b[1;33m \u001b[0mkl\u001b[0m \u001b[1;33m=\u001b[0m \u001b[0mKneeLocator\u001b[0m\u001b[1;33m(\u001b[0m\u001b[0mrange\u001b[0m\u001b[1;33m(\u001b[0m\u001b[1;36m1\u001b[0m\u001b[1;33m,\u001b[0m \u001b[1;36m11\u001b[0m\u001b[1;33m)\u001b[0m\u001b[1;33m,\u001b[0m \u001b[0minertia\u001b[0m\u001b[1;33m,\u001b[0m \u001b[0mcurve\u001b[0m\u001b[1;33m=\u001b[0m\u001b[1;34m\"convex\"\u001b[0m\u001b[1;33m,\u001b[0m \u001b[0mdirection\u001b[0m\u001b[1;33m=\u001b[0m\u001b[1;34m\"decreasing\"\u001b[0m\u001b[1;33m)\u001b[0m\u001b[1;33m\u001b[0m\u001b[1;33m\u001b[0m\u001b[0m\n\u001b[0m\u001b[0;32m      5\u001b[0m \u001b[0mkl\u001b[0m\u001b[1;33m.\u001b[0m\u001b[0melbow\u001b[0m\u001b[1;33m\u001b[0m\u001b[1;33m\u001b[0m\u001b[0m\n",
      "\u001b[1;32m~\\Anaconda3\\lib\\site-packages\\kneed\\knee_locator.py\u001b[0m in \u001b[0;36m__init__\u001b[1;34m(self, x, y, S, curve, direction, interp_method, online, polynomial_degree)\u001b[0m\n\u001b[0;32m    162\u001b[0m         \u001b[1;31m# Step 1: fit a smooth line\u001b[0m\u001b[1;33m\u001b[0m\u001b[1;33m\u001b[0m\u001b[1;33m\u001b[0m\u001b[0m\n\u001b[0;32m    163\u001b[0m         \u001b[1;32mif\u001b[0m \u001b[0minterp_method\u001b[0m \u001b[1;33m==\u001b[0m \u001b[1;34m\"interp1d\"\u001b[0m\u001b[1;33m:\u001b[0m\u001b[1;33m\u001b[0m\u001b[1;33m\u001b[0m\u001b[0m\n\u001b[1;32m--> 164\u001b[1;33m             \u001b[0muspline\u001b[0m \u001b[1;33m=\u001b[0m \u001b[0minterpolate\u001b[0m\u001b[1;33m.\u001b[0m\u001b[0minterp1d\u001b[0m\u001b[1;33m(\u001b[0m\u001b[0mself\u001b[0m\u001b[1;33m.\u001b[0m\u001b[0mx\u001b[0m\u001b[1;33m,\u001b[0m \u001b[0mself\u001b[0m\u001b[1;33m.\u001b[0m\u001b[0my\u001b[0m\u001b[1;33m)\u001b[0m\u001b[1;33m\u001b[0m\u001b[1;33m\u001b[0m\u001b[0m\n\u001b[0m\u001b[0;32m    165\u001b[0m             \u001b[0mself\u001b[0m\u001b[1;33m.\u001b[0m\u001b[0mDs_y\u001b[0m \u001b[1;33m=\u001b[0m \u001b[0muspline\u001b[0m\u001b[1;33m(\u001b[0m\u001b[0mself\u001b[0m\u001b[1;33m.\u001b[0m\u001b[0mx\u001b[0m\u001b[1;33m)\u001b[0m\u001b[1;33m\u001b[0m\u001b[1;33m\u001b[0m\u001b[0m\n\u001b[0;32m    166\u001b[0m         \u001b[1;32melif\u001b[0m \u001b[0minterp_method\u001b[0m \u001b[1;33m==\u001b[0m \u001b[1;34m\"polynomial\"\u001b[0m\u001b[1;33m:\u001b[0m\u001b[1;33m\u001b[0m\u001b[1;33m\u001b[0m\u001b[0m\n",
      "\u001b[1;32m~\\Anaconda3\\lib\\site-packages\\scipy\\interpolate\\interpolate.py\u001b[0m in \u001b[0;36m__init__\u001b[1;34m(self, x, y, kind, axis, copy, bounds_error, fill_value, assume_sorted)\u001b[0m\n\u001b[0;32m    434\u001b[0m                  assume_sorted=False):\n\u001b[0;32m    435\u001b[0m         \u001b[1;34m\"\"\" Initialize a 1-D linear interpolation class.\"\"\"\u001b[0m\u001b[1;33m\u001b[0m\u001b[1;33m\u001b[0m\u001b[0m\n\u001b[1;32m--> 436\u001b[1;33m         \u001b[0m_Interpolator1D\u001b[0m\u001b[1;33m.\u001b[0m\u001b[0m__init__\u001b[0m\u001b[1;33m(\u001b[0m\u001b[0mself\u001b[0m\u001b[1;33m,\u001b[0m \u001b[0mx\u001b[0m\u001b[1;33m,\u001b[0m \u001b[0my\u001b[0m\u001b[1;33m,\u001b[0m \u001b[0maxis\u001b[0m\u001b[1;33m=\u001b[0m\u001b[0maxis\u001b[0m\u001b[1;33m)\u001b[0m\u001b[1;33m\u001b[0m\u001b[1;33m\u001b[0m\u001b[0m\n\u001b[0m\u001b[0;32m    437\u001b[0m \u001b[1;33m\u001b[0m\u001b[0m\n\u001b[0;32m    438\u001b[0m         \u001b[0mself\u001b[0m\u001b[1;33m.\u001b[0m\u001b[0mbounds_error\u001b[0m \u001b[1;33m=\u001b[0m \u001b[0mbounds_error\u001b[0m  \u001b[1;31m# used by fill_value setter\u001b[0m\u001b[1;33m\u001b[0m\u001b[1;33m\u001b[0m\u001b[0m\n",
      "\u001b[1;32m~\\Anaconda3\\lib\\site-packages\\scipy\\interpolate\\polyint.py\u001b[0m in \u001b[0;36m__init__\u001b[1;34m(self, xi, yi, axis)\u001b[0m\n\u001b[0;32m     52\u001b[0m         \u001b[0mself\u001b[0m\u001b[1;33m.\u001b[0m\u001b[0mdtype\u001b[0m \u001b[1;33m=\u001b[0m \u001b[1;32mNone\u001b[0m\u001b[1;33m\u001b[0m\u001b[1;33m\u001b[0m\u001b[0m\n\u001b[0;32m     53\u001b[0m         \u001b[1;32mif\u001b[0m \u001b[0myi\u001b[0m \u001b[1;32mis\u001b[0m \u001b[1;32mnot\u001b[0m \u001b[1;32mNone\u001b[0m\u001b[1;33m:\u001b[0m\u001b[1;33m\u001b[0m\u001b[1;33m\u001b[0m\u001b[0m\n\u001b[1;32m---> 54\u001b[1;33m             \u001b[0mself\u001b[0m\u001b[1;33m.\u001b[0m\u001b[0m_set_yi\u001b[0m\u001b[1;33m(\u001b[0m\u001b[0myi\u001b[0m\u001b[1;33m,\u001b[0m \u001b[0mxi\u001b[0m\u001b[1;33m=\u001b[0m\u001b[0mxi\u001b[0m\u001b[1;33m,\u001b[0m \u001b[0maxis\u001b[0m\u001b[1;33m=\u001b[0m\u001b[0maxis\u001b[0m\u001b[1;33m)\u001b[0m\u001b[1;33m\u001b[0m\u001b[1;33m\u001b[0m\u001b[0m\n\u001b[0m\u001b[0;32m     55\u001b[0m \u001b[1;33m\u001b[0m\u001b[0m\n\u001b[0;32m     56\u001b[0m     \u001b[1;32mdef\u001b[0m \u001b[0m__call__\u001b[0m\u001b[1;33m(\u001b[0m\u001b[0mself\u001b[0m\u001b[1;33m,\u001b[0m \u001b[0mx\u001b[0m\u001b[1;33m)\u001b[0m\u001b[1;33m:\u001b[0m\u001b[1;33m\u001b[0m\u001b[1;33m\u001b[0m\u001b[0m\n",
      "\u001b[1;32m~\\Anaconda3\\lib\\site-packages\\scipy\\interpolate\\polyint.py\u001b[0m in \u001b[0;36m_set_yi\u001b[1;34m(self, yi, xi, axis)\u001b[0m\n\u001b[0;32m    122\u001b[0m             \u001b[0mshape\u001b[0m \u001b[1;33m=\u001b[0m \u001b[1;33m(\u001b[0m\u001b[1;36m1\u001b[0m\u001b[1;33m,\u001b[0m\u001b[1;33m)\u001b[0m\u001b[1;33m\u001b[0m\u001b[1;33m\u001b[0m\u001b[0m\n\u001b[0;32m    123\u001b[0m         \u001b[1;32mif\u001b[0m \u001b[0mxi\u001b[0m \u001b[1;32mis\u001b[0m \u001b[1;32mnot\u001b[0m \u001b[1;32mNone\u001b[0m \u001b[1;32mand\u001b[0m \u001b[0mshape\u001b[0m\u001b[1;33m[\u001b[0m\u001b[0maxis\u001b[0m\u001b[1;33m]\u001b[0m \u001b[1;33m!=\u001b[0m \u001b[0mlen\u001b[0m\u001b[1;33m(\u001b[0m\u001b[0mxi\u001b[0m\u001b[1;33m)\u001b[0m\u001b[1;33m:\u001b[0m\u001b[1;33m\u001b[0m\u001b[1;33m\u001b[0m\u001b[0m\n\u001b[1;32m--> 124\u001b[1;33m             raise ValueError(\"x and y arrays must be equal in length along \"\n\u001b[0m\u001b[0;32m    125\u001b[0m                              \"interpolation axis.\")\n\u001b[0;32m    126\u001b[0m \u001b[1;33m\u001b[0m\u001b[0m\n",
      "\u001b[1;31mValueError\u001b[0m: x and y arrays must be equal in length along interpolation axis."
     ]
    }
   ],
   "source": [
    "#finding the elbow using kneed locator\n",
    "from kneed import KneeLocator\n",
    "\n",
    "kl = KneeLocator(range(1, 11), inertia, curve=\"convex\", direction=\"decreasing\")\n",
    "kl.elbow"
   ]
  },
  {
   "cell_type": "code",
   "execution_count": 73,
   "metadata": {},
   "outputs": [],
   "source": [
    "kmeans = KMeans(n_clusters=3,random_state=0).fit(X1)\n",
    "y_kmeans = kmeans.predict(X1)"
   ]
  },
  {
   "cell_type": "code",
   "execution_count": 74,
   "metadata": {},
   "outputs": [
    {
     "data": {
      "text/plain": [
       "array([2, 2, 2, 0, 2, 0, 2, 0, 0, 0, 1, 0, 2, 1, 0, 0, 1, 0, 2, 1, 1, 1,\n",
       "       0, 2, 2, 2, 0, 2, 0, 2, 2, 0, 2, 2, 0, 0, 0, 1, 1, 0, 1, 0, 2, 0,\n",
       "       1, 2, 1, 0, 1, 1, 1, 1, 1, 2, 1, 1, 2, 0, 1, 1, 1, 1, 0, 1, 0, 0,\n",
       "       1, 1, 0, 1, 2, 0, 0, 1, 1, 2, 1, 2, 2, 1, 1, 0, 2, 2, 1, 2, 1, 2,\n",
       "       1, 0, 1, 1, 1, 1, 0, 2, 1, 1, 1, 0, 1, 1, 1, 1, 1, 0, 1, 1, 2, 1,\n",
       "       1, 0, 0, 1, 1, 1, 1, 0, 0, 1, 1, 2, 2, 1, 1, 1, 1, 2, 0, 2, 1, 1,\n",
       "       1, 1, 2, 1, 1, 1, 2, 1, 1, 1, 1, 1, 1, 0, 0, 1, 1, 1, 1, 0, 0, 1,\n",
       "       1, 1, 2, 1, 1, 1, 1, 2, 2, 1, 2, 1, 1, 1, 2, 1, 1, 1, 0, 1, 1, 1,\n",
       "       0, 0, 1, 1, 2, 2, 1, 1, 1, 1, 1, 1, 1, 1, 0, 1, 1, 0, 0, 1, 0, 2,\n",
       "       2, 0, 1, 2, 2, 0, 1, 1, 1, 1, 0, 1, 2, 1, 2, 0, 0, 0, 0, 1, 2, 2,\n",
       "       1, 1, 1, 0, 1, 1, 1, 1, 1, 0, 0, 1, 1, 2, 1, 1, 2, 2, 1, 2, 1, 1,\n",
       "       0, 1, 2, 1, 1, 0, 1, 1, 2, 1, 2, 1, 2, 1, 2, 0, 2, 0, 2, 1, 2, 1,\n",
       "       2, 2, 1, 1, 1, 0, 1, 1, 2, 1, 1, 1, 1, 1, 1, 1, 2, 1, 2, 0, 1, 1,\n",
       "       1, 1, 0, 1, 0, 1, 1, 1, 1, 1, 1, 1, 1, 1, 2, 1, 2, 1, 1, 1, 1, 1,\n",
       "       1, 1, 1, 1, 1, 1, 1, 1, 1, 2, 0, 1, 1, 2, 1, 2, 1, 1, 1, 1, 0, 0,\n",
       "       0, 1, 1, 1, 1, 2, 1, 2, 1, 2, 1, 1, 1, 2, 1, 1, 1, 1, 1, 1, 1, 0,\n",
       "       2, 0, 1, 1, 0, 1, 1, 1, 1, 1, 1, 1, 1, 2, 2, 1, 2, 2, 0, 1, 2, 2,\n",
       "       1, 1, 0, 1, 1, 0, 1, 1, 1, 0, 1, 1, 1, 1, 0, 2, 1, 1, 0, 2, 1, 1,\n",
       "       1, 1, 1, 1, 0, 1, 1, 1, 1, 1, 1, 1, 2, 1, 1, 1, 1, 1, 1, 1, 1, 2,\n",
       "       1, 1, 1, 0, 1, 1, 1, 1, 1, 1, 1, 1, 0, 1, 2, 2, 1, 0, 1, 1, 1, 1,\n",
       "       0, 2, 1, 1, 1, 1, 2, 1, 1, 2, 1, 2, 1, 1, 1, 1, 1, 1, 1, 1, 2, 2,\n",
       "       1, 1, 1, 0, 1, 1, 2, 0, 1, 1, 1, 1, 1, 1, 1, 1, 1, 0, 1, 1, 1, 1,\n",
       "       1, 0, 1, 2, 1, 1, 1, 1, 2, 1, 1, 1, 0, 1, 2, 2, 1, 0, 1, 2, 0, 0,\n",
       "       1, 0, 1, 0, 1, 1, 0, 1, 1, 1, 2, 2, 1, 1, 0, 2, 1, 1, 1, 1, 1, 1,\n",
       "       1, 1, 1, 1, 1, 2, 1, 2, 1, 0, 1, 0, 1, 0, 1, 1, 1, 1, 1, 1, 1, 1,\n",
       "       1, 1, 1, 1, 1, 1, 1, 1, 1, 1, 1, 1, 0, 2, 2, 2, 1, 2, 1])"
      ]
     },
     "execution_count": 74,
     "metadata": {},
     "output_type": "execute_result"
    }
   ],
   "source": [
    "kmeans.labels_"
   ]
  },
  {
   "cell_type": "code",
   "execution_count": 75,
   "metadata": {},
   "outputs": [
    {
     "data": {
      "text/plain": [
       "10061.797818243696"
      ]
     },
     "execution_count": 75,
     "metadata": {},
     "output_type": "execute_result"
    }
   ],
   "source": [
    "kmeans.inertia_"
   ]
  },
  {
   "cell_type": "code",
   "execution_count": 76,
   "metadata": {},
   "outputs": [
    {
     "data": {
      "text/plain": [
       "12"
      ]
     },
     "execution_count": 76,
     "metadata": {},
     "output_type": "execute_result"
    }
   ],
   "source": [
    "kmeans.n_iter_"
   ]
  },
  {
   "cell_type": "code",
   "execution_count": 77,
   "metadata": {},
   "outputs": [
    {
     "data": {
      "text/plain": [
       "array([[-0.17232895,  0.17898672, -0.10074437, -0.22001438,  0.84922567,\n",
       "         1.03543143,  0.78100563,  0.49942706,  0.75279302,  1.18398151,\n",
       "        -0.08502958,  0.02340245, -0.01783062, -0.17235697,  0.43965152,\n",
       "         1.07468661,  0.89050757,  0.75214074,  0.28645615,  1.0264176 ,\n",
       "        -0.08822954,  0.31146754, -0.00701494, -0.15647731,  0.96915045,\n",
       "         1.17977172,  1.0450547 ,  0.74299822,  0.80991644,  1.38461312],\n",
       "       [-0.44809508, -0.2418554 , -0.46954224, -0.44831604, -0.358676  ,\n",
       "        -0.57356749, -0.59729151, -0.59473375, -0.34211158, -0.24188587,\n",
       "        -0.41793414, -0.03526589, -0.42565126, -0.38816111, -0.10019852,\n",
       "        -0.44614655, -0.38279548, -0.45090772, -0.09646964, -0.32238413,\n",
       "        -0.48612661, -0.25310785, -0.50571337, -0.47269217, -0.37318328,\n",
       "        -0.534009  , -0.56276526, -0.59707489, -0.31763162, -0.41144444],\n",
       "       [ 1.61908207,  0.62661289,  1.6240009 ,  1.66315361,  0.39856469,\n",
       "         0.93061442,  1.23933718,  1.48697008,  0.43217049, -0.2869193 ,\n",
       "         1.44128466,  0.0938201 ,  1.40538059,  1.42350487, -0.07267167,\n",
       "         0.47907229,  0.43975291,  0.78783453,  0.05442714,  0.11903767,\n",
       "         1.66674915,  0.54289966,  1.65684176,  1.68494744,  0.33688865,\n",
       "         0.67029147,  0.88661143,  1.27318238,  0.30034644,  0.08406585]])"
      ]
     },
     "execution_count": 77,
     "metadata": {},
     "output_type": "execute_result"
    }
   ],
   "source": [
    "kmeans.cluster_centers_"
   ]
  },
  {
   "cell_type": "code",
   "execution_count": 78,
   "metadata": {},
   "outputs": [
    {
     "data": {
      "text/plain": [
       "Counter({2: 110, 0: 100, 1: 359})"
      ]
     },
     "execution_count": 78,
     "metadata": {},
     "output_type": "execute_result"
    }
   ],
   "source": [
    "from collections import Counter\n",
    "\n",
    "Counter(kmeans.labels_)"
   ]
  },
  {
   "cell_type": "markdown",
   "metadata": {},
   "source": [
    "k-means clustering has three clusters of size 112, 98, 359."
   ]
  },
  {
   "cell_type": "code",
   "execution_count": 79,
   "metadata": {},
   "outputs": [
    {
     "data": {
      "image/png": "[encoded data removed]",
      "text/plain": [
       "<Figure size 432x288 with 1 Axes>"
      ]
     },
     "metadata": {
      "needs_background": "light"
     },
     "output_type": "display_data"
    }
   ],
   "source": [
    "plt.scatter(X1[:, 0], X1[:, 1], c=y_kmeans, s=50, cmap='viridis')\n",
    "\n",
    "centers = kmeans.cluster_centers_\n",
    "plt.scatter(centers[:, 0], centers[:, 1], marker=\"X\", c=\"r\", s=200, label=\"centroids\", alpha=0.5);"
   ]
  },
  {
   "cell_type": "markdown",
   "metadata": {},
   "source": [
    "# II. Hierarchical Clustering"
   ]
  },
  {
   "cell_type": "markdown",
   "metadata": {},
   "source": [
    "Result to tree based representation of the observations called a Dendrogram. Hierarchical Clustering is used to separate data into different groups based on some measure of similarity. For instance, we have cars of different types such as Ford, BMW, Toyota etc. We start to group these cars based on manufacturer. Next, we group them based on type such as sedan or suv. We can also group them by fuel types. And finally group them as cars. In general, we want to group things by using botton-up or top-down approach. \n",
    "\n",
    "In Hierarchical Clustering, we start by considering points of dataset on a plane. We then start by measuring distance on each point. The we find the smallest distance bewteen two data points. Then, the two datapoints merge together and are represented in a tree like structure called Dendrogram. When we are left with one cluster, we then bring them together."
   ]
  },
  {
   "cell_type": "code",
   "execution_count": 80,
   "metadata": {},
   "outputs": [],
   "source": [
    "import scipy.cluster.hierarchy as shc"
   ]
  },
  {
   "cell_type": "code",
   "execution_count": 81,
   "metadata": {},
   "outputs": [
    {
     "data": {
      "text/html": [
       "<div>\n",
       "<style scoped>\n",
       "    .dataframe tbody tr th:only-of-type {\n",
       "        vertical-align: middle;\n",
       "    }\n",
       "\n",
       "    .dataframe tbody tr th {\n",
       "        vertical-align: top;\n",
       "    }\n",
       "\n",
       "    .dataframe thead th {\n",
       "        text-align: right;\n",
       "    }\n",
       "</style>\n",
       "<table border=\"1\" class=\"dataframe\">\n",
       "  <thead>\n",
       "    <tr style=\"text-align: right;\">\n",
       "      <th></th>\n",
       "      <th>id</th>\n",
       "      <th>diagnosis</th>\n",
       "      <th>radius_mean</th>\n",
       "      <th>texture_mean</th>\n",
       "      <th>perimeter_mean</th>\n",
       "      <th>area_mean</th>\n",
       "      <th>smoothness_mean</th>\n",
       "      <th>compactness_mean</th>\n",
       "      <th>concavity_mean</th>\n",
       "      <th>concave points_mean</th>\n",
       "      <th>...</th>\n",
       "      <th>radius_worst</th>\n",
       "      <th>texture_worst</th>\n",
       "      <th>perimeter_worst</th>\n",
       "      <th>area_worst</th>\n",
       "      <th>smoothness_worst</th>\n",
       "      <th>compactness_worst</th>\n",
       "      <th>concavity_worst</th>\n",
       "      <th>concave points_worst</th>\n",
       "      <th>symmetry_worst</th>\n",
       "      <th>fractal_dimension_worst</th>\n",
       "    </tr>\n",
       "  </thead>\n",
       "  <tbody>\n",
       "    <tr>\n",
       "      <th>0</th>\n",
       "      <td>842302</td>\n",
       "      <td>1</td>\n",
       "      <td>17.99</td>\n",
       "      <td>10.38</td>\n",
       "      <td>122.80</td>\n",
       "      <td>1001.0</td>\n",
       "      <td>0.11840</td>\n",
       "      <td>0.27760</td>\n",
       "      <td>0.3001</td>\n",
       "      <td>0.14710</td>\n",
       "      <td>...</td>\n",
       "      <td>25.38</td>\n",
       "      <td>17.33</td>\n",
       "      <td>184.60</td>\n",
       "      <td>2019.0</td>\n",
       "      <td>0.1622</td>\n",
       "      <td>0.6656</td>\n",
       "      <td>0.7119</td>\n",
       "      <td>0.2654</td>\n",
       "      <td>0.4601</td>\n",
       "      <td>0.11890</td>\n",
       "    </tr>\n",
       "    <tr>\n",
       "      <th>1</th>\n",
       "      <td>842517</td>\n",
       "      <td>1</td>\n",
       "      <td>20.57</td>\n",
       "      <td>17.77</td>\n",
       "      <td>132.90</td>\n",
       "      <td>1326.0</td>\n",
       "      <td>0.08474</td>\n",
       "      <td>0.07864</td>\n",
       "      <td>0.0869</td>\n",
       "      <td>0.07017</td>\n",
       "      <td>...</td>\n",
       "      <td>24.99</td>\n",
       "      <td>23.41</td>\n",
       "      <td>158.80</td>\n",
       "      <td>1956.0</td>\n",
       "      <td>0.1238</td>\n",
       "      <td>0.1866</td>\n",
       "      <td>0.2416</td>\n",
       "      <td>0.1860</td>\n",
       "      <td>0.2750</td>\n",
       "      <td>0.08902</td>\n",
       "    </tr>\n",
       "    <tr>\n",
       "      <th>2</th>\n",
       "      <td>84300903</td>\n",
       "      <td>1</td>\n",
       "      <td>19.69</td>\n",
       "      <td>21.25</td>\n",
       "      <td>130.00</td>\n",
       "      <td>1203.0</td>\n",
       "      <td>0.10960</td>\n",
       "      <td>0.15990</td>\n",
       "      <td>0.1974</td>\n",
       "      <td>0.12790</td>\n",
       "      <td>...</td>\n",
       "      <td>23.57</td>\n",
       "      <td>25.53</td>\n",
       "      <td>152.50</td>\n",
       "      <td>1709.0</td>\n",
       "      <td>0.1444</td>\n",
       "      <td>0.4245</td>\n",
       "      <td>0.4504</td>\n",
       "      <td>0.2430</td>\n",
       "      <td>0.3613</td>\n",
       "      <td>0.08758</td>\n",
       "    </tr>\n",
       "    <tr>\n",
       "      <th>3</th>\n",
       "      <td>84348301</td>\n",
       "      <td>1</td>\n",
       "      <td>11.42</td>\n",
       "      <td>20.38</td>\n",
       "      <td>77.58</td>\n",
       "      <td>386.1</td>\n",
       "      <td>0.14250</td>\n",
       "      <td>0.28390</td>\n",
       "      <td>0.2414</td>\n",
       "      <td>0.10520</td>\n",
       "      <td>...</td>\n",
       "      <td>14.91</td>\n",
       "      <td>26.50</td>\n",
       "      <td>98.87</td>\n",
       "      <td>567.7</td>\n",
       "      <td>0.2098</td>\n",
       "      <td>0.8663</td>\n",
       "      <td>0.6869</td>\n",
       "      <td>0.2575</td>\n",
       "      <td>0.6638</td>\n",
       "      <td>0.17300</td>\n",
       "    </tr>\n",
       "    <tr>\n",
       "      <th>4</th>\n",
       "      <td>84358402</td>\n",
       "      <td>1</td>\n",
       "      <td>20.29</td>\n",
       "      <td>14.34</td>\n",
       "      <td>135.10</td>\n",
       "      <td>1297.0</td>\n",
       "      <td>0.10030</td>\n",
       "      <td>0.13280</td>\n",
       "      <td>0.1980</td>\n",
       "      <td>0.10430</td>\n",
       "      <td>...</td>\n",
       "      <td>22.54</td>\n",
       "      <td>16.67</td>\n",
       "      <td>152.20</td>\n",
       "      <td>1575.0</td>\n",
       "      <td>0.1374</td>\n",
       "      <td>0.2050</td>\n",
       "      <td>0.4000</td>\n",
       "      <td>0.1625</td>\n",
       "      <td>0.2364</td>\n",
       "      <td>0.07678</td>\n",
       "    </tr>\n",
       "  </tbody>\n",
       "</table>\n",
       "<p>5 rows × 32 columns</p>\n",
       "</div>"
      ],
      "text/plain": [
       "         id  diagnosis  radius_mean  texture_mean  perimeter_mean  area_mean  \\\n",
       "0    842302          1        17.99         10.38          122.80     1001.0   \n",
       "1    842517          1        20.57         17.77          132.90     1326.0   \n",
       "2  84300903          1        19.69         21.25          130.00     1203.0   \n",
       "3  84348301          1        11.42         20.38           77.58      386.1   \n",
       "4  84358402          1        20.29         14.34          135.10     1297.0   \n",
       "\n",
       "   smoothness_mean  compactness_mean  concavity_mean  concave points_mean  \\\n",
       "0          0.11840           0.27760          0.3001              0.14710   \n",
       "1          0.08474           0.07864          0.0869              0.07017   \n",
       "2          0.10960           0.15990          0.1974              0.12790   \n",
       "3          0.14250           0.28390          0.2414              0.10520   \n",
       "4          0.10030           0.13280          0.1980              0.10430   \n",
       "\n",
       "   ...  radius_worst  texture_worst  perimeter_worst  area_worst  \\\n",
       "0  ...         25.38          17.33           184.60      2019.0   \n",
       "1  ...         24.99          23.41           158.80      1956.0   \n",
       "2  ...         23.57          25.53           152.50      1709.0   \n",
       "3  ...         14.91          26.50            98.87       567.7   \n",
       "4  ...         22.54          16.67           152.20      1575.0   \n",
       "\n",
       "   smoothness_worst  compactness_worst  concavity_worst  concave points_worst  \\\n",
       "0            0.1622             0.6656           0.7119                0.2654   \n",
       "1            0.1238             0.1866           0.2416                0.1860   \n",
       "2            0.1444             0.4245           0.4504                0.2430   \n",
       "3            0.2098             0.8663           0.6869                0.2575   \n",
       "4            0.1374             0.2050           0.4000                0.1625   \n",
       "\n",
       "   symmetry_worst  fractal_dimension_worst  \n",
       "0          0.4601                  0.11890  \n",
       "1          0.2750                  0.08902  \n",
       "2          0.3613                  0.08758  \n",
       "3          0.6638                  0.17300  \n",
       "4          0.2364                  0.07678  \n",
       "\n",
       "[5 rows x 32 columns]"
      ]
     },
     "execution_count": 81,
     "metadata": {},
     "output_type": "execute_result"
    }
   ],
   "source": [
    "breast_cancer.head()"
   ]
  },
  {
   "cell_type": "code",
   "execution_count": 82,
   "metadata": {},
   "outputs": [],
   "source": [
    "# importing standardizing library\n",
    "from sklearn.preprocessing import StandardScaler\n",
    "\n",
    "features = ['radius_mean', 'texture_mean', 'perimeter_mean', 'area_mean',\n",
    "       'smoothness_mean', 'compactness_mean', 'concavity_mean',\n",
    "       'concave points_mean', 'symmetry_mean', 'fractal_dimension_mean',\n",
    "       'radius_se', 'texture_se', 'perimeter_se', 'area_se',\n",
    "       'smoothness_se', 'compactness_se', 'concavity_se',\n",
    "       'concave points_se', 'symmetry_se',\n",
    "       'fractal_dimension_se', 'radius_worst', 'texture_worst',\n",
    "       'perimeter_worst', 'area_worst', 'smoothness_worst',\n",
    "       'compactness_worst', 'concavity_worst', 'concave points_worst',\n",
    "       'symmetry_worst', 'fractal_dimension_worst']\n",
    "\n",
    "# Separating out the features\n",
    "X2 = breast_cancer.loc[:, features].values\n",
    "\n",
    "# Separating out the target\n",
    "y2 = breast_cancer.loc[:,['diagnosis']].values\n",
    "\n",
    "# Standardizing the features\n",
    "X2 = StandardScaler().fit_transform(X)"
   ]
  },
  {
   "cell_type": "code",
   "execution_count": 54,
   "metadata": {},
   "outputs": [
    {
     "data": {
      "image/png": "[encoded data removed]",
      "text/plain": [
       "<Figure size 432x288 with 1 Axes>"
      ]
     },
     "metadata": {
      "needs_background": "light"
     },
     "output_type": "display_data"
    }
   ],
   "source": [
    "# plt.figure(figsize=(10,7))\n",
    "\n",
    "dendrogram = shc.dendrogram(shc.linkage(X2, method = \"ward\"))\n",
    "plt.title(\"Dendrogram\")\n",
    "plt.xlabel(\"Breast Cancer\")\n",
    "plt.ylabel(\"Euclidean distances\")\n",
    "plt.show()"
   ]
  },
  {
   "cell_type": "markdown",
   "metadata": {},
   "source": [
    "# Generating Hierarchical Clusters"
   ]
  },
  {
   "cell_type": "markdown",
   "metadata": {},
   "source": [
    "We look at the method and affinity that produce the best model results."
   ]
  },
  {
   "cell_type": "code",
   "execution_count": 55,
   "metadata": {},
   "outputs": [],
   "source": [
    "from sklearn.cluster import AgglomerativeClustering\n",
    "cluster = AgglomerativeClustering(n_clusters = 3, affinity = 'euclidean', linkage = 'ward')\n",
    "bc = cluster.fit_predict(X2)"
   ]
  },
  {
   "cell_type": "code",
   "execution_count": 56,
   "metadata": {},
   "outputs": [
    {
     "data": {
      "text/plain": [
       "0.33009721062922587"
      ]
     },
     "execution_count": 56,
     "metadata": {},
     "output_type": "execute_result"
    }
   ],
   "source": [
    "from sklearn.metrics import silhouette_score\n",
    "\n",
    "silhouette_score(X2, bc)"
   ]
  },
  {
   "cell_type": "code",
   "execution_count": 57,
   "metadata": {},
   "outputs": [
    {
     "data": {
      "text/plain": [
       "0.5450468576313827"
      ]
     },
     "execution_count": 57,
     "metadata": {},
     "output_type": "execute_result"
    }
   ],
   "source": [
    "cluster = AgglomerativeClustering(n_clusters = 3, affinity = 'euclidean', linkage = 'complete')\n",
    "bc = cluster.fit_predict(X2)\n",
    "silhouette_score(X2, bc)"
   ]
  },
  {
   "cell_type": "code",
   "execution_count": 58,
   "metadata": {},
   "outputs": [
    {
     "data": {
      "text/plain": [
       "0.5845870685563158"
      ]
     },
     "execution_count": 58,
     "metadata": {},
     "output_type": "execute_result"
    }
   ],
   "source": [
    "cluster = AgglomerativeClustering(n_clusters = 3, affinity = 'euclidean', linkage = 'average')\n",
    "bc = cluster.fit_predict(X2)\n",
    "silhouette_score(X2, bc)"
   ]
  },
  {
   "cell_type": "code",
   "execution_count": 59,
   "metadata": {},
   "outputs": [
    {
     "data": {
      "text/plain": [
       "0.4978165402639766"
      ]
     },
     "execution_count": 59,
     "metadata": {},
     "output_type": "execute_result"
    }
   ],
   "source": [
    "cluster = AgglomerativeClustering(n_clusters = 3, affinity = 'manhattan', linkage = 'average')\n",
    "bc = cluster.fit_predict(X2)\n",
    "silhouette_score(X2, bc)"
   ]
  },
  {
   "cell_type": "markdown",
   "metadata": {},
   "source": [
    "We observe that the model with affinity of euclidean and method of average produce the best model with higher results."
   ]
  }
 ],
 "metadata": {
  "kernelspec": {
   "display_name": "Python 3",
   "language": "python",
   "name": "python3"
  },
  "language_info": {
   "codemirror_mode": {
    "name": "ipython",
    "version": 3
   },
   "file_extension": ".py",
   "mimetype": "text/x-python",
   "name": "python",
   "nbconvert_exporter": "python",
   "pygments_lexer": "ipython3",
   "version": "3.7.4"
  }
 },
 "nbformat": 4,
 "nbformat_minor": 2
}
